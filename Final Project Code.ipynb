{
 "cells": [
  {
   "cell_type": "markdown",
   "metadata": {},
   "source": [
    "# Final Project Report"
   ]
  },
  {
   "cell_type": "markdown",
   "metadata": {},
   "source": [
    "# Data Sets\n",
    "\n",
    "The data is contained in three files:\n",
    "\n",
    "* portfolio.json - containing offer ids and meta data about each offer (duration, type, etc.)\n",
    "* profile.json - demographic data for each customer\n",
    "* transcript.json - records for transactions, offers received, offers viewed, and offers completed\n",
    "\n",
    "Here is the schema and explanation of each variable in the files:\n",
    "\n",
    "**portfolio.json**\n",
    "* id (string) - offer id\n",
    "* offer_type (string) - type of offer ie BOGO, discount, informational\n",
    "* difficulty (int) - minimum required spend to complete an offer\n",
    "* reward (int) - reward given for completing an offer\n",
    "* duration (int) - time for offer to be open, in days\n",
    "* channels (list of strings)\n",
    "\n",
    "**profile.json**\n",
    "* age (int) - age of the customer \n",
    "* became_member_on (int) - date when customer created an app account\n",
    "* gender (str) - gender of the customer (note some entries contain 'O' for other rather than M or F)\n",
    "* id (str) - customer id\n",
    "* income (float) - customer's income\n",
    "\n",
    "**transcript.json**\n",
    "* event (str) - record description (ie transaction, offer received, offer viewed, etc.)\n",
    "* person (str) - customer id\n",
    "* time (int) - time in hours since start of test. The data begins at time t=0\n",
    "* value - (dict of strings) - either an offer id or transaction amount depending on the record\n",
    "\n",
    "\n"
   ]
  },
  {
   "cell_type": "code",
   "execution_count": 152,
   "metadata": {},
   "outputs": [],
   "source": [
    "import pandas as pd\n",
    "import numpy as np\n",
    "import math\n",
    "import json\n",
    "import seaborn as sns\n",
    "\n",
    "#% matplotlib inline\n",
    "\n"
   ]
  },
  {
   "cell_type": "code",
   "execution_count": 153,
   "metadata": {},
   "outputs": [],
   "source": [
    "# read in the json files\n",
    "portfolio = pd.read_json('data/portfolio.json', orient='records', lines=True)\n",
    "profile = pd.read_json('data/profile.json', orient='records', lines=True)\n",
    "transcript = pd.read_json('data/transcript.json', orient='records', lines=True)"
   ]
  },
  {
   "cell_type": "markdown",
   "metadata": {},
   "source": [
    "## Data Exploration"
   ]
  },
  {
   "cell_type": "markdown",
   "metadata": {},
   "source": [
    "### Data Exploration - transcript.json"
   ]
  },
  {
   "cell_type": "code",
   "execution_count": 154,
   "metadata": {},
   "outputs": [
    {
     "data": {
      "text/html": [
       "<div>\n",
       "<style scoped>\n",
       "    .dataframe tbody tr th:only-of-type {\n",
       "        vertical-align: middle;\n",
       "    }\n",
       "\n",
       "    .dataframe tbody tr th {\n",
       "        vertical-align: top;\n",
       "    }\n",
       "\n",
       "    .dataframe thead th {\n",
       "        text-align: right;\n",
       "    }\n",
       "</style>\n",
       "<table border=\"1\" class=\"dataframe\">\n",
       "  <thead>\n",
       "    <tr style=\"text-align: right;\">\n",
       "      <th></th>\n",
       "      <th>time</th>\n",
       "    </tr>\n",
       "  </thead>\n",
       "  <tbody>\n",
       "    <tr>\n",
       "      <th>count</th>\n",
       "      <td>306534.000000</td>\n",
       "    </tr>\n",
       "    <tr>\n",
       "      <th>mean</th>\n",
       "      <td>366.382940</td>\n",
       "    </tr>\n",
       "    <tr>\n",
       "      <th>std</th>\n",
       "      <td>200.326314</td>\n",
       "    </tr>\n",
       "    <tr>\n",
       "      <th>min</th>\n",
       "      <td>0.000000</td>\n",
       "    </tr>\n",
       "    <tr>\n",
       "      <th>25%</th>\n",
       "      <td>186.000000</td>\n",
       "    </tr>\n",
       "    <tr>\n",
       "      <th>50%</th>\n",
       "      <td>408.000000</td>\n",
       "    </tr>\n",
       "    <tr>\n",
       "      <th>75%</th>\n",
       "      <td>528.000000</td>\n",
       "    </tr>\n",
       "    <tr>\n",
       "      <th>max</th>\n",
       "      <td>714.000000</td>\n",
       "    </tr>\n",
       "  </tbody>\n",
       "</table>\n",
       "</div>"
      ],
      "text/plain": [
       "                time\n",
       "count  306534.000000\n",
       "mean      366.382940\n",
       "std       200.326314\n",
       "min         0.000000\n",
       "25%       186.000000\n",
       "50%       408.000000\n",
       "75%       528.000000\n",
       "max       714.000000"
      ]
     },
     "execution_count": 154,
     "metadata": {},
     "output_type": "execute_result"
    }
   ],
   "source": [
    "transcript.describe()"
   ]
  },
  {
   "cell_type": "markdown",
   "metadata": {},
   "source": [
    "`time` is irrelevant to our data."
   ]
  },
  {
   "cell_type": "code",
   "execution_count": 155,
   "metadata": {},
   "outputs": [
    {
     "data": {
      "text/plain": [
       "(306534, 4)"
      ]
     },
     "execution_count": 155,
     "metadata": {},
     "output_type": "execute_result"
    }
   ],
   "source": [
    "transcript.shape"
   ]
  },
  {
   "cell_type": "code",
   "execution_count": 156,
   "metadata": {},
   "outputs": [
    {
     "data": {
      "text/plain": [
       "Index(['person', 'event', 'value', 'time'], dtype='object')"
      ]
     },
     "execution_count": 156,
     "metadata": {},
     "output_type": "execute_result"
    }
   ],
   "source": [
    "transcript.columns"
   ]
  },
  {
   "cell_type": "code",
   "execution_count": 157,
   "metadata": {},
   "outputs": [
    {
     "data": {
      "text/html": [
       "<div>\n",
       "<style scoped>\n",
       "    .dataframe tbody tr th:only-of-type {\n",
       "        vertical-align: middle;\n",
       "    }\n",
       "\n",
       "    .dataframe tbody tr th {\n",
       "        vertical-align: top;\n",
       "    }\n",
       "\n",
       "    .dataframe thead th {\n",
       "        text-align: right;\n",
       "    }\n",
       "</style>\n",
       "<table border=\"1\" class=\"dataframe\">\n",
       "  <thead>\n",
       "    <tr style=\"text-align: right;\">\n",
       "      <th></th>\n",
       "      <th>person</th>\n",
       "      <th>event</th>\n",
       "      <th>value</th>\n",
       "      <th>time</th>\n",
       "    </tr>\n",
       "  </thead>\n",
       "  <tbody>\n",
       "    <tr>\n",
       "      <th>0</th>\n",
       "      <td>78afa995795e4d85b5d9ceeca43f5fef</td>\n",
       "      <td>offer received</td>\n",
       "      <td>{'offer id': '9b98b8c7a33c4b65b9aebfe6a799e6d9'}</td>\n",
       "      <td>0</td>\n",
       "    </tr>\n",
       "    <tr>\n",
       "      <th>1</th>\n",
       "      <td>a03223e636434f42ac4c3df47e8bac43</td>\n",
       "      <td>offer received</td>\n",
       "      <td>{'offer id': '0b1e1539f2cc45b7b9fa7c272da2e1d7'}</td>\n",
       "      <td>0</td>\n",
       "    </tr>\n",
       "    <tr>\n",
       "      <th>2</th>\n",
       "      <td>e2127556f4f64592b11af22de27a7932</td>\n",
       "      <td>offer received</td>\n",
       "      <td>{'offer id': '2906b810c7d4411798c6938adc9daaa5'}</td>\n",
       "      <td>0</td>\n",
       "    </tr>\n",
       "    <tr>\n",
       "      <th>3</th>\n",
       "      <td>8ec6ce2a7e7949b1bf142def7d0e0586</td>\n",
       "      <td>offer received</td>\n",
       "      <td>{'offer id': 'fafdcd668e3743c1bb461111dcafc2a4'}</td>\n",
       "      <td>0</td>\n",
       "    </tr>\n",
       "    <tr>\n",
       "      <th>4</th>\n",
       "      <td>68617ca6246f4fbc85e91a2a49552598</td>\n",
       "      <td>offer received</td>\n",
       "      <td>{'offer id': '4d5c57ea9a6940dd891ad53e9dbe8da0'}</td>\n",
       "      <td>0</td>\n",
       "    </tr>\n",
       "    <tr>\n",
       "      <th>5</th>\n",
       "      <td>389bc3fa690240e798340f5a15918d5c</td>\n",
       "      <td>offer received</td>\n",
       "      <td>{'offer id': 'f19421c1d4aa40978ebb69ca19b0e20d'}</td>\n",
       "      <td>0</td>\n",
       "    </tr>\n",
       "    <tr>\n",
       "      <th>6</th>\n",
       "      <td>c4863c7985cf408faee930f111475da3</td>\n",
       "      <td>offer received</td>\n",
       "      <td>{'offer id': '2298d6c36e964ae4a3e7e9706d1fb8c2'}</td>\n",
       "      <td>0</td>\n",
       "    </tr>\n",
       "    <tr>\n",
       "      <th>7</th>\n",
       "      <td>2eeac8d8feae4a8cad5a6af0499a211d</td>\n",
       "      <td>offer received</td>\n",
       "      <td>{'offer id': '3f207df678b143eea3cee63160fa8bed'}</td>\n",
       "      <td>0</td>\n",
       "    </tr>\n",
       "    <tr>\n",
       "      <th>8</th>\n",
       "      <td>aa4862eba776480b8bb9c68455b8c2e1</td>\n",
       "      <td>offer received</td>\n",
       "      <td>{'offer id': '0b1e1539f2cc45b7b9fa7c272da2e1d7'}</td>\n",
       "      <td>0</td>\n",
       "    </tr>\n",
       "    <tr>\n",
       "      <th>9</th>\n",
       "      <td>31dda685af34476cad5bc968bdb01c53</td>\n",
       "      <td>offer received</td>\n",
       "      <td>{'offer id': '0b1e1539f2cc45b7b9fa7c272da2e1d7'}</td>\n",
       "      <td>0</td>\n",
       "    </tr>\n",
       "  </tbody>\n",
       "</table>\n",
       "</div>"
      ],
      "text/plain": [
       "                             person           event  \\\n",
       "0  78afa995795e4d85b5d9ceeca43f5fef  offer received   \n",
       "1  a03223e636434f42ac4c3df47e8bac43  offer received   \n",
       "2  e2127556f4f64592b11af22de27a7932  offer received   \n",
       "3  8ec6ce2a7e7949b1bf142def7d0e0586  offer received   \n",
       "4  68617ca6246f4fbc85e91a2a49552598  offer received   \n",
       "5  389bc3fa690240e798340f5a15918d5c  offer received   \n",
       "6  c4863c7985cf408faee930f111475da3  offer received   \n",
       "7  2eeac8d8feae4a8cad5a6af0499a211d  offer received   \n",
       "8  aa4862eba776480b8bb9c68455b8c2e1  offer received   \n",
       "9  31dda685af34476cad5bc968bdb01c53  offer received   \n",
       "\n",
       "                                              value  time  \n",
       "0  {'offer id': '9b98b8c7a33c4b65b9aebfe6a799e6d9'}     0  \n",
       "1  {'offer id': '0b1e1539f2cc45b7b9fa7c272da2e1d7'}     0  \n",
       "2  {'offer id': '2906b810c7d4411798c6938adc9daaa5'}     0  \n",
       "3  {'offer id': 'fafdcd668e3743c1bb461111dcafc2a4'}     0  \n",
       "4  {'offer id': '4d5c57ea9a6940dd891ad53e9dbe8da0'}     0  \n",
       "5  {'offer id': 'f19421c1d4aa40978ebb69ca19b0e20d'}     0  \n",
       "6  {'offer id': '2298d6c36e964ae4a3e7e9706d1fb8c2'}     0  \n",
       "7  {'offer id': '3f207df678b143eea3cee63160fa8bed'}     0  \n",
       "8  {'offer id': '0b1e1539f2cc45b7b9fa7c272da2e1d7'}     0  \n",
       "9  {'offer id': '0b1e1539f2cc45b7b9fa7c272da2e1d7'}     0  "
      ]
     },
     "execution_count": 157,
     "metadata": {},
     "output_type": "execute_result"
    }
   ],
   "source": [
    "transcript.head(10)"
   ]
  },
  {
   "cell_type": "code",
   "execution_count": 158,
   "metadata": {},
   "outputs": [
    {
     "data": {
      "text/plain": [
       "<matplotlib.axes._subplots.AxesSubplot at 0x1a18929110>"
      ]
     },
     "execution_count": 158,
     "metadata": {},
     "output_type": "execute_result"
    },
    {
     "data": {
      "image/png": "[encoded data removed]",
      "text/plain": [
       "<Figure size 2304x495 with 1 Axes>"
      ]
     },
     "metadata": {
      "needs_background": "light"
     },
     "output_type": "display_data"
    }
   ],
   "source": [
    "import six\n",
    "import matplotlib.pyplot as plt\n",
    "# function to turn Dataframe into a table image\n",
    "def render_mpl_table(data, col_width=3.0, row_height=0.625, font_size=14,\n",
    "                     header_color='#40466e', row_colors=['#f1f1f2', 'w'], edge_color='w',\n",
    "                     bbox=[0, 0, 1, 1], header_columns=0,\n",
    "                     ax=None, **kwargs):\n",
    "    if ax is None:\n",
    "        size = (np.array(data.shape[::-1]) + np.array([0, 1])) * np.array([col_width, row_height])\n",
    "        fig, ax = plt.subplots(figsize=size)\n",
    "        ax.axis('off')\n",
    "\n",
    "    mpl_table = ax.table(cellText=data.values, bbox=bbox, colLabels=data.columns, **kwargs)\n",
    "\n",
    "    mpl_table.auto_set_font_size(False)\n",
    "    mpl_table.set_fontsize(font_size)\n",
    "\n",
    "    for k, cell in six.iteritems(mpl_table._cells):\n",
    "        cell.set_edgecolor(edge_color)\n",
    "        if k[0] == 0 or k[1] < header_columns:\n",
    "            cell.set_text_props(weight='bold', color='w')\n",
    "            cell.set_facecolor(header_color)\n",
    "        else:\n",
    "            cell.set_facecolor(row_colors[k[0]%len(row_colors) ])\n",
    "    return ax\n",
    "\n",
    "render_mpl_table(transcript.head(10), header_columns=0, col_width=8)"
   ]
  },
  {
   "cell_type": "code",
   "execution_count": 159,
   "metadata": {},
   "outputs": [
    {
     "name": "stdout",
     "output_type": "stream",
     "text": [
      "                time\n",
      "count  306534.000000\n",
      "mean      366.382940\n",
      "std       200.326314\n",
      "min         0.000000\n",
      "25%       186.000000\n",
      "50%       408.000000\n",
      "75%       528.000000\n",
      "max       714.000000\n"
     ]
    }
   ],
   "source": [
    "#descriptive statistics summary\n",
    "print(transcript.describe())"
   ]
  },
  {
   "cell_type": "code",
   "execution_count": 160,
   "metadata": {},
   "outputs": [
    {
     "data": {
      "text/plain": [
       "array(['offer received', 'offer viewed', 'transaction', 'offer completed'],\n",
       "      dtype=object)"
      ]
     },
     "execution_count": 160,
     "metadata": {},
     "output_type": "execute_result"
    }
   ],
   "source": [
    "transcript['event'].unique()"
   ]
  },
  {
   "cell_type": "markdown",
   "metadata": {},
   "source": [
    "We can see that there are 4 unique events in transcript dataset: 'offer received', 'offer viewed', 'transaction', 'offer completed'"
   ]
  },
  {
   "cell_type": "code",
   "execution_count": 161,
   "metadata": {},
   "outputs": [
    {
     "data": {
      "text/plain": [
       "'offer received'"
      ]
     },
     "metadata": {},
     "output_type": "display_data"
    },
    {
     "data": {
      "text/html": [
       "<div>\n",
       "<style scoped>\n",
       "    .dataframe tbody tr th:only-of-type {\n",
       "        vertical-align: middle;\n",
       "    }\n",
       "\n",
       "    .dataframe tbody tr th {\n",
       "        vertical-align: top;\n",
       "    }\n",
       "\n",
       "    .dataframe thead th {\n",
       "        text-align: right;\n",
       "    }\n",
       "</style>\n",
       "<table border=\"1\" class=\"dataframe\">\n",
       "  <thead>\n",
       "    <tr style=\"text-align: right;\">\n",
       "      <th></th>\n",
       "      <th>person</th>\n",
       "      <th>event</th>\n",
       "      <th>value</th>\n",
       "      <th>time</th>\n",
       "    </tr>\n",
       "  </thead>\n",
       "  <tbody>\n",
       "    <tr>\n",
       "      <th>0</th>\n",
       "      <td>78afa995795e4d85b5d9ceeca43f5fef</td>\n",
       "      <td>offer received</td>\n",
       "      <td>{'offer id': '9b98b8c7a33c4b65b9aebfe6a799e6d9'}</td>\n",
       "      <td>0</td>\n",
       "    </tr>\n",
       "    <tr>\n",
       "      <th>1</th>\n",
       "      <td>a03223e636434f42ac4c3df47e8bac43</td>\n",
       "      <td>offer received</td>\n",
       "      <td>{'offer id': '0b1e1539f2cc45b7b9fa7c272da2e1d7'}</td>\n",
       "      <td>0</td>\n",
       "    </tr>\n",
       "    <tr>\n",
       "      <th>2</th>\n",
       "      <td>e2127556f4f64592b11af22de27a7932</td>\n",
       "      <td>offer received</td>\n",
       "      <td>{'offer id': '2906b810c7d4411798c6938adc9daaa5'}</td>\n",
       "      <td>0</td>\n",
       "    </tr>\n",
       "    <tr>\n",
       "      <th>3</th>\n",
       "      <td>8ec6ce2a7e7949b1bf142def7d0e0586</td>\n",
       "      <td>offer received</td>\n",
       "      <td>{'offer id': 'fafdcd668e3743c1bb461111dcafc2a4'}</td>\n",
       "      <td>0</td>\n",
       "    </tr>\n",
       "    <tr>\n",
       "      <th>4</th>\n",
       "      <td>68617ca6246f4fbc85e91a2a49552598</td>\n",
       "      <td>offer received</td>\n",
       "      <td>{'offer id': '4d5c57ea9a6940dd891ad53e9dbe8da0'}</td>\n",
       "      <td>0</td>\n",
       "    </tr>\n",
       "  </tbody>\n",
       "</table>\n",
       "</div>"
      ],
      "text/plain": [
       "                             person           event  \\\n",
       "0  78afa995795e4d85b5d9ceeca43f5fef  offer received   \n",
       "1  a03223e636434f42ac4c3df47e8bac43  offer received   \n",
       "2  e2127556f4f64592b11af22de27a7932  offer received   \n",
       "3  8ec6ce2a7e7949b1bf142def7d0e0586  offer received   \n",
       "4  68617ca6246f4fbc85e91a2a49552598  offer received   \n",
       "\n",
       "                                              value  time  \n",
       "0  {'offer id': '9b98b8c7a33c4b65b9aebfe6a799e6d9'}     0  \n",
       "1  {'offer id': '0b1e1539f2cc45b7b9fa7c272da2e1d7'}     0  \n",
       "2  {'offer id': '2906b810c7d4411798c6938adc9daaa5'}     0  \n",
       "3  {'offer id': 'fafdcd668e3743c1bb461111dcafc2a4'}     0  \n",
       "4  {'offer id': '4d5c57ea9a6940dd891ad53e9dbe8da0'}     0  "
      ]
     },
     "metadata": {},
     "output_type": "display_data"
    },
    {
     "data": {
      "text/plain": [
       "'offer viewed'"
      ]
     },
     "metadata": {},
     "output_type": "display_data"
    },
    {
     "data": {
      "text/html": [
       "<div>\n",
       "<style scoped>\n",
       "    .dataframe tbody tr th:only-of-type {\n",
       "        vertical-align: middle;\n",
       "    }\n",
       "\n",
       "    .dataframe tbody tr th {\n",
       "        vertical-align: top;\n",
       "    }\n",
       "\n",
       "    .dataframe thead th {\n",
       "        text-align: right;\n",
       "    }\n",
       "</style>\n",
       "<table border=\"1\" class=\"dataframe\">\n",
       "  <thead>\n",
       "    <tr style=\"text-align: right;\">\n",
       "      <th></th>\n",
       "      <th>person</th>\n",
       "      <th>event</th>\n",
       "      <th>value</th>\n",
       "      <th>time</th>\n",
       "    </tr>\n",
       "  </thead>\n",
       "  <tbody>\n",
       "    <tr>\n",
       "      <th>12650</th>\n",
       "      <td>389bc3fa690240e798340f5a15918d5c</td>\n",
       "      <td>offer viewed</td>\n",
       "      <td>{'offer id': 'f19421c1d4aa40978ebb69ca19b0e20d'}</td>\n",
       "      <td>0</td>\n",
       "    </tr>\n",
       "    <tr>\n",
       "      <th>12651</th>\n",
       "      <td>d1ede868e29245ea91818a903fec04c6</td>\n",
       "      <td>offer viewed</td>\n",
       "      <td>{'offer id': '5a8bc65990b245e5a138643cd4eb9837'}</td>\n",
       "      <td>0</td>\n",
       "    </tr>\n",
       "    <tr>\n",
       "      <th>12652</th>\n",
       "      <td>102e9454054946fda62242d2e176fdce</td>\n",
       "      <td>offer viewed</td>\n",
       "      <td>{'offer id': '4d5c57ea9a6940dd891ad53e9dbe8da0'}</td>\n",
       "      <td>0</td>\n",
       "    </tr>\n",
       "    <tr>\n",
       "      <th>12653</th>\n",
       "      <td>02c083884c7d45b39cc68e1314fec56c</td>\n",
       "      <td>offer viewed</td>\n",
       "      <td>{'offer id': 'ae264e3637204a6fb9bb56bc8210ddfd'}</td>\n",
       "      <td>0</td>\n",
       "    </tr>\n",
       "    <tr>\n",
       "      <th>12655</th>\n",
       "      <td>be8a5d1981a2458d90b255ddc7e0d174</td>\n",
       "      <td>offer viewed</td>\n",
       "      <td>{'offer id': '5a8bc65990b245e5a138643cd4eb9837'}</td>\n",
       "      <td>0</td>\n",
       "    </tr>\n",
       "  </tbody>\n",
       "</table>\n",
       "</div>"
      ],
      "text/plain": [
       "                                 person         event  \\\n",
       "12650  389bc3fa690240e798340f5a15918d5c  offer viewed   \n",
       "12651  d1ede868e29245ea91818a903fec04c6  offer viewed   \n",
       "12652  102e9454054946fda62242d2e176fdce  offer viewed   \n",
       "12653  02c083884c7d45b39cc68e1314fec56c  offer viewed   \n",
       "12655  be8a5d1981a2458d90b255ddc7e0d174  offer viewed   \n",
       "\n",
       "                                                  value  time  \n",
       "12650  {'offer id': 'f19421c1d4aa40978ebb69ca19b0e20d'}     0  \n",
       "12651  {'offer id': '5a8bc65990b245e5a138643cd4eb9837'}     0  \n",
       "12652  {'offer id': '4d5c57ea9a6940dd891ad53e9dbe8da0'}     0  \n",
       "12653  {'offer id': 'ae264e3637204a6fb9bb56bc8210ddfd'}     0  \n",
       "12655  {'offer id': '5a8bc65990b245e5a138643cd4eb9837'}     0  "
      ]
     },
     "metadata": {},
     "output_type": "display_data"
    },
    {
     "data": {
      "text/plain": [
       "'transaction'"
      ]
     },
     "metadata": {},
     "output_type": "display_data"
    },
    {
     "data": {
      "text/html": [
       "<div>\n",
       "<style scoped>\n",
       "    .dataframe tbody tr th:only-of-type {\n",
       "        vertical-align: middle;\n",
       "    }\n",
       "\n",
       "    .dataframe tbody tr th {\n",
       "        vertical-align: top;\n",
       "    }\n",
       "\n",
       "    .dataframe thead th {\n",
       "        text-align: right;\n",
       "    }\n",
       "</style>\n",
       "<table border=\"1\" class=\"dataframe\">\n",
       "  <thead>\n",
       "    <tr style=\"text-align: right;\">\n",
       "      <th></th>\n",
       "      <th>person</th>\n",
       "      <th>event</th>\n",
       "      <th>value</th>\n",
       "      <th>time</th>\n",
       "    </tr>\n",
       "  </thead>\n",
       "  <tbody>\n",
       "    <tr>\n",
       "      <th>12654</th>\n",
       "      <td>02c083884c7d45b39cc68e1314fec56c</td>\n",
       "      <td>transaction</td>\n",
       "      <td>{'amount': 0.8300000000000001}</td>\n",
       "      <td>0</td>\n",
       "    </tr>\n",
       "    <tr>\n",
       "      <th>12657</th>\n",
       "      <td>9fa9ae8f57894cc9a3b8a9bbe0fc1b2f</td>\n",
       "      <td>transaction</td>\n",
       "      <td>{'amount': 34.56}</td>\n",
       "      <td>0</td>\n",
       "    </tr>\n",
       "    <tr>\n",
       "      <th>12659</th>\n",
       "      <td>54890f68699049c2a04d415abc25e717</td>\n",
       "      <td>transaction</td>\n",
       "      <td>{'amount': 13.23}</td>\n",
       "      <td>0</td>\n",
       "    </tr>\n",
       "    <tr>\n",
       "      <th>12670</th>\n",
       "      <td>b2f1cd155b864803ad8334cdf13c4bd2</td>\n",
       "      <td>transaction</td>\n",
       "      <td>{'amount': 19.51}</td>\n",
       "      <td>0</td>\n",
       "    </tr>\n",
       "    <tr>\n",
       "      <th>12671</th>\n",
       "      <td>fe97aa22dd3e48c8b143116a8403dd52</td>\n",
       "      <td>transaction</td>\n",
       "      <td>{'amount': 18.97}</td>\n",
       "      <td>0</td>\n",
       "    </tr>\n",
       "  </tbody>\n",
       "</table>\n",
       "</div>"
      ],
      "text/plain": [
       "                                 person        event  \\\n",
       "12654  02c083884c7d45b39cc68e1314fec56c  transaction   \n",
       "12657  9fa9ae8f57894cc9a3b8a9bbe0fc1b2f  transaction   \n",
       "12659  54890f68699049c2a04d415abc25e717  transaction   \n",
       "12670  b2f1cd155b864803ad8334cdf13c4bd2  transaction   \n",
       "12671  fe97aa22dd3e48c8b143116a8403dd52  transaction   \n",
       "\n",
       "                                value  time  \n",
       "12654  {'amount': 0.8300000000000001}     0  \n",
       "12657               {'amount': 34.56}     0  \n",
       "12659               {'amount': 13.23}     0  \n",
       "12670               {'amount': 19.51}     0  \n",
       "12671               {'amount': 18.97}     0  "
      ]
     },
     "metadata": {},
     "output_type": "display_data"
    },
    {
     "data": {
      "text/plain": [
       "'offer completed'"
      ]
     },
     "metadata": {},
     "output_type": "display_data"
    },
    {
     "data": {
      "text/html": [
       "<div>\n",
       "<style scoped>\n",
       "    .dataframe tbody tr th:only-of-type {\n",
       "        vertical-align: middle;\n",
       "    }\n",
       "\n",
       "    .dataframe tbody tr th {\n",
       "        vertical-align: top;\n",
       "    }\n",
       "\n",
       "    .dataframe thead th {\n",
       "        text-align: right;\n",
       "    }\n",
       "</style>\n",
       "<table border=\"1\" class=\"dataframe\">\n",
       "  <thead>\n",
       "    <tr style=\"text-align: right;\">\n",
       "      <th></th>\n",
       "      <th>person</th>\n",
       "      <th>event</th>\n",
       "      <th>value</th>\n",
       "      <th>time</th>\n",
       "    </tr>\n",
       "  </thead>\n",
       "  <tbody>\n",
       "    <tr>\n",
       "      <th>12658</th>\n",
       "      <td>9fa9ae8f57894cc9a3b8a9bbe0fc1b2f</td>\n",
       "      <td>offer completed</td>\n",
       "      <td>{'offer_id': '2906b810c7d4411798c6938adc9daaa5...</td>\n",
       "      <td>0</td>\n",
       "    </tr>\n",
       "    <tr>\n",
       "      <th>12672</th>\n",
       "      <td>fe97aa22dd3e48c8b143116a8403dd52</td>\n",
       "      <td>offer completed</td>\n",
       "      <td>{'offer_id': 'fafdcd668e3743c1bb461111dcafc2a4...</td>\n",
       "      <td>0</td>\n",
       "    </tr>\n",
       "    <tr>\n",
       "      <th>12679</th>\n",
       "      <td>629fc02d56414d91bca360decdfa9288</td>\n",
       "      <td>offer completed</td>\n",
       "      <td>{'offer_id': '9b98b8c7a33c4b65b9aebfe6a799e6d9...</td>\n",
       "      <td>0</td>\n",
       "    </tr>\n",
       "    <tr>\n",
       "      <th>12692</th>\n",
       "      <td>676506bad68e4161b9bbaffeb039626b</td>\n",
       "      <td>offer completed</td>\n",
       "      <td>{'offer_id': 'ae264e3637204a6fb9bb56bc8210ddfd...</td>\n",
       "      <td>0</td>\n",
       "    </tr>\n",
       "    <tr>\n",
       "      <th>12697</th>\n",
       "      <td>8f7dd3b2afe14c078eb4f6e6fe4ba97d</td>\n",
       "      <td>offer completed</td>\n",
       "      <td>{'offer_id': '4d5c57ea9a6940dd891ad53e9dbe8da0...</td>\n",
       "      <td>0</td>\n",
       "    </tr>\n",
       "  </tbody>\n",
       "</table>\n",
       "</div>"
      ],
      "text/plain": [
       "                                 person            event  \\\n",
       "12658  9fa9ae8f57894cc9a3b8a9bbe0fc1b2f  offer completed   \n",
       "12672  fe97aa22dd3e48c8b143116a8403dd52  offer completed   \n",
       "12679  629fc02d56414d91bca360decdfa9288  offer completed   \n",
       "12692  676506bad68e4161b9bbaffeb039626b  offer completed   \n",
       "12697  8f7dd3b2afe14c078eb4f6e6fe4ba97d  offer completed   \n",
       "\n",
       "                                                   value  time  \n",
       "12658  {'offer_id': '2906b810c7d4411798c6938adc9daaa5...     0  \n",
       "12672  {'offer_id': 'fafdcd668e3743c1bb461111dcafc2a4...     0  \n",
       "12679  {'offer_id': '9b98b8c7a33c4b65b9aebfe6a799e6d9...     0  \n",
       "12692  {'offer_id': 'ae264e3637204a6fb9bb56bc8210ddfd...     0  \n",
       "12697  {'offer_id': '4d5c57ea9a6940dd891ad53e9dbe8da0...     0  "
      ]
     },
     "metadata": {},
     "output_type": "display_data"
    }
   ],
   "source": [
    "for event in transcript['event'].unique():\n",
    "    display(event, transcript.loc[transcript['event'] == event].head())"
   ]
  },
  {
   "cell_type": "code",
   "execution_count": 162,
   "metadata": {},
   "outputs": [
    {
     "name": "stdout",
     "output_type": "stream",
     "text": [
      "                                  person            event  \\\n",
      "12658   9fa9ae8f57894cc9a3b8a9bbe0fc1b2f  offer completed   \n",
      "12672   fe97aa22dd3e48c8b143116a8403dd52  offer completed   \n",
      "12679   629fc02d56414d91bca360decdfa9288  offer completed   \n",
      "12692   676506bad68e4161b9bbaffeb039626b  offer completed   \n",
      "12697   8f7dd3b2afe14c078eb4f6e6fe4ba97d  offer completed   \n",
      "...                                  ...              ...   \n",
      "306475  0c027f5f34dd4b9eba0a25785c611273  offer completed   \n",
      "306497  a6f84f4e976f44508c358cc9aba6d2b3  offer completed   \n",
      "306506  b895c57e8cd047a8872ce02aa54759d6  offer completed   \n",
      "306509  8431c16f8e1d440880db371a68f82dd0  offer completed   \n",
      "306527  24f56b5e1849462093931b164eb803b5  offer completed   \n",
      "\n",
      "                                                    value  time  \n",
      "12658   {'offer_id': '2906b810c7d4411798c6938adc9daaa5...     0  \n",
      "12672   {'offer_id': 'fafdcd668e3743c1bb461111dcafc2a4...     0  \n",
      "12679   {'offer_id': '9b98b8c7a33c4b65b9aebfe6a799e6d9...     0  \n",
      "12692   {'offer_id': 'ae264e3637204a6fb9bb56bc8210ddfd...     0  \n",
      "12697   {'offer_id': '4d5c57ea9a6940dd891ad53e9dbe8da0...     0  \n",
      "...                                                   ...   ...  \n",
      "306475  {'offer_id': '2298d6c36e964ae4a3e7e9706d1fb8c2...   714  \n",
      "306497  {'offer_id': '2298d6c36e964ae4a3e7e9706d1fb8c2...   714  \n",
      "306506  {'offer_id': 'fafdcd668e3743c1bb461111dcafc2a4...   714  \n",
      "306509  {'offer_id': 'fafdcd668e3743c1bb461111dcafc2a4...   714  \n",
      "306527  {'offer_id': 'fafdcd668e3743c1bb461111dcafc2a4...   714  \n",
      "\n",
      "[33579 rows x 4 columns]\n"
     ]
    }
   ],
   "source": [
    "# display the data where offers are completed\n",
    "print(transcript[transcript['event'] == 'offer completed'] )"
   ]
  },
  {
   "cell_type": "markdown",
   "metadata": {},
   "source": [
    "#### Obtain the Transactional Information where Offers are Viewed and Completed"
   ]
  },
  {
   "cell_type": "code",
   "execution_count": 163,
   "metadata": {},
   "outputs": [
    {
     "name": "stderr",
     "output_type": "stream",
     "text": [
      "/Users/mengjialyu/opt/anaconda3/lib/python3.7/site-packages/ipykernel_launcher.py:15: FutureWarning: pandas.io.json.json_normalize is deprecated, use pandas.json_normalize instead\n",
      "  from ipykernel import kernelapp as app\n"
     ]
    }
   ],
   "source": [
    "\n",
    "\n",
    "transcript_offer_viewed = transcript.loc[transcript['event'] == 'offer viewed']\n",
    "\n",
    "transcript_offer_completed = transcript.loc[transcript['event'] == 'offer completed']\n",
    "\n",
    "temp_df = pd.DataFrame.from_records(transcript_offer_viewed.value.values.tolist()).stack().reset_index()\n",
    "temp_df = temp_df.drop(['level_0', 'level_1'], axis=1)\n",
    "temp_df.columns = ['offer_id']\n",
    "# tease out the part where offers are viewed\n",
    "transcript_offer_viewed = transcript_offer_viewed.reset_index(drop=True)\n",
    "transcript_offer_viewed = transcript_offer_viewed.join(temp_df)\n",
    "transcript_offer_viewed = transcript_offer_viewed.drop(['value','event', 'time'], axis=1)\n",
    "\n",
    "\n",
    "from pandas.io.json import json_normalize\n",
    "temp_df = json_normalize(transcript_offer_completed['value'])\n",
    "# gather  the part where offers are completed\n",
    "transcript_offer_completed = transcript_offer_completed.reset_index(drop=True)\n",
    "transcript_offer_completed = transcript_offer_completed.join(temp_df)\n",
    "transcript_offer_completed = transcript_offer_completed.drop(['value','event','time'], axis=1)\n",
    "\n",
    "\n"
   ]
  },
  {
   "cell_type": "code",
   "execution_count": 164,
   "metadata": {},
   "outputs": [],
   "source": [
    "# merge the two datasets transcript_offer_viewed & transcript_offer_completed\n",
    "# gather the dataset where offers are viewed and completed\n",
    "transcript_offer_viewed_completed = pd.merge(transcript_offer_viewed, transcript_offer_completed, on=['offer_id','person'], how='inner')"
   ]
  },
  {
   "cell_type": "markdown",
   "metadata": {},
   "source": [
    "#### Obtain the Transactional Information where Offers are Viewed and Not Completed"
   ]
  },
  {
   "cell_type": "code",
   "execution_count": 165,
   "metadata": {},
   "outputs": [],
   "source": [
    "# gather the dataset where offers are viewed but not completed\n",
    "transcript_offer_viewed_not_completed = transcript_offer_viewed.merge(transcript_offer_completed, how='left', indicator=True) \n",
    "transcript_offer_viewed_not_completed = transcript_offer_viewed_not_completed[transcript_offer_viewed_not_completed['_merge']=='left_only'].drop(['reward','_merge'], axis=1)"
   ]
  },
  {
   "cell_type": "markdown",
   "metadata": {},
   "source": [
    "### Check for Missing Data in 'transcript.json'"
   ]
  },
  {
   "cell_type": "code",
   "execution_count": 166,
   "metadata": {},
   "outputs": [
    {
     "data": {
      "text/html": [
       "<div>\n",
       "<style scoped>\n",
       "    .dataframe tbody tr th:only-of-type {\n",
       "        vertical-align: middle;\n",
       "    }\n",
       "\n",
       "    .dataframe tbody tr th {\n",
       "        vertical-align: top;\n",
       "    }\n",
       "\n",
       "    .dataframe thead th {\n",
       "        text-align: right;\n",
       "    }\n",
       "</style>\n",
       "<table border=\"1\" class=\"dataframe\">\n",
       "  <thead>\n",
       "    <tr style=\"text-align: right;\">\n",
       "      <th></th>\n",
       "      <th>Total</th>\n",
       "      <th>Percent</th>\n",
       "    </tr>\n",
       "  </thead>\n",
       "  <tbody>\n",
       "    <tr>\n",
       "      <th>time</th>\n",
       "      <td>0</td>\n",
       "      <td>0.0</td>\n",
       "    </tr>\n",
       "    <tr>\n",
       "      <th>value</th>\n",
       "      <td>0</td>\n",
       "      <td>0.0</td>\n",
       "    </tr>\n",
       "    <tr>\n",
       "      <th>event</th>\n",
       "      <td>0</td>\n",
       "      <td>0.0</td>\n",
       "    </tr>\n",
       "    <tr>\n",
       "      <th>person</th>\n",
       "      <td>0</td>\n",
       "      <td>0.0</td>\n",
       "    </tr>\n",
       "  </tbody>\n",
       "</table>\n",
       "</div>"
      ],
      "text/plain": [
       "        Total  Percent\n",
       "time        0      0.0\n",
       "value       0      0.0\n",
       "event       0      0.0\n",
       "person      0      0.0"
      ]
     },
     "execution_count": 166,
     "metadata": {},
     "output_type": "execute_result"
    }
   ],
   "source": [
    "#missing data transcript\n",
    "transcript_total = transcript.isnull().sum().sort_values(ascending=False)\n",
    "transcript_percent = (transcript.isnull().sum()/transcript.isnull().count()).sort_values(ascending=False)\n",
    "transcript_missing_data = pd.concat([transcript_total, transcript_percent], axis=1, keys=['Total', 'Percent'])\n",
    "transcript_missing_data.head(20)"
   ]
  },
  {
   "cell_type": "markdown",
   "metadata": {},
   "source": [
    "### Data Exploration - profile.json"
   ]
  },
  {
   "cell_type": "code",
   "execution_count": 167,
   "metadata": {},
   "outputs": [
    {
     "data": {
      "text/html": [
       "<div>\n",
       "<style scoped>\n",
       "    .dataframe tbody tr th:only-of-type {\n",
       "        vertical-align: middle;\n",
       "    }\n",
       "\n",
       "    .dataframe tbody tr th {\n",
       "        vertical-align: top;\n",
       "    }\n",
       "\n",
       "    .dataframe thead th {\n",
       "        text-align: right;\n",
       "    }\n",
       "</style>\n",
       "<table border=\"1\" class=\"dataframe\">\n",
       "  <thead>\n",
       "    <tr style=\"text-align: right;\">\n",
       "      <th></th>\n",
       "      <th>age</th>\n",
       "      <th>became_member_on</th>\n",
       "      <th>income</th>\n",
       "    </tr>\n",
       "  </thead>\n",
       "  <tbody>\n",
       "    <tr>\n",
       "      <th>count</th>\n",
       "      <td>17000.000000</td>\n",
       "      <td>1.700000e+04</td>\n",
       "      <td>14825.000000</td>\n",
       "    </tr>\n",
       "    <tr>\n",
       "      <th>mean</th>\n",
       "      <td>62.531412</td>\n",
       "      <td>2.016703e+07</td>\n",
       "      <td>65404.991568</td>\n",
       "    </tr>\n",
       "    <tr>\n",
       "      <th>std</th>\n",
       "      <td>26.738580</td>\n",
       "      <td>1.167750e+04</td>\n",
       "      <td>21598.299410</td>\n",
       "    </tr>\n",
       "    <tr>\n",
       "      <th>min</th>\n",
       "      <td>18.000000</td>\n",
       "      <td>2.013073e+07</td>\n",
       "      <td>30000.000000</td>\n",
       "    </tr>\n",
       "    <tr>\n",
       "      <th>25%</th>\n",
       "      <td>45.000000</td>\n",
       "      <td>2.016053e+07</td>\n",
       "      <td>49000.000000</td>\n",
       "    </tr>\n",
       "    <tr>\n",
       "      <th>50%</th>\n",
       "      <td>58.000000</td>\n",
       "      <td>2.017080e+07</td>\n",
       "      <td>64000.000000</td>\n",
       "    </tr>\n",
       "    <tr>\n",
       "      <th>75%</th>\n",
       "      <td>73.000000</td>\n",
       "      <td>2.017123e+07</td>\n",
       "      <td>80000.000000</td>\n",
       "    </tr>\n",
       "    <tr>\n",
       "      <th>max</th>\n",
       "      <td>118.000000</td>\n",
       "      <td>2.018073e+07</td>\n",
       "      <td>120000.000000</td>\n",
       "    </tr>\n",
       "  </tbody>\n",
       "</table>\n",
       "</div>"
      ],
      "text/plain": [
       "                age  became_member_on         income\n",
       "count  17000.000000      1.700000e+04   14825.000000\n",
       "mean      62.531412      2.016703e+07   65404.991568\n",
       "std       26.738580      1.167750e+04   21598.299410\n",
       "min       18.000000      2.013073e+07   30000.000000\n",
       "25%       45.000000      2.016053e+07   49000.000000\n",
       "50%       58.000000      2.017080e+07   64000.000000\n",
       "75%       73.000000      2.017123e+07   80000.000000\n",
       "max      118.000000      2.018073e+07  120000.000000"
      ]
     },
     "execution_count": 167,
     "metadata": {},
     "output_type": "execute_result"
    }
   ],
   "source": [
    "profile.describe()"
   ]
  },
  {
   "cell_type": "markdown",
   "metadata": {},
   "source": [
    "We can see that there are some missing values within income column."
   ]
  },
  {
   "cell_type": "code",
   "execution_count": 168,
   "metadata": {},
   "outputs": [
    {
     "data": {
      "text/plain": [
       "(17000, 5)"
      ]
     },
     "execution_count": 168,
     "metadata": {},
     "output_type": "execute_result"
    }
   ],
   "source": [
    "profile.shape"
   ]
  },
  {
   "cell_type": "code",
   "execution_count": 169,
   "metadata": {},
   "outputs": [
    {
     "data": {
      "text/plain": [
       "Index(['gender', 'age', 'id', 'became_member_on', 'income'], dtype='object')"
      ]
     },
     "execution_count": 169,
     "metadata": {},
     "output_type": "execute_result"
    }
   ],
   "source": [
    "profile.columns"
   ]
  },
  {
   "cell_type": "code",
   "execution_count": 170,
   "metadata": {},
   "outputs": [
    {
     "data": {
      "text/html": [
       "<div>\n",
       "<style scoped>\n",
       "    .dataframe tbody tr th:only-of-type {\n",
       "        vertical-align: middle;\n",
       "    }\n",
       "\n",
       "    .dataframe tbody tr th {\n",
       "        vertical-align: top;\n",
       "    }\n",
       "\n",
       "    .dataframe thead th {\n",
       "        text-align: right;\n",
       "    }\n",
       "</style>\n",
       "<table border=\"1\" class=\"dataframe\">\n",
       "  <thead>\n",
       "    <tr style=\"text-align: right;\">\n",
       "      <th></th>\n",
       "      <th>gender</th>\n",
       "      <th>age</th>\n",
       "      <th>id</th>\n",
       "      <th>became_member_on</th>\n",
       "      <th>income</th>\n",
       "    </tr>\n",
       "  </thead>\n",
       "  <tbody>\n",
       "    <tr>\n",
       "      <th>0</th>\n",
       "      <td>None</td>\n",
       "      <td>118</td>\n",
       "      <td>68be06ca386d4c31939f3a4f0e3dd783</td>\n",
       "      <td>20170212</td>\n",
       "      <td>NaN</td>\n",
       "    </tr>\n",
       "    <tr>\n",
       "      <th>1</th>\n",
       "      <td>F</td>\n",
       "      <td>55</td>\n",
       "      <td>0610b486422d4921ae7d2bf64640c50b</td>\n",
       "      <td>20170715</td>\n",
       "      <td>112000.0</td>\n",
       "    </tr>\n",
       "    <tr>\n",
       "      <th>2</th>\n",
       "      <td>None</td>\n",
       "      <td>118</td>\n",
       "      <td>38fe809add3b4fcf9315a9694bb96ff5</td>\n",
       "      <td>20180712</td>\n",
       "      <td>NaN</td>\n",
       "    </tr>\n",
       "    <tr>\n",
       "      <th>3</th>\n",
       "      <td>F</td>\n",
       "      <td>75</td>\n",
       "      <td>78afa995795e4d85b5d9ceeca43f5fef</td>\n",
       "      <td>20170509</td>\n",
       "      <td>100000.0</td>\n",
       "    </tr>\n",
       "    <tr>\n",
       "      <th>4</th>\n",
       "      <td>None</td>\n",
       "      <td>118</td>\n",
       "      <td>a03223e636434f42ac4c3df47e8bac43</td>\n",
       "      <td>20170804</td>\n",
       "      <td>NaN</td>\n",
       "    </tr>\n",
       "    <tr>\n",
       "      <th>5</th>\n",
       "      <td>M</td>\n",
       "      <td>68</td>\n",
       "      <td>e2127556f4f64592b11af22de27a7932</td>\n",
       "      <td>20180426</td>\n",
       "      <td>70000.0</td>\n",
       "    </tr>\n",
       "    <tr>\n",
       "      <th>6</th>\n",
       "      <td>None</td>\n",
       "      <td>118</td>\n",
       "      <td>8ec6ce2a7e7949b1bf142def7d0e0586</td>\n",
       "      <td>20170925</td>\n",
       "      <td>NaN</td>\n",
       "    </tr>\n",
       "    <tr>\n",
       "      <th>7</th>\n",
       "      <td>None</td>\n",
       "      <td>118</td>\n",
       "      <td>68617ca6246f4fbc85e91a2a49552598</td>\n",
       "      <td>20171002</td>\n",
       "      <td>NaN</td>\n",
       "    </tr>\n",
       "    <tr>\n",
       "      <th>8</th>\n",
       "      <td>M</td>\n",
       "      <td>65</td>\n",
       "      <td>389bc3fa690240e798340f5a15918d5c</td>\n",
       "      <td>20180209</td>\n",
       "      <td>53000.0</td>\n",
       "    </tr>\n",
       "    <tr>\n",
       "      <th>9</th>\n",
       "      <td>None</td>\n",
       "      <td>118</td>\n",
       "      <td>8974fc5686fe429db53ddde067b88302</td>\n",
       "      <td>20161122</td>\n",
       "      <td>NaN</td>\n",
       "    </tr>\n",
       "  </tbody>\n",
       "</table>\n",
       "</div>"
      ],
      "text/plain": [
       "  gender  age                                id  became_member_on    income\n",
       "0   None  118  68be06ca386d4c31939f3a4f0e3dd783          20170212       NaN\n",
       "1      F   55  0610b486422d4921ae7d2bf64640c50b          20170715  112000.0\n",
       "2   None  118  38fe809add3b4fcf9315a9694bb96ff5          20180712       NaN\n",
       "3      F   75  78afa995795e4d85b5d9ceeca43f5fef          20170509  100000.0\n",
       "4   None  118  a03223e636434f42ac4c3df47e8bac43          20170804       NaN\n",
       "5      M   68  e2127556f4f64592b11af22de27a7932          20180426   70000.0\n",
       "6   None  118  8ec6ce2a7e7949b1bf142def7d0e0586          20170925       NaN\n",
       "7   None  118  68617ca6246f4fbc85e91a2a49552598          20171002       NaN\n",
       "8      M   65  389bc3fa690240e798340f5a15918d5c          20180209   53000.0\n",
       "9   None  118  8974fc5686fe429db53ddde067b88302          20161122       NaN"
      ]
     },
     "execution_count": 170,
     "metadata": {},
     "output_type": "execute_result"
    }
   ],
   "source": [
    "profile.head(10)"
   ]
  },
  {
   "cell_type": "code",
   "execution_count": 171,
   "metadata": {},
   "outputs": [
    {
     "name": "stdout",
     "output_type": "stream",
     "text": [
      "gender               object\n",
      "age                   int64\n",
      "id                   object\n",
      "became_member_on      int64\n",
      "income              float64\n",
      "dtype: object\n"
     ]
    }
   ],
   "source": [
    "print(profile.dtypes)"
   ]
  },
  {
   "cell_type": "markdown",
   "metadata": {},
   "source": [
    "#### Feature Transformation for `became_member_on`"
   ]
  },
  {
   "cell_type": "code",
   "execution_count": 172,
   "metadata": {},
   "outputs": [],
   "source": [
    "# convert `became_member_on` to datetime format\n",
    "profile['became_member_on'] = pd.to_datetime(profile['became_member_on'],format='%Y%m%d')\n"
   ]
  },
  {
   "cell_type": "code",
   "execution_count": 173,
   "metadata": {},
   "outputs": [],
   "source": [
    "# create membership_time feature\n",
    "profile['membership_time'] = (pd.Timestamp.now().normalize() - profile['became_member_on'])\n",
    "profile = profile.drop('became_member_on', axis=1)"
   ]
  },
  {
   "cell_type": "markdown",
   "metadata": {},
   "source": [
    "### Check for Missing Data in 'profile.json'"
   ]
  },
  {
   "cell_type": "code",
   "execution_count": 174,
   "metadata": {},
   "outputs": [
    {
     "data": {
      "text/html": [
       "<div>\n",
       "<style scoped>\n",
       "    .dataframe tbody tr th:only-of-type {\n",
       "        vertical-align: middle;\n",
       "    }\n",
       "\n",
       "    .dataframe tbody tr th {\n",
       "        vertical-align: top;\n",
       "    }\n",
       "\n",
       "    .dataframe thead th {\n",
       "        text-align: right;\n",
       "    }\n",
       "</style>\n",
       "<table border=\"1\" class=\"dataframe\">\n",
       "  <thead>\n",
       "    <tr style=\"text-align: right;\">\n",
       "      <th></th>\n",
       "      <th>Total</th>\n",
       "      <th>Percent</th>\n",
       "    </tr>\n",
       "  </thead>\n",
       "  <tbody>\n",
       "    <tr>\n",
       "      <th>income</th>\n",
       "      <td>2175</td>\n",
       "      <td>0.127941</td>\n",
       "    </tr>\n",
       "    <tr>\n",
       "      <th>gender</th>\n",
       "      <td>2175</td>\n",
       "      <td>0.127941</td>\n",
       "    </tr>\n",
       "    <tr>\n",
       "      <th>membership_time</th>\n",
       "      <td>0</td>\n",
       "      <td>0.000000</td>\n",
       "    </tr>\n",
       "    <tr>\n",
       "      <th>id</th>\n",
       "      <td>0</td>\n",
       "      <td>0.000000</td>\n",
       "    </tr>\n",
       "    <tr>\n",
       "      <th>age</th>\n",
       "      <td>0</td>\n",
       "      <td>0.000000</td>\n",
       "    </tr>\n",
       "  </tbody>\n",
       "</table>\n",
       "</div>"
      ],
      "text/plain": [
       "                 Total   Percent\n",
       "income            2175  0.127941\n",
       "gender            2175  0.127941\n",
       "membership_time      0  0.000000\n",
       "id                   0  0.000000\n",
       "age                  0  0.000000"
      ]
     },
     "execution_count": 174,
     "metadata": {},
     "output_type": "execute_result"
    }
   ],
   "source": [
    "#missing profile\n",
    "profile_total = profile.isnull().sum().sort_values(ascending=False)\n",
    "profile_percent = (profile.isnull().sum()/profile.isnull().count()).sort_values(ascending=False)\n",
    "profile_missing_data = pd.concat([profile_total, profile_percent], axis=1, keys=['Total', 'Percent'])\n",
    "profile_missing_data.head(20)"
   ]
  },
  {
   "cell_type": "markdown",
   "metadata": {},
   "source": [
    "There are 2175 missing values in each of the `income` and `gender` features. Next we check to see if the missing values in `income` appear in synchrony with those in `gender`."
   ]
  },
  {
   "cell_type": "code",
   "execution_count": 175,
   "metadata": {},
   "outputs": [
    {
     "data": {
      "text/plain": [
       "True"
      ]
     },
     "execution_count": 175,
     "metadata": {},
     "output_type": "execute_result"
    }
   ],
   "source": [
    "profile_income_subset = profile[profile.income.isnull()]\n",
    "profile_gender_subset = profile[profile.gender.isnull()]\n",
    "# To find the comparison result \n",
    "profile_gender_subset.equals(profile_income_subset) "
   ]
  },
  {
   "cell_type": "markdown",
   "metadata": {},
   "source": [
    "We observe that the missing data in income and gender are distributed in the same way. \n",
    "\n",
    "The next step is to determine if the missing values are randomly distributed in the dataset.\n",
    "\n",
    "The only column left besides income and gender is membership_time. Hence we can inspect if there is any relationship between the missing data and the membership_time column.\n",
    "\n",
    "We can test if there exists any difference in the sample between the two data-sets by doing the t-test of mean difference among membership_time bewteen the partitioned datasets.\n",
    "\n"
   ]
  },
  {
   "cell_type": "code",
   "execution_count": 176,
   "metadata": {},
   "outputs": [
    {
     "name": "stdout",
     "output_type": "stream",
     "text": [
      "t = -2.2581188927128357\n",
      "p = 0.023989110333243364\n",
      "<class 'pandas.core.series.Series'>\n"
     ]
    }
   ],
   "source": [
    "# t-test of mean difference\n",
    "from scipy import stats\n",
    "import random\n",
    "## Cross Checking with the internal scipy function\n",
    "a = profile[profile.income.isnull()].membership_time.dt.days\n",
    "b = profile[profile.income.notnull()].sample(n=len(a), random_state=0).membership_time.dt.days\n",
    "t2, p2 = stats.ttest_ind(a,b, equal_var=False)\n",
    "print(\"t = \" + str(t2))\n",
    "print(\"p = \" + str(p2))\n",
    "len(a)\n",
    "print(type(b))\n"
   ]
  },
  {
   "cell_type": "code",
   "execution_count": 177,
   "metadata": {},
   "outputs": [
    {
     "name": "stdout",
     "output_type": "stream",
     "text": [
      "The average membership time where age and income is missing is 1255 days 04:06:17.379310\n",
      "The average membership time where age and income is missing is 1294 days 11:29:44.580101\n"
     ]
    }
   ],
   "source": [
    "print(\"The average membership time where age and income is missing is\", profile[profile.income.isnull()].membership_time.mean())\n",
    "print(\"The average membership time where age and income is missing is\", profile[profile.income.notnull()].membership_time.mean())"
   ]
  },
  {
   "cell_type": "markdown",
   "metadata": {},
   "source": [
    "The p-value is 0.02, which is greater than 0.01, meaning that there does not exist significantly noticeable difference in the sample between the two data-sets.\n",
    "\n",
    "Also the missing average and non-missing average are close, indicating the missing values does not have a substantial effect on our data.\n",
    "\n",
    "Therefore we can drop or delete the missing values. "
   ]
  },
  {
   "cell_type": "code",
   "execution_count": 178,
   "metadata": {},
   "outputs": [
    {
     "data": {
      "text/plain": [
       "0"
      ]
     },
     "execution_count": 178,
     "metadata": {},
     "output_type": "execute_result"
    }
   ],
   "source": [
    "# drop missing data\n",
    "\n",
    "profile = profile.drop(profile.loc[profile['income'].isnull()].index)\n",
    "profile = profile.drop(profile.loc[profile['gender'].isnull()].index)\n",
    "profile.isnull().sum().max() #just checking that there's no missing data missing..."
   ]
  },
  {
   "cell_type": "code",
   "execution_count": 179,
   "metadata": {},
   "outputs": [
    {
     "data": {
      "text/html": [
       "<div>\n",
       "<style scoped>\n",
       "    .dataframe tbody tr th:only-of-type {\n",
       "        vertical-align: middle;\n",
       "    }\n",
       "\n",
       "    .dataframe tbody tr th {\n",
       "        vertical-align: top;\n",
       "    }\n",
       "\n",
       "    .dataframe thead th {\n",
       "        text-align: right;\n",
       "    }\n",
       "</style>\n",
       "<table border=\"1\" class=\"dataframe\">\n",
       "  <thead>\n",
       "    <tr style=\"text-align: right;\">\n",
       "      <th></th>\n",
       "      <th>gender</th>\n",
       "      <th>age</th>\n",
       "      <th>id</th>\n",
       "      <th>income</th>\n",
       "      <th>membership_time</th>\n",
       "    </tr>\n",
       "  </thead>\n",
       "  <tbody>\n",
       "    <tr>\n",
       "      <th>1</th>\n",
       "      <td>F</td>\n",
       "      <td>55</td>\n",
       "      <td>0610b486422d4921ae7d2bf64640c50b</td>\n",
       "      <td>112000.0</td>\n",
       "      <td>1148 days</td>\n",
       "    </tr>\n",
       "    <tr>\n",
       "      <th>3</th>\n",
       "      <td>F</td>\n",
       "      <td>75</td>\n",
       "      <td>78afa995795e4d85b5d9ceeca43f5fef</td>\n",
       "      <td>100000.0</td>\n",
       "      <td>1215 days</td>\n",
       "    </tr>\n",
       "    <tr>\n",
       "      <th>5</th>\n",
       "      <td>M</td>\n",
       "      <td>68</td>\n",
       "      <td>e2127556f4f64592b11af22de27a7932</td>\n",
       "      <td>70000.0</td>\n",
       "      <td>863 days</td>\n",
       "    </tr>\n",
       "    <tr>\n",
       "      <th>8</th>\n",
       "      <td>M</td>\n",
       "      <td>65</td>\n",
       "      <td>389bc3fa690240e798340f5a15918d5c</td>\n",
       "      <td>53000.0</td>\n",
       "      <td>939 days</td>\n",
       "    </tr>\n",
       "    <tr>\n",
       "      <th>12</th>\n",
       "      <td>M</td>\n",
       "      <td>58</td>\n",
       "      <td>2eeac8d8feae4a8cad5a6af0499a211d</td>\n",
       "      <td>51000.0</td>\n",
       "      <td>1029 days</td>\n",
       "    </tr>\n",
       "    <tr>\n",
       "      <th>13</th>\n",
       "      <td>F</td>\n",
       "      <td>61</td>\n",
       "      <td>aa4862eba776480b8bb9c68455b8c2e1</td>\n",
       "      <td>57000.0</td>\n",
       "      <td>1090 days</td>\n",
       "    </tr>\n",
       "    <tr>\n",
       "      <th>14</th>\n",
       "      <td>M</td>\n",
       "      <td>26</td>\n",
       "      <td>e12aeaf2d47d42479ea1c4ac3d8286c6</td>\n",
       "      <td>46000.0</td>\n",
       "      <td>2396 days</td>\n",
       "    </tr>\n",
       "    <tr>\n",
       "      <th>15</th>\n",
       "      <td>F</td>\n",
       "      <td>62</td>\n",
       "      <td>31dda685af34476cad5bc968bdb01c53</td>\n",
       "      <td>71000.0</td>\n",
       "      <td>1668 days</td>\n",
       "    </tr>\n",
       "    <tr>\n",
       "      <th>16</th>\n",
       "      <td>M</td>\n",
       "      <td>49</td>\n",
       "      <td>62cf5e10845442329191fc246e7bcea3</td>\n",
       "      <td>52000.0</td>\n",
       "      <td>2123 days</td>\n",
       "    </tr>\n",
       "    <tr>\n",
       "      <th>18</th>\n",
       "      <td>M</td>\n",
       "      <td>57</td>\n",
       "      <td>6445de3b47274c759400cd68131d91b4</td>\n",
       "      <td>42000.0</td>\n",
       "      <td>979 days</td>\n",
       "    </tr>\n",
       "  </tbody>\n",
       "</table>\n",
       "</div>"
      ],
      "text/plain": [
       "   gender  age                                id    income membership_time\n",
       "1       F   55  0610b486422d4921ae7d2bf64640c50b  112000.0       1148 days\n",
       "3       F   75  78afa995795e4d85b5d9ceeca43f5fef  100000.0       1215 days\n",
       "5       M   68  e2127556f4f64592b11af22de27a7932   70000.0        863 days\n",
       "8       M   65  389bc3fa690240e798340f5a15918d5c   53000.0        939 days\n",
       "12      M   58  2eeac8d8feae4a8cad5a6af0499a211d   51000.0       1029 days\n",
       "13      F   61  aa4862eba776480b8bb9c68455b8c2e1   57000.0       1090 days\n",
       "14      M   26  e12aeaf2d47d42479ea1c4ac3d8286c6   46000.0       2396 days\n",
       "15      F   62  31dda685af34476cad5bc968bdb01c53   71000.0       1668 days\n",
       "16      M   49  62cf5e10845442329191fc246e7bcea3   52000.0       2123 days\n",
       "18      M   57  6445de3b47274c759400cd68131d91b4   42000.0        979 days"
      ]
     },
     "execution_count": 179,
     "metadata": {},
     "output_type": "execute_result"
    }
   ],
   "source": [
    "profile.head(10)"
   ]
  },
  {
   "cell_type": "code",
   "execution_count": 180,
   "metadata": {},
   "outputs": [
    {
     "data": {
      "text/plain": [
       "<matplotlib.axes._subplots.AxesSubplot at 0x1a1a2c1750>"
      ]
     },
     "execution_count": 180,
     "metadata": {},
     "output_type": "execute_result"
    },
    {
     "data": {
      "image/png": "[encoded data removed]",
      "text/plain": [
       "<Figure size 1980x495 with 1 Axes>"
      ]
     },
     "metadata": {
      "needs_background": "light"
     },
     "output_type": "display_data"
    }
   ],
   "source": [
    "\n",
    "render_mpl_table(profile.head(10), header_columns=0, col_width=5.5)"
   ]
  },
  {
   "cell_type": "markdown",
   "metadata": {},
   "source": [
    "#### Obtain the Profiling&Offer Information where Offers are Viewed and Completed"
   ]
  },
  {
   "cell_type": "code",
   "execution_count": 181,
   "metadata": {},
   "outputs": [
    {
     "data": {
      "text/html": [
       "<div>\n",
       "<style scoped>\n",
       "    .dataframe tbody tr th:only-of-type {\n",
       "        vertical-align: middle;\n",
       "    }\n",
       "\n",
       "    .dataframe tbody tr th {\n",
       "        vertical-align: top;\n",
       "    }\n",
       "\n",
       "    .dataframe thead th {\n",
       "        text-align: right;\n",
       "    }\n",
       "</style>\n",
       "<table border=\"1\" class=\"dataframe\">\n",
       "  <thead>\n",
       "    <tr style=\"text-align: right;\">\n",
       "      <th></th>\n",
       "      <th>gender</th>\n",
       "      <th>age</th>\n",
       "      <th>id</th>\n",
       "      <th>income</th>\n",
       "      <th>membership_time</th>\n",
       "      <th>person</th>\n",
       "      <th>offer_id</th>\n",
       "      <th>reward</th>\n",
       "    </tr>\n",
       "  </thead>\n",
       "  <tbody>\n",
       "    <tr>\n",
       "      <th>0</th>\n",
       "      <td>F</td>\n",
       "      <td>75</td>\n",
       "      <td>78afa995795e4d85b5d9ceeca43f5fef</td>\n",
       "      <td>100000.0</td>\n",
       "      <td>1215 days</td>\n",
       "      <td>78afa995795e4d85b5d9ceeca43f5fef</td>\n",
       "      <td>9b98b8c7a33c4b65b9aebfe6a799e6d9</td>\n",
       "      <td>5</td>\n",
       "    </tr>\n",
       "    <tr>\n",
       "      <th>1</th>\n",
       "      <td>F</td>\n",
       "      <td>75</td>\n",
       "      <td>78afa995795e4d85b5d9ceeca43f5fef</td>\n",
       "      <td>100000.0</td>\n",
       "      <td>1215 days</td>\n",
       "      <td>78afa995795e4d85b5d9ceeca43f5fef</td>\n",
       "      <td>ae264e3637204a6fb9bb56bc8210ddfd</td>\n",
       "      <td>10</td>\n",
       "    </tr>\n",
       "    <tr>\n",
       "      <th>2</th>\n",
       "      <td>F</td>\n",
       "      <td>75</td>\n",
       "      <td>78afa995795e4d85b5d9ceeca43f5fef</td>\n",
       "      <td>100000.0</td>\n",
       "      <td>1215 days</td>\n",
       "      <td>78afa995795e4d85b5d9ceeca43f5fef</td>\n",
       "      <td>f19421c1d4aa40978ebb69ca19b0e20d</td>\n",
       "      <td>5</td>\n",
       "    </tr>\n",
       "    <tr>\n",
       "      <th>3</th>\n",
       "      <td>M</td>\n",
       "      <td>68</td>\n",
       "      <td>e2127556f4f64592b11af22de27a7932</td>\n",
       "      <td>70000.0</td>\n",
       "      <td>863 days</td>\n",
       "      <td>e2127556f4f64592b11af22de27a7932</td>\n",
       "      <td>9b98b8c7a33c4b65b9aebfe6a799e6d9</td>\n",
       "      <td>5</td>\n",
       "    </tr>\n",
       "    <tr>\n",
       "      <th>4</th>\n",
       "      <td>M</td>\n",
       "      <td>68</td>\n",
       "      <td>e2127556f4f64592b11af22de27a7932</td>\n",
       "      <td>70000.0</td>\n",
       "      <td>863 days</td>\n",
       "      <td>e2127556f4f64592b11af22de27a7932</td>\n",
       "      <td>fafdcd668e3743c1bb461111dcafc2a4</td>\n",
       "      <td>2</td>\n",
       "    </tr>\n",
       "    <tr>\n",
       "      <th>5</th>\n",
       "      <td>M</td>\n",
       "      <td>65</td>\n",
       "      <td>389bc3fa690240e798340f5a15918d5c</td>\n",
       "      <td>53000.0</td>\n",
       "      <td>939 days</td>\n",
       "      <td>389bc3fa690240e798340f5a15918d5c</td>\n",
       "      <td>f19421c1d4aa40978ebb69ca19b0e20d</td>\n",
       "      <td>5</td>\n",
       "    </tr>\n",
       "    <tr>\n",
       "      <th>6</th>\n",
       "      <td>M</td>\n",
       "      <td>65</td>\n",
       "      <td>389bc3fa690240e798340f5a15918d5c</td>\n",
       "      <td>53000.0</td>\n",
       "      <td>939 days</td>\n",
       "      <td>389bc3fa690240e798340f5a15918d5c</td>\n",
       "      <td>f19421c1d4aa40978ebb69ca19b0e20d</td>\n",
       "      <td>5</td>\n",
       "    </tr>\n",
       "    <tr>\n",
       "      <th>7</th>\n",
       "      <td>M</td>\n",
       "      <td>65</td>\n",
       "      <td>389bc3fa690240e798340f5a15918d5c</td>\n",
       "      <td>53000.0</td>\n",
       "      <td>939 days</td>\n",
       "      <td>389bc3fa690240e798340f5a15918d5c</td>\n",
       "      <td>f19421c1d4aa40978ebb69ca19b0e20d</td>\n",
       "      <td>5</td>\n",
       "    </tr>\n",
       "    <tr>\n",
       "      <th>8</th>\n",
       "      <td>M</td>\n",
       "      <td>65</td>\n",
       "      <td>389bc3fa690240e798340f5a15918d5c</td>\n",
       "      <td>53000.0</td>\n",
       "      <td>939 days</td>\n",
       "      <td>389bc3fa690240e798340f5a15918d5c</td>\n",
       "      <td>f19421c1d4aa40978ebb69ca19b0e20d</td>\n",
       "      <td>5</td>\n",
       "    </tr>\n",
       "    <tr>\n",
       "      <th>9</th>\n",
       "      <td>M</td>\n",
       "      <td>65</td>\n",
       "      <td>389bc3fa690240e798340f5a15918d5c</td>\n",
       "      <td>53000.0</td>\n",
       "      <td>939 days</td>\n",
       "      <td>389bc3fa690240e798340f5a15918d5c</td>\n",
       "      <td>9b98b8c7a33c4b65b9aebfe6a799e6d9</td>\n",
       "      <td>5</td>\n",
       "    </tr>\n",
       "  </tbody>\n",
       "</table>\n",
       "</div>"
      ],
      "text/plain": [
       "  gender  age                                id    income membership_time  \\\n",
       "0      F   75  78afa995795e4d85b5d9ceeca43f5fef  100000.0       1215 days   \n",
       "1      F   75  78afa995795e4d85b5d9ceeca43f5fef  100000.0       1215 days   \n",
       "2      F   75  78afa995795e4d85b5d9ceeca43f5fef  100000.0       1215 days   \n",
       "3      M   68  e2127556f4f64592b11af22de27a7932   70000.0        863 days   \n",
       "4      M   68  e2127556f4f64592b11af22de27a7932   70000.0        863 days   \n",
       "5      M   65  389bc3fa690240e798340f5a15918d5c   53000.0        939 days   \n",
       "6      M   65  389bc3fa690240e798340f5a15918d5c   53000.0        939 days   \n",
       "7      M   65  389bc3fa690240e798340f5a15918d5c   53000.0        939 days   \n",
       "8      M   65  389bc3fa690240e798340f5a15918d5c   53000.0        939 days   \n",
       "9      M   65  389bc3fa690240e798340f5a15918d5c   53000.0        939 days   \n",
       "\n",
       "                             person                          offer_id  reward  \n",
       "0  78afa995795e4d85b5d9ceeca43f5fef  9b98b8c7a33c4b65b9aebfe6a799e6d9       5  \n",
       "1  78afa995795e4d85b5d9ceeca43f5fef  ae264e3637204a6fb9bb56bc8210ddfd      10  \n",
       "2  78afa995795e4d85b5d9ceeca43f5fef  f19421c1d4aa40978ebb69ca19b0e20d       5  \n",
       "3  e2127556f4f64592b11af22de27a7932  9b98b8c7a33c4b65b9aebfe6a799e6d9       5  \n",
       "4  e2127556f4f64592b11af22de27a7932  fafdcd668e3743c1bb461111dcafc2a4       2  \n",
       "5  389bc3fa690240e798340f5a15918d5c  f19421c1d4aa40978ebb69ca19b0e20d       5  \n",
       "6  389bc3fa690240e798340f5a15918d5c  f19421c1d4aa40978ebb69ca19b0e20d       5  \n",
       "7  389bc3fa690240e798340f5a15918d5c  f19421c1d4aa40978ebb69ca19b0e20d       5  \n",
       "8  389bc3fa690240e798340f5a15918d5c  f19421c1d4aa40978ebb69ca19b0e20d       5  \n",
       "9  389bc3fa690240e798340f5a15918d5c  9b98b8c7a33c4b65b9aebfe6a799e6d9       5  "
      ]
     },
     "execution_count": 181,
     "metadata": {},
     "output_type": "execute_result"
    }
   ],
   "source": [
    "profile_offer_viewed_completed = pd.merge(profile, transcript_offer_viewed_completed, left_on='id', right_on='person', how='inner')\n",
    "\n",
    "profile_offer_viewed_completed.head(10)"
   ]
  },
  {
   "cell_type": "code",
   "execution_count": 182,
   "metadata": {},
   "outputs": [],
   "source": [
    "profile_offer_viewed_completed['id'].equals(profile_offer_viewed_completed['person'])\n",
    "profile_offer_viewed_completed.drop('id', axis=1, inplace=True)"
   ]
  },
  {
   "cell_type": "code",
   "execution_count": 183,
   "metadata": {},
   "outputs": [
    {
     "data": {
      "text/html": [
       "<div>\n",
       "<style scoped>\n",
       "    .dataframe tbody tr th:only-of-type {\n",
       "        vertical-align: middle;\n",
       "    }\n",
       "\n",
       "    .dataframe tbody tr th {\n",
       "        vertical-align: top;\n",
       "    }\n",
       "\n",
       "    .dataframe thead th {\n",
       "        text-align: right;\n",
       "    }\n",
       "</style>\n",
       "<table border=\"1\" class=\"dataframe\">\n",
       "  <thead>\n",
       "    <tr style=\"text-align: right;\">\n",
       "      <th></th>\n",
       "      <th>gender</th>\n",
       "      <th>age</th>\n",
       "      <th>income</th>\n",
       "      <th>membership_time</th>\n",
       "      <th>person</th>\n",
       "      <th>offer_id</th>\n",
       "      <th>reward</th>\n",
       "    </tr>\n",
       "  </thead>\n",
       "  <tbody>\n",
       "    <tr>\n",
       "      <th>0</th>\n",
       "      <td>F</td>\n",
       "      <td>75</td>\n",
       "      <td>100000.0</td>\n",
       "      <td>1215 days</td>\n",
       "      <td>78afa995795e4d85b5d9ceeca43f5fef</td>\n",
       "      <td>9b98b8c7a33c4b65b9aebfe6a799e6d9</td>\n",
       "      <td>5</td>\n",
       "    </tr>\n",
       "    <tr>\n",
       "      <th>1</th>\n",
       "      <td>F</td>\n",
       "      <td>75</td>\n",
       "      <td>100000.0</td>\n",
       "      <td>1215 days</td>\n",
       "      <td>78afa995795e4d85b5d9ceeca43f5fef</td>\n",
       "      <td>ae264e3637204a6fb9bb56bc8210ddfd</td>\n",
       "      <td>10</td>\n",
       "    </tr>\n",
       "    <tr>\n",
       "      <th>2</th>\n",
       "      <td>F</td>\n",
       "      <td>75</td>\n",
       "      <td>100000.0</td>\n",
       "      <td>1215 days</td>\n",
       "      <td>78afa995795e4d85b5d9ceeca43f5fef</td>\n",
       "      <td>f19421c1d4aa40978ebb69ca19b0e20d</td>\n",
       "      <td>5</td>\n",
       "    </tr>\n",
       "    <tr>\n",
       "      <th>3</th>\n",
       "      <td>M</td>\n",
       "      <td>68</td>\n",
       "      <td>70000.0</td>\n",
       "      <td>863 days</td>\n",
       "      <td>e2127556f4f64592b11af22de27a7932</td>\n",
       "      <td>9b98b8c7a33c4b65b9aebfe6a799e6d9</td>\n",
       "      <td>5</td>\n",
       "    </tr>\n",
       "    <tr>\n",
       "      <th>4</th>\n",
       "      <td>M</td>\n",
       "      <td>68</td>\n",
       "      <td>70000.0</td>\n",
       "      <td>863 days</td>\n",
       "      <td>e2127556f4f64592b11af22de27a7932</td>\n",
       "      <td>fafdcd668e3743c1bb461111dcafc2a4</td>\n",
       "      <td>2</td>\n",
       "    </tr>\n",
       "    <tr>\n",
       "      <th>5</th>\n",
       "      <td>M</td>\n",
       "      <td>65</td>\n",
       "      <td>53000.0</td>\n",
       "      <td>939 days</td>\n",
       "      <td>389bc3fa690240e798340f5a15918d5c</td>\n",
       "      <td>f19421c1d4aa40978ebb69ca19b0e20d</td>\n",
       "      <td>5</td>\n",
       "    </tr>\n",
       "    <tr>\n",
       "      <th>6</th>\n",
       "      <td>M</td>\n",
       "      <td>65</td>\n",
       "      <td>53000.0</td>\n",
       "      <td>939 days</td>\n",
       "      <td>389bc3fa690240e798340f5a15918d5c</td>\n",
       "      <td>f19421c1d4aa40978ebb69ca19b0e20d</td>\n",
       "      <td>5</td>\n",
       "    </tr>\n",
       "    <tr>\n",
       "      <th>7</th>\n",
       "      <td>M</td>\n",
       "      <td>65</td>\n",
       "      <td>53000.0</td>\n",
       "      <td>939 days</td>\n",
       "      <td>389bc3fa690240e798340f5a15918d5c</td>\n",
       "      <td>f19421c1d4aa40978ebb69ca19b0e20d</td>\n",
       "      <td>5</td>\n",
       "    </tr>\n",
       "    <tr>\n",
       "      <th>8</th>\n",
       "      <td>M</td>\n",
       "      <td>65</td>\n",
       "      <td>53000.0</td>\n",
       "      <td>939 days</td>\n",
       "      <td>389bc3fa690240e798340f5a15918d5c</td>\n",
       "      <td>f19421c1d4aa40978ebb69ca19b0e20d</td>\n",
       "      <td>5</td>\n",
       "    </tr>\n",
       "    <tr>\n",
       "      <th>9</th>\n",
       "      <td>M</td>\n",
       "      <td>65</td>\n",
       "      <td>53000.0</td>\n",
       "      <td>939 days</td>\n",
       "      <td>389bc3fa690240e798340f5a15918d5c</td>\n",
       "      <td>9b98b8c7a33c4b65b9aebfe6a799e6d9</td>\n",
       "      <td>5</td>\n",
       "    </tr>\n",
       "  </tbody>\n",
       "</table>\n",
       "</div>"
      ],
      "text/plain": [
       "  gender  age    income membership_time                            person  \\\n",
       "0      F   75  100000.0       1215 days  78afa995795e4d85b5d9ceeca43f5fef   \n",
       "1      F   75  100000.0       1215 days  78afa995795e4d85b5d9ceeca43f5fef   \n",
       "2      F   75  100000.0       1215 days  78afa995795e4d85b5d9ceeca43f5fef   \n",
       "3      M   68   70000.0        863 days  e2127556f4f64592b11af22de27a7932   \n",
       "4      M   68   70000.0        863 days  e2127556f4f64592b11af22de27a7932   \n",
       "5      M   65   53000.0        939 days  389bc3fa690240e798340f5a15918d5c   \n",
       "6      M   65   53000.0        939 days  389bc3fa690240e798340f5a15918d5c   \n",
       "7      M   65   53000.0        939 days  389bc3fa690240e798340f5a15918d5c   \n",
       "8      M   65   53000.0        939 days  389bc3fa690240e798340f5a15918d5c   \n",
       "9      M   65   53000.0        939 days  389bc3fa690240e798340f5a15918d5c   \n",
       "\n",
       "                           offer_id  reward  \n",
       "0  9b98b8c7a33c4b65b9aebfe6a799e6d9       5  \n",
       "1  ae264e3637204a6fb9bb56bc8210ddfd      10  \n",
       "2  f19421c1d4aa40978ebb69ca19b0e20d       5  \n",
       "3  9b98b8c7a33c4b65b9aebfe6a799e6d9       5  \n",
       "4  fafdcd668e3743c1bb461111dcafc2a4       2  \n",
       "5  f19421c1d4aa40978ebb69ca19b0e20d       5  \n",
       "6  f19421c1d4aa40978ebb69ca19b0e20d       5  \n",
       "7  f19421c1d4aa40978ebb69ca19b0e20d       5  \n",
       "8  f19421c1d4aa40978ebb69ca19b0e20d       5  \n",
       "9  9b98b8c7a33c4b65b9aebfe6a799e6d9       5  "
      ]
     },
     "execution_count": 183,
     "metadata": {},
     "output_type": "execute_result"
    }
   ],
   "source": [
    "# check if `id` is dropped\n",
    "profile_offer_viewed_completed.head(10)"
   ]
  },
  {
   "cell_type": "markdown",
   "metadata": {},
   "source": [
    "#### Obtain the Profiling&Offer Information where Offers are Viewed and Not Completed"
   ]
  },
  {
   "cell_type": "code",
   "execution_count": 184,
   "metadata": {},
   "outputs": [],
   "source": [
    "profile_offer_viewed_not_completed = pd.merge(profile, transcript_offer_viewed_not_completed, left_on='id', right_on='person', how='inner')"
   ]
  },
  {
   "cell_type": "code",
   "execution_count": 185,
   "metadata": {},
   "outputs": [
    {
     "data": {
      "text/plain": [
       "True"
      ]
     },
     "execution_count": 185,
     "metadata": {},
     "output_type": "execute_result"
    }
   ],
   "source": [
    "profile_offer_viewed_not_completed['id'].equals(profile_offer_viewed_not_completed['person'])"
   ]
  },
  {
   "cell_type": "code",
   "execution_count": 186,
   "metadata": {},
   "outputs": [
    {
     "data": {
      "text/html": [
       "<div>\n",
       "<style scoped>\n",
       "    .dataframe tbody tr th:only-of-type {\n",
       "        vertical-align: middle;\n",
       "    }\n",
       "\n",
       "    .dataframe tbody tr th {\n",
       "        vertical-align: top;\n",
       "    }\n",
       "\n",
       "    .dataframe thead th {\n",
       "        text-align: right;\n",
       "    }\n",
       "</style>\n",
       "<table border=\"1\" class=\"dataframe\">\n",
       "  <thead>\n",
       "    <tr style=\"text-align: right;\">\n",
       "      <th></th>\n",
       "      <th>gender</th>\n",
       "      <th>age</th>\n",
       "      <th>income</th>\n",
       "      <th>membership_time</th>\n",
       "      <th>person</th>\n",
       "      <th>offer_id</th>\n",
       "    </tr>\n",
       "  </thead>\n",
       "  <tbody>\n",
       "    <tr>\n",
       "      <th>0</th>\n",
       "      <td>F</td>\n",
       "      <td>75</td>\n",
       "      <td>100000.0</td>\n",
       "      <td>1215 days</td>\n",
       "      <td>78afa995795e4d85b5d9ceeca43f5fef</td>\n",
       "      <td>5a8bc65990b245e5a138643cd4eb9837</td>\n",
       "    </tr>\n",
       "    <tr>\n",
       "      <th>1</th>\n",
       "      <td>M</td>\n",
       "      <td>68</td>\n",
       "      <td>70000.0</td>\n",
       "      <td>863 days</td>\n",
       "      <td>e2127556f4f64592b11af22de27a7932</td>\n",
       "      <td>2906b810c7d4411798c6938adc9daaa5</td>\n",
       "    </tr>\n",
       "    <tr>\n",
       "      <th>2</th>\n",
       "      <td>M</td>\n",
       "      <td>58</td>\n",
       "      <td>51000.0</td>\n",
       "      <td>1029 days</td>\n",
       "      <td>2eeac8d8feae4a8cad5a6af0499a211d</td>\n",
       "      <td>2298d6c36e964ae4a3e7e9706d1fb8c2</td>\n",
       "    </tr>\n",
       "    <tr>\n",
       "      <th>3</th>\n",
       "      <td>F</td>\n",
       "      <td>61</td>\n",
       "      <td>57000.0</td>\n",
       "      <td>1090 days</td>\n",
       "      <td>aa4862eba776480b8bb9c68455b8c2e1</td>\n",
       "      <td>0b1e1539f2cc45b7b9fa7c272da2e1d7</td>\n",
       "    </tr>\n",
       "    <tr>\n",
       "      <th>4</th>\n",
       "      <td>F</td>\n",
       "      <td>61</td>\n",
       "      <td>57000.0</td>\n",
       "      <td>1090 days</td>\n",
       "      <td>aa4862eba776480b8bb9c68455b8c2e1</td>\n",
       "      <td>5a8bc65990b245e5a138643cd4eb9837</td>\n",
       "    </tr>\n",
       "    <tr>\n",
       "      <th>5</th>\n",
       "      <td>M</td>\n",
       "      <td>26</td>\n",
       "      <td>46000.0</td>\n",
       "      <td>2396 days</td>\n",
       "      <td>e12aeaf2d47d42479ea1c4ac3d8286c6</td>\n",
       "      <td>ae264e3637204a6fb9bb56bc8210ddfd</td>\n",
       "    </tr>\n",
       "    <tr>\n",
       "      <th>6</th>\n",
       "      <td>F</td>\n",
       "      <td>62</td>\n",
       "      <td>71000.0</td>\n",
       "      <td>1668 days</td>\n",
       "      <td>31dda685af34476cad5bc968bdb01c53</td>\n",
       "      <td>0b1e1539f2cc45b7b9fa7c272da2e1d7</td>\n",
       "    </tr>\n",
       "    <tr>\n",
       "      <th>7</th>\n",
       "      <td>M</td>\n",
       "      <td>49</td>\n",
       "      <td>52000.0</td>\n",
       "      <td>2123 days</td>\n",
       "      <td>62cf5e10845442329191fc246e7bcea3</td>\n",
       "      <td>5a8bc65990b245e5a138643cd4eb9837</td>\n",
       "    </tr>\n",
       "    <tr>\n",
       "      <th>8</th>\n",
       "      <td>F</td>\n",
       "      <td>61</td>\n",
       "      <td>40000.0</td>\n",
       "      <td>858 days</td>\n",
       "      <td>a448667f336b42c9a66fc5ffd5d73772</td>\n",
       "      <td>ae264e3637204a6fb9bb56bc8210ddfd</td>\n",
       "    </tr>\n",
       "    <tr>\n",
       "      <th>9</th>\n",
       "      <td>F</td>\n",
       "      <td>61</td>\n",
       "      <td>40000.0</td>\n",
       "      <td>858 days</td>\n",
       "      <td>a448667f336b42c9a66fc5ffd5d73772</td>\n",
       "      <td>5a8bc65990b245e5a138643cd4eb9837</td>\n",
       "    </tr>\n",
       "  </tbody>\n",
       "</table>\n",
       "</div>"
      ],
      "text/plain": [
       "  gender  age    income membership_time                            person  \\\n",
       "0      F   75  100000.0       1215 days  78afa995795e4d85b5d9ceeca43f5fef   \n",
       "1      M   68   70000.0        863 days  e2127556f4f64592b11af22de27a7932   \n",
       "2      M   58   51000.0       1029 days  2eeac8d8feae4a8cad5a6af0499a211d   \n",
       "3      F   61   57000.0       1090 days  aa4862eba776480b8bb9c68455b8c2e1   \n",
       "4      F   61   57000.0       1090 days  aa4862eba776480b8bb9c68455b8c2e1   \n",
       "5      M   26   46000.0       2396 days  e12aeaf2d47d42479ea1c4ac3d8286c6   \n",
       "6      F   62   71000.0       1668 days  31dda685af34476cad5bc968bdb01c53   \n",
       "7      M   49   52000.0       2123 days  62cf5e10845442329191fc246e7bcea3   \n",
       "8      F   61   40000.0        858 days  a448667f336b42c9a66fc5ffd5d73772   \n",
       "9      F   61   40000.0        858 days  a448667f336b42c9a66fc5ffd5d73772   \n",
       "\n",
       "                           offer_id  \n",
       "0  5a8bc65990b245e5a138643cd4eb9837  \n",
       "1  2906b810c7d4411798c6938adc9daaa5  \n",
       "2  2298d6c36e964ae4a3e7e9706d1fb8c2  \n",
       "3  0b1e1539f2cc45b7b9fa7c272da2e1d7  \n",
       "4  5a8bc65990b245e5a138643cd4eb9837  \n",
       "5  ae264e3637204a6fb9bb56bc8210ddfd  \n",
       "6  0b1e1539f2cc45b7b9fa7c272da2e1d7  \n",
       "7  5a8bc65990b245e5a138643cd4eb9837  \n",
       "8  ae264e3637204a6fb9bb56bc8210ddfd  \n",
       "9  5a8bc65990b245e5a138643cd4eb9837  "
      ]
     },
     "execution_count": 186,
     "metadata": {},
     "output_type": "execute_result"
    }
   ],
   "source": [
    "profile_offer_viewed_not_completed = profile_offer_viewed_not_completed.drop('id', axis=1)\n",
    "profile_offer_viewed_not_completed.head(10)\n"
   ]
  },
  {
   "cell_type": "markdown",
   "metadata": {},
   "source": [
    "### Data Exploration - portfolio.json"
   ]
  },
  {
   "cell_type": "code",
   "execution_count": 187,
   "metadata": {},
   "outputs": [
    {
     "data": {
      "text/plain": [
       "(10, 6)"
      ]
     },
     "execution_count": 187,
     "metadata": {},
     "output_type": "execute_result"
    }
   ],
   "source": [
    "portfolio.shape"
   ]
  },
  {
   "cell_type": "code",
   "execution_count": 188,
   "metadata": {},
   "outputs": [
    {
     "data": {
      "text/plain": [
       "Index(['reward', 'channels', 'difficulty', 'duration', 'offer_type', 'id'], dtype='object')"
      ]
     },
     "execution_count": 188,
     "metadata": {},
     "output_type": "execute_result"
    }
   ],
   "source": [
    "portfolio.columns\n"
   ]
  },
  {
   "cell_type": "code",
   "execution_count": 189,
   "metadata": {},
   "outputs": [
    {
     "data": {
      "text/html": [
       "<div>\n",
       "<style scoped>\n",
       "    .dataframe tbody tr th:only-of-type {\n",
       "        vertical-align: middle;\n",
       "    }\n",
       "\n",
       "    .dataframe tbody tr th {\n",
       "        vertical-align: top;\n",
       "    }\n",
       "\n",
       "    .dataframe thead th {\n",
       "        text-align: right;\n",
       "    }\n",
       "</style>\n",
       "<table border=\"1\" class=\"dataframe\">\n",
       "  <thead>\n",
       "    <tr style=\"text-align: right;\">\n",
       "      <th></th>\n",
       "      <th>reward</th>\n",
       "      <th>channels</th>\n",
       "      <th>difficulty</th>\n",
       "      <th>duration</th>\n",
       "      <th>offer_type</th>\n",
       "      <th>id</th>\n",
       "    </tr>\n",
       "  </thead>\n",
       "  <tbody>\n",
       "    <tr>\n",
       "      <th>0</th>\n",
       "      <td>10</td>\n",
       "      <td>[email, mobile, social]</td>\n",
       "      <td>10</td>\n",
       "      <td>7</td>\n",
       "      <td>bogo</td>\n",
       "      <td>ae264e3637204a6fb9bb56bc8210ddfd</td>\n",
       "    </tr>\n",
       "    <tr>\n",
       "      <th>1</th>\n",
       "      <td>10</td>\n",
       "      <td>[web, email, mobile, social]</td>\n",
       "      <td>10</td>\n",
       "      <td>5</td>\n",
       "      <td>bogo</td>\n",
       "      <td>4d5c57ea9a6940dd891ad53e9dbe8da0</td>\n",
       "    </tr>\n",
       "    <tr>\n",
       "      <th>2</th>\n",
       "      <td>0</td>\n",
       "      <td>[web, email, mobile]</td>\n",
       "      <td>0</td>\n",
       "      <td>4</td>\n",
       "      <td>informational</td>\n",
       "      <td>3f207df678b143eea3cee63160fa8bed</td>\n",
       "    </tr>\n",
       "    <tr>\n",
       "      <th>3</th>\n",
       "      <td>5</td>\n",
       "      <td>[web, email, mobile]</td>\n",
       "      <td>5</td>\n",
       "      <td>7</td>\n",
       "      <td>bogo</td>\n",
       "      <td>9b98b8c7a33c4b65b9aebfe6a799e6d9</td>\n",
       "    </tr>\n",
       "    <tr>\n",
       "      <th>4</th>\n",
       "      <td>5</td>\n",
       "      <td>[web, email]</td>\n",
       "      <td>20</td>\n",
       "      <td>10</td>\n",
       "      <td>discount</td>\n",
       "      <td>0b1e1539f2cc45b7b9fa7c272da2e1d7</td>\n",
       "    </tr>\n",
       "  </tbody>\n",
       "</table>\n",
       "</div>"
      ],
      "text/plain": [
       "   reward                      channels  difficulty  duration     offer_type  \\\n",
       "0      10       [email, mobile, social]          10         7           bogo   \n",
       "1      10  [web, email, mobile, social]          10         5           bogo   \n",
       "2       0          [web, email, mobile]           0         4  informational   \n",
       "3       5          [web, email, mobile]           5         7           bogo   \n",
       "4       5                  [web, email]          20        10       discount   \n",
       "\n",
       "                                 id  \n",
       "0  ae264e3637204a6fb9bb56bc8210ddfd  \n",
       "1  4d5c57ea9a6940dd891ad53e9dbe8da0  \n",
       "2  3f207df678b143eea3cee63160fa8bed  \n",
       "3  9b98b8c7a33c4b65b9aebfe6a799e6d9  \n",
       "4  0b1e1539f2cc45b7b9fa7c272da2e1d7  "
      ]
     },
     "execution_count": 189,
     "metadata": {},
     "output_type": "execute_result"
    }
   ],
   "source": [
    "\n",
    "\n",
    "portfolio.head(5)"
   ]
  },
  {
   "cell_type": "code",
   "execution_count": 190,
   "metadata": {},
   "outputs": [
    {
     "data": {
      "text/plain": [
       "<matplotlib.axes._subplots.AxesSubplot at 0x1a1f39c650>"
      ]
     },
     "execution_count": 190,
     "metadata": {},
     "output_type": "execute_result"
    },
    {
     "data": {
      "image/png": "[encoded data removed]",
      "text/plain": [
       "<Figure size 2376x495 with 1 Axes>"
      ]
     },
     "metadata": {
      "needs_background": "light"
     },
     "output_type": "display_data"
    }
   ],
   "source": [
    "\n",
    "\n",
    "\n",
    "\n",
    "render_mpl_table(portfolio.head(10), header_columns=0, col_width=5.5)"
   ]
  },
  {
   "cell_type": "markdown",
   "metadata": {},
   "source": [
    "### Check for Missing Data in 'portfolio.json'"
   ]
  },
  {
   "cell_type": "code",
   "execution_count": 191,
   "metadata": {},
   "outputs": [
    {
     "data": {
      "text/html": [
       "<div>\n",
       "<style scoped>\n",
       "    .dataframe tbody tr th:only-of-type {\n",
       "        vertical-align: middle;\n",
       "    }\n",
       "\n",
       "    .dataframe tbody tr th {\n",
       "        vertical-align: top;\n",
       "    }\n",
       "\n",
       "    .dataframe thead th {\n",
       "        text-align: right;\n",
       "    }\n",
       "</style>\n",
       "<table border=\"1\" class=\"dataframe\">\n",
       "  <thead>\n",
       "    <tr style=\"text-align: right;\">\n",
       "      <th></th>\n",
       "      <th>Total</th>\n",
       "      <th>Percent</th>\n",
       "    </tr>\n",
       "  </thead>\n",
       "  <tbody>\n",
       "    <tr>\n",
       "      <th>id</th>\n",
       "      <td>0</td>\n",
       "      <td>0.0</td>\n",
       "    </tr>\n",
       "    <tr>\n",
       "      <th>offer_type</th>\n",
       "      <td>0</td>\n",
       "      <td>0.0</td>\n",
       "    </tr>\n",
       "    <tr>\n",
       "      <th>duration</th>\n",
       "      <td>0</td>\n",
       "      <td>0.0</td>\n",
       "    </tr>\n",
       "    <tr>\n",
       "      <th>difficulty</th>\n",
       "      <td>0</td>\n",
       "      <td>0.0</td>\n",
       "    </tr>\n",
       "    <tr>\n",
       "      <th>channels</th>\n",
       "      <td>0</td>\n",
       "      <td>0.0</td>\n",
       "    </tr>\n",
       "    <tr>\n",
       "      <th>reward</th>\n",
       "      <td>0</td>\n",
       "      <td>0.0</td>\n",
       "    </tr>\n",
       "  </tbody>\n",
       "</table>\n",
       "</div>"
      ],
      "text/plain": [
       "            Total  Percent\n",
       "id              0      0.0\n",
       "offer_type      0      0.0\n",
       "duration        0      0.0\n",
       "difficulty      0      0.0\n",
       "channels        0      0.0\n",
       "reward          0      0.0"
      ]
     },
     "execution_count": 191,
     "metadata": {},
     "output_type": "execute_result"
    }
   ],
   "source": [
    "# no missing data in portfolio\n",
    "portfolio_total = portfolio.isnull().sum().sort_values(ascending=False)\n",
    "portfolio_percent = (portfolio.isnull().sum()/portfolio.isnull().count()).sort_values(ascending=False)\n",
    "portfolio_missing_data = pd.concat([portfolio_total, portfolio_percent], axis=1, keys=['Total', 'Percent'])\n",
    "portfolio_missing_data.head(20)"
   ]
  },
  {
   "cell_type": "markdown",
   "metadata": {},
   "source": [
    "We can see that there are no missing values in the portfolio dataset."
   ]
  },
  {
   "cell_type": "markdown",
   "metadata": {},
   "source": [
    "#### Obtain the Portfolio&Profiling&Offer Information where Offers are Viewed and Completed"
   ]
  },
  {
   "cell_type": "code",
   "execution_count": 192,
   "metadata": {},
   "outputs": [
    {
     "data": {
      "text/html": [
       "<div>\n",
       "<style scoped>\n",
       "    .dataframe tbody tr th:only-of-type {\n",
       "        vertical-align: middle;\n",
       "    }\n",
       "\n",
       "    .dataframe tbody tr th {\n",
       "        vertical-align: top;\n",
       "    }\n",
       "\n",
       "    .dataframe thead th {\n",
       "        text-align: right;\n",
       "    }\n",
       "</style>\n",
       "<table border=\"1\" class=\"dataframe\">\n",
       "  <thead>\n",
       "    <tr style=\"text-align: right;\">\n",
       "      <th></th>\n",
       "      <th>reward_x</th>\n",
       "      <th>channels</th>\n",
       "      <th>difficulty</th>\n",
       "      <th>duration</th>\n",
       "      <th>offer_type</th>\n",
       "      <th>id</th>\n",
       "      <th>gender</th>\n",
       "      <th>age</th>\n",
       "      <th>income</th>\n",
       "      <th>membership_time</th>\n",
       "      <th>person</th>\n",
       "      <th>offer_id</th>\n",
       "      <th>reward_y</th>\n",
       "    </tr>\n",
       "  </thead>\n",
       "  <tbody>\n",
       "    <tr>\n",
       "      <th>0</th>\n",
       "      <td>10</td>\n",
       "      <td>[email, mobile, social]</td>\n",
       "      <td>10</td>\n",
       "      <td>7</td>\n",
       "      <td>bogo</td>\n",
       "      <td>ae264e3637204a6fb9bb56bc8210ddfd</td>\n",
       "      <td>F</td>\n",
       "      <td>75</td>\n",
       "      <td>100000.0</td>\n",
       "      <td>1215 days</td>\n",
       "      <td>78afa995795e4d85b5d9ceeca43f5fef</td>\n",
       "      <td>ae264e3637204a6fb9bb56bc8210ddfd</td>\n",
       "      <td>10</td>\n",
       "    </tr>\n",
       "    <tr>\n",
       "      <th>1</th>\n",
       "      <td>10</td>\n",
       "      <td>[email, mobile, social]</td>\n",
       "      <td>10</td>\n",
       "      <td>7</td>\n",
       "      <td>bogo</td>\n",
       "      <td>ae264e3637204a6fb9bb56bc8210ddfd</td>\n",
       "      <td>F</td>\n",
       "      <td>61</td>\n",
       "      <td>57000.0</td>\n",
       "      <td>1090 days</td>\n",
       "      <td>aa4862eba776480b8bb9c68455b8c2e1</td>\n",
       "      <td>ae264e3637204a6fb9bb56bc8210ddfd</td>\n",
       "      <td>10</td>\n",
       "    </tr>\n",
       "    <tr>\n",
       "      <th>2</th>\n",
       "      <td>10</td>\n",
       "      <td>[email, mobile, social]</td>\n",
       "      <td>10</td>\n",
       "      <td>7</td>\n",
       "      <td>bogo</td>\n",
       "      <td>ae264e3637204a6fb9bb56bc8210ddfd</td>\n",
       "      <td>M</td>\n",
       "      <td>49</td>\n",
       "      <td>52000.0</td>\n",
       "      <td>2123 days</td>\n",
       "      <td>62cf5e10845442329191fc246e7bcea3</td>\n",
       "      <td>ae264e3637204a6fb9bb56bc8210ddfd</td>\n",
       "      <td>10</td>\n",
       "    </tr>\n",
       "    <tr>\n",
       "      <th>3</th>\n",
       "      <td>10</td>\n",
       "      <td>[email, mobile, social]</td>\n",
       "      <td>10</td>\n",
       "      <td>7</td>\n",
       "      <td>bogo</td>\n",
       "      <td>ae264e3637204a6fb9bb56bc8210ddfd</td>\n",
       "      <td>M</td>\n",
       "      <td>64</td>\n",
       "      <td>100000.0</td>\n",
       "      <td>1092 days</td>\n",
       "      <td>4b0da7e80e5945209a1fdddfe813dbe0</td>\n",
       "      <td>ae264e3637204a6fb9bb56bc8210ddfd</td>\n",
       "      <td>10</td>\n",
       "    </tr>\n",
       "    <tr>\n",
       "      <th>4</th>\n",
       "      <td>10</td>\n",
       "      <td>[email, mobile, social]</td>\n",
       "      <td>10</td>\n",
       "      <td>7</td>\n",
       "      <td>bogo</td>\n",
       "      <td>ae264e3637204a6fb9bb56bc8210ddfd</td>\n",
       "      <td>M</td>\n",
       "      <td>64</td>\n",
       "      <td>100000.0</td>\n",
       "      <td>1092 days</td>\n",
       "      <td>4b0da7e80e5945209a1fdddfe813dbe0</td>\n",
       "      <td>ae264e3637204a6fb9bb56bc8210ddfd</td>\n",
       "      <td>10</td>\n",
       "    </tr>\n",
       "    <tr>\n",
       "      <th>5</th>\n",
       "      <td>10</td>\n",
       "      <td>[email, mobile, social]</td>\n",
       "      <td>10</td>\n",
       "      <td>7</td>\n",
       "      <td>bogo</td>\n",
       "      <td>ae264e3637204a6fb9bb56bc8210ddfd</td>\n",
       "      <td>F</td>\n",
       "      <td>69</td>\n",
       "      <td>57000.0</td>\n",
       "      <td>1483 days</td>\n",
       "      <td>102e9454054946fda62242d2e176fdce</td>\n",
       "      <td>ae264e3637204a6fb9bb56bc8210ddfd</td>\n",
       "      <td>10</td>\n",
       "    </tr>\n",
       "    <tr>\n",
       "      <th>6</th>\n",
       "      <td>10</td>\n",
       "      <td>[email, mobile, social]</td>\n",
       "      <td>10</td>\n",
       "      <td>7</td>\n",
       "      <td>bogo</td>\n",
       "      <td>ae264e3637204a6fb9bb56bc8210ddfd</td>\n",
       "      <td>F</td>\n",
       "      <td>79</td>\n",
       "      <td>48000.0</td>\n",
       "      <td>1970 days</td>\n",
       "      <td>a3b9b4bf115e4564933ea2e4bc936843</td>\n",
       "      <td>ae264e3637204a6fb9bb56bc8210ddfd</td>\n",
       "      <td>10</td>\n",
       "    </tr>\n",
       "    <tr>\n",
       "      <th>7</th>\n",
       "      <td>10</td>\n",
       "      <td>[email, mobile, social]</td>\n",
       "      <td>10</td>\n",
       "      <td>7</td>\n",
       "      <td>bogo</td>\n",
       "      <td>ae264e3637204a6fb9bb56bc8210ddfd</td>\n",
       "      <td>F</td>\n",
       "      <td>78</td>\n",
       "      <td>93000.0</td>\n",
       "      <td>1427 days</td>\n",
       "      <td>fe8264108d5b4f198453bbb1fa7ca6c9</td>\n",
       "      <td>ae264e3637204a6fb9bb56bc8210ddfd</td>\n",
       "      <td>10</td>\n",
       "    </tr>\n",
       "    <tr>\n",
       "      <th>8</th>\n",
       "      <td>10</td>\n",
       "      <td>[email, mobile, social]</td>\n",
       "      <td>10</td>\n",
       "      <td>7</td>\n",
       "      <td>bogo</td>\n",
       "      <td>ae264e3637204a6fb9bb56bc8210ddfd</td>\n",
       "      <td>M</td>\n",
       "      <td>63</td>\n",
       "      <td>56000.0</td>\n",
       "      <td>785 days</td>\n",
       "      <td>ca82e1ebc759402c8ab95c341755bdf1</td>\n",
       "      <td>ae264e3637204a6fb9bb56bc8210ddfd</td>\n",
       "      <td>10</td>\n",
       "    </tr>\n",
       "    <tr>\n",
       "      <th>9</th>\n",
       "      <td>10</td>\n",
       "      <td>[email, mobile, social]</td>\n",
       "      <td>10</td>\n",
       "      <td>7</td>\n",
       "      <td>bogo</td>\n",
       "      <td>ae264e3637204a6fb9bb56bc8210ddfd</td>\n",
       "      <td>F</td>\n",
       "      <td>53</td>\n",
       "      <td>72000.0</td>\n",
       "      <td>1522 days</td>\n",
       "      <td>8c7df0c393db488aac3e58b06a7ea5f9</td>\n",
       "      <td>ae264e3637204a6fb9bb56bc8210ddfd</td>\n",
       "      <td>10</td>\n",
       "    </tr>\n",
       "  </tbody>\n",
       "</table>\n",
       "</div>"
      ],
      "text/plain": [
       "   reward_x                 channels  difficulty  duration offer_type  \\\n",
       "0        10  [email, mobile, social]          10         7       bogo   \n",
       "1        10  [email, mobile, social]          10         7       bogo   \n",
       "2        10  [email, mobile, social]          10         7       bogo   \n",
       "3        10  [email, mobile, social]          10         7       bogo   \n",
       "4        10  [email, mobile, social]          10         7       bogo   \n",
       "5        10  [email, mobile, social]          10         7       bogo   \n",
       "6        10  [email, mobile, social]          10         7       bogo   \n",
       "7        10  [email, mobile, social]          10         7       bogo   \n",
       "8        10  [email, mobile, social]          10         7       bogo   \n",
       "9        10  [email, mobile, social]          10         7       bogo   \n",
       "\n",
       "                                 id gender  age    income membership_time  \\\n",
       "0  ae264e3637204a6fb9bb56bc8210ddfd      F   75  100000.0       1215 days   \n",
       "1  ae264e3637204a6fb9bb56bc8210ddfd      F   61   57000.0       1090 days   \n",
       "2  ae264e3637204a6fb9bb56bc8210ddfd      M   49   52000.0       2123 days   \n",
       "3  ae264e3637204a6fb9bb56bc8210ddfd      M   64  100000.0       1092 days   \n",
       "4  ae264e3637204a6fb9bb56bc8210ddfd      M   64  100000.0       1092 days   \n",
       "5  ae264e3637204a6fb9bb56bc8210ddfd      F   69   57000.0       1483 days   \n",
       "6  ae264e3637204a6fb9bb56bc8210ddfd      F   79   48000.0       1970 days   \n",
       "7  ae264e3637204a6fb9bb56bc8210ddfd      F   78   93000.0       1427 days   \n",
       "8  ae264e3637204a6fb9bb56bc8210ddfd      M   63   56000.0        785 days   \n",
       "9  ae264e3637204a6fb9bb56bc8210ddfd      F   53   72000.0       1522 days   \n",
       "\n",
       "                             person                          offer_id  \\\n",
       "0  78afa995795e4d85b5d9ceeca43f5fef  ae264e3637204a6fb9bb56bc8210ddfd   \n",
       "1  aa4862eba776480b8bb9c68455b8c2e1  ae264e3637204a6fb9bb56bc8210ddfd   \n",
       "2  62cf5e10845442329191fc246e7bcea3  ae264e3637204a6fb9bb56bc8210ddfd   \n",
       "3  4b0da7e80e5945209a1fdddfe813dbe0  ae264e3637204a6fb9bb56bc8210ddfd   \n",
       "4  4b0da7e80e5945209a1fdddfe813dbe0  ae264e3637204a6fb9bb56bc8210ddfd   \n",
       "5  102e9454054946fda62242d2e176fdce  ae264e3637204a6fb9bb56bc8210ddfd   \n",
       "6  a3b9b4bf115e4564933ea2e4bc936843  ae264e3637204a6fb9bb56bc8210ddfd   \n",
       "7  fe8264108d5b4f198453bbb1fa7ca6c9  ae264e3637204a6fb9bb56bc8210ddfd   \n",
       "8  ca82e1ebc759402c8ab95c341755bdf1  ae264e3637204a6fb9bb56bc8210ddfd   \n",
       "9  8c7df0c393db488aac3e58b06a7ea5f9  ae264e3637204a6fb9bb56bc8210ddfd   \n",
       "\n",
       "   reward_y  \n",
       "0        10  \n",
       "1        10  \n",
       "2        10  \n",
       "3        10  \n",
       "4        10  \n",
       "5        10  \n",
       "6        10  \n",
       "7        10  \n",
       "8        10  \n",
       "9        10  "
      ]
     },
     "execution_count": 192,
     "metadata": {},
     "output_type": "execute_result"
    }
   ],
   "source": [
    "portfolio_profile_offer_viewed_completed = pd.merge(portfolio, profile_offer_viewed_completed, left_on='id', right_on='offer_id', how='inner')\n",
    "\n",
    "portfolio_profile_offer_viewed_completed.head(10)\n"
   ]
  },
  {
   "cell_type": "markdown",
   "metadata": {},
   "source": [
    "We observe that there are two seemingly identical columns generated after the merge: `reward_x` and `reward_y`. We want to check if the two features are the same."
   ]
  },
  {
   "cell_type": "code",
   "execution_count": 193,
   "metadata": {},
   "outputs": [
    {
     "data": {
      "text/plain": [
       "True"
      ]
     },
     "execution_count": 193,
     "metadata": {},
     "output_type": "execute_result"
    }
   ],
   "source": [
    "portfolio_profile_offer_viewed_completed['reward_x'].equals(portfolio_profile_offer_viewed_completed['reward_y'])\n"
   ]
  },
  {
   "cell_type": "markdown",
   "metadata": {},
   "source": [
    "Since `reward_x` and `reward_y` carry the same information, we drop one of them and rename the other to `reward`."
   ]
  },
  {
   "cell_type": "code",
   "execution_count": 194,
   "metadata": {},
   "outputs": [],
   "source": [
    "portfolio_profile_offer_viewed_completed.drop('reward_x', axis=1, inplace=True)\n",
    "portfolio_profile_offer_viewed_completed.rename(columns={'reward_y':'reward'}, inplace=True)\n"
   ]
  },
  {
   "cell_type": "code",
   "execution_count": 195,
   "metadata": {},
   "outputs": [
    {
     "data": {
      "text/html": [
       "<div>\n",
       "<style scoped>\n",
       "    .dataframe tbody tr th:only-of-type {\n",
       "        vertical-align: middle;\n",
       "    }\n",
       "\n",
       "    .dataframe tbody tr th {\n",
       "        vertical-align: top;\n",
       "    }\n",
       "\n",
       "    .dataframe thead th {\n",
       "        text-align: right;\n",
       "    }\n",
       "</style>\n",
       "<table border=\"1\" class=\"dataframe\">\n",
       "  <thead>\n",
       "    <tr style=\"text-align: right;\">\n",
       "      <th></th>\n",
       "      <th>channels</th>\n",
       "      <th>difficulty</th>\n",
       "      <th>duration</th>\n",
       "      <th>offer_type</th>\n",
       "      <th>id</th>\n",
       "      <th>gender</th>\n",
       "      <th>age</th>\n",
       "      <th>income</th>\n",
       "      <th>membership_time</th>\n",
       "      <th>person</th>\n",
       "      <th>offer_id</th>\n",
       "      <th>reward</th>\n",
       "    </tr>\n",
       "  </thead>\n",
       "  <tbody>\n",
       "    <tr>\n",
       "      <th>0</th>\n",
       "      <td>[email, mobile, social]</td>\n",
       "      <td>10</td>\n",
       "      <td>7</td>\n",
       "      <td>bogo</td>\n",
       "      <td>ae264e3637204a6fb9bb56bc8210ddfd</td>\n",
       "      <td>F</td>\n",
       "      <td>75</td>\n",
       "      <td>100000.0</td>\n",
       "      <td>1215 days</td>\n",
       "      <td>78afa995795e4d85b5d9ceeca43f5fef</td>\n",
       "      <td>ae264e3637204a6fb9bb56bc8210ddfd</td>\n",
       "      <td>10</td>\n",
       "    </tr>\n",
       "    <tr>\n",
       "      <th>1</th>\n",
       "      <td>[email, mobile, social]</td>\n",
       "      <td>10</td>\n",
       "      <td>7</td>\n",
       "      <td>bogo</td>\n",
       "      <td>ae264e3637204a6fb9bb56bc8210ddfd</td>\n",
       "      <td>F</td>\n",
       "      <td>61</td>\n",
       "      <td>57000.0</td>\n",
       "      <td>1090 days</td>\n",
       "      <td>aa4862eba776480b8bb9c68455b8c2e1</td>\n",
       "      <td>ae264e3637204a6fb9bb56bc8210ddfd</td>\n",
       "      <td>10</td>\n",
       "    </tr>\n",
       "    <tr>\n",
       "      <th>2</th>\n",
       "      <td>[email, mobile, social]</td>\n",
       "      <td>10</td>\n",
       "      <td>7</td>\n",
       "      <td>bogo</td>\n",
       "      <td>ae264e3637204a6fb9bb56bc8210ddfd</td>\n",
       "      <td>M</td>\n",
       "      <td>49</td>\n",
       "      <td>52000.0</td>\n",
       "      <td>2123 days</td>\n",
       "      <td>62cf5e10845442329191fc246e7bcea3</td>\n",
       "      <td>ae264e3637204a6fb9bb56bc8210ddfd</td>\n",
       "      <td>10</td>\n",
       "    </tr>\n",
       "    <tr>\n",
       "      <th>3</th>\n",
       "      <td>[email, mobile, social]</td>\n",
       "      <td>10</td>\n",
       "      <td>7</td>\n",
       "      <td>bogo</td>\n",
       "      <td>ae264e3637204a6fb9bb56bc8210ddfd</td>\n",
       "      <td>M</td>\n",
       "      <td>64</td>\n",
       "      <td>100000.0</td>\n",
       "      <td>1092 days</td>\n",
       "      <td>4b0da7e80e5945209a1fdddfe813dbe0</td>\n",
       "      <td>ae264e3637204a6fb9bb56bc8210ddfd</td>\n",
       "      <td>10</td>\n",
       "    </tr>\n",
       "    <tr>\n",
       "      <th>4</th>\n",
       "      <td>[email, mobile, social]</td>\n",
       "      <td>10</td>\n",
       "      <td>7</td>\n",
       "      <td>bogo</td>\n",
       "      <td>ae264e3637204a6fb9bb56bc8210ddfd</td>\n",
       "      <td>M</td>\n",
       "      <td>64</td>\n",
       "      <td>100000.0</td>\n",
       "      <td>1092 days</td>\n",
       "      <td>4b0da7e80e5945209a1fdddfe813dbe0</td>\n",
       "      <td>ae264e3637204a6fb9bb56bc8210ddfd</td>\n",
       "      <td>10</td>\n",
       "    </tr>\n",
       "    <tr>\n",
       "      <th>5</th>\n",
       "      <td>[email, mobile, social]</td>\n",
       "      <td>10</td>\n",
       "      <td>7</td>\n",
       "      <td>bogo</td>\n",
       "      <td>ae264e3637204a6fb9bb56bc8210ddfd</td>\n",
       "      <td>F</td>\n",
       "      <td>69</td>\n",
       "      <td>57000.0</td>\n",
       "      <td>1483 days</td>\n",
       "      <td>102e9454054946fda62242d2e176fdce</td>\n",
       "      <td>ae264e3637204a6fb9bb56bc8210ddfd</td>\n",
       "      <td>10</td>\n",
       "    </tr>\n",
       "    <tr>\n",
       "      <th>6</th>\n",
       "      <td>[email, mobile, social]</td>\n",
       "      <td>10</td>\n",
       "      <td>7</td>\n",
       "      <td>bogo</td>\n",
       "      <td>ae264e3637204a6fb9bb56bc8210ddfd</td>\n",
       "      <td>F</td>\n",
       "      <td>79</td>\n",
       "      <td>48000.0</td>\n",
       "      <td>1970 days</td>\n",
       "      <td>a3b9b4bf115e4564933ea2e4bc936843</td>\n",
       "      <td>ae264e3637204a6fb9bb56bc8210ddfd</td>\n",
       "      <td>10</td>\n",
       "    </tr>\n",
       "    <tr>\n",
       "      <th>7</th>\n",
       "      <td>[email, mobile, social]</td>\n",
       "      <td>10</td>\n",
       "      <td>7</td>\n",
       "      <td>bogo</td>\n",
       "      <td>ae264e3637204a6fb9bb56bc8210ddfd</td>\n",
       "      <td>F</td>\n",
       "      <td>78</td>\n",
       "      <td>93000.0</td>\n",
       "      <td>1427 days</td>\n",
       "      <td>fe8264108d5b4f198453bbb1fa7ca6c9</td>\n",
       "      <td>ae264e3637204a6fb9bb56bc8210ddfd</td>\n",
       "      <td>10</td>\n",
       "    </tr>\n",
       "    <tr>\n",
       "      <th>8</th>\n",
       "      <td>[email, mobile, social]</td>\n",
       "      <td>10</td>\n",
       "      <td>7</td>\n",
       "      <td>bogo</td>\n",
       "      <td>ae264e3637204a6fb9bb56bc8210ddfd</td>\n",
       "      <td>M</td>\n",
       "      <td>63</td>\n",
       "      <td>56000.0</td>\n",
       "      <td>785 days</td>\n",
       "      <td>ca82e1ebc759402c8ab95c341755bdf1</td>\n",
       "      <td>ae264e3637204a6fb9bb56bc8210ddfd</td>\n",
       "      <td>10</td>\n",
       "    </tr>\n",
       "    <tr>\n",
       "      <th>9</th>\n",
       "      <td>[email, mobile, social]</td>\n",
       "      <td>10</td>\n",
       "      <td>7</td>\n",
       "      <td>bogo</td>\n",
       "      <td>ae264e3637204a6fb9bb56bc8210ddfd</td>\n",
       "      <td>F</td>\n",
       "      <td>53</td>\n",
       "      <td>72000.0</td>\n",
       "      <td>1522 days</td>\n",
       "      <td>8c7df0c393db488aac3e58b06a7ea5f9</td>\n",
       "      <td>ae264e3637204a6fb9bb56bc8210ddfd</td>\n",
       "      <td>10</td>\n",
       "    </tr>\n",
       "  </tbody>\n",
       "</table>\n",
       "</div>"
      ],
      "text/plain": [
       "                  channels  difficulty  duration offer_type  \\\n",
       "0  [email, mobile, social]          10         7       bogo   \n",
       "1  [email, mobile, social]          10         7       bogo   \n",
       "2  [email, mobile, social]          10         7       bogo   \n",
       "3  [email, mobile, social]          10         7       bogo   \n",
       "4  [email, mobile, social]          10         7       bogo   \n",
       "5  [email, mobile, social]          10         7       bogo   \n",
       "6  [email, mobile, social]          10         7       bogo   \n",
       "7  [email, mobile, social]          10         7       bogo   \n",
       "8  [email, mobile, social]          10         7       bogo   \n",
       "9  [email, mobile, social]          10         7       bogo   \n",
       "\n",
       "                                 id gender  age    income membership_time  \\\n",
       "0  ae264e3637204a6fb9bb56bc8210ddfd      F   75  100000.0       1215 days   \n",
       "1  ae264e3637204a6fb9bb56bc8210ddfd      F   61   57000.0       1090 days   \n",
       "2  ae264e3637204a6fb9bb56bc8210ddfd      M   49   52000.0       2123 days   \n",
       "3  ae264e3637204a6fb9bb56bc8210ddfd      M   64  100000.0       1092 days   \n",
       "4  ae264e3637204a6fb9bb56bc8210ddfd      M   64  100000.0       1092 days   \n",
       "5  ae264e3637204a6fb9bb56bc8210ddfd      F   69   57000.0       1483 days   \n",
       "6  ae264e3637204a6fb9bb56bc8210ddfd      F   79   48000.0       1970 days   \n",
       "7  ae264e3637204a6fb9bb56bc8210ddfd      F   78   93000.0       1427 days   \n",
       "8  ae264e3637204a6fb9bb56bc8210ddfd      M   63   56000.0        785 days   \n",
       "9  ae264e3637204a6fb9bb56bc8210ddfd      F   53   72000.0       1522 days   \n",
       "\n",
       "                             person                          offer_id  reward  \n",
       "0  78afa995795e4d85b5d9ceeca43f5fef  ae264e3637204a6fb9bb56bc8210ddfd      10  \n",
       "1  aa4862eba776480b8bb9c68455b8c2e1  ae264e3637204a6fb9bb56bc8210ddfd      10  \n",
       "2  62cf5e10845442329191fc246e7bcea3  ae264e3637204a6fb9bb56bc8210ddfd      10  \n",
       "3  4b0da7e80e5945209a1fdddfe813dbe0  ae264e3637204a6fb9bb56bc8210ddfd      10  \n",
       "4  4b0da7e80e5945209a1fdddfe813dbe0  ae264e3637204a6fb9bb56bc8210ddfd      10  \n",
       "5  102e9454054946fda62242d2e176fdce  ae264e3637204a6fb9bb56bc8210ddfd      10  \n",
       "6  a3b9b4bf115e4564933ea2e4bc936843  ae264e3637204a6fb9bb56bc8210ddfd      10  \n",
       "7  fe8264108d5b4f198453bbb1fa7ca6c9  ae264e3637204a6fb9bb56bc8210ddfd      10  \n",
       "8  ca82e1ebc759402c8ab95c341755bdf1  ae264e3637204a6fb9bb56bc8210ddfd      10  \n",
       "9  8c7df0c393db488aac3e58b06a7ea5f9  ae264e3637204a6fb9bb56bc8210ddfd      10  "
      ]
     },
     "execution_count": 195,
     "metadata": {},
     "output_type": "execute_result"
    }
   ],
   "source": [
    "portfolio_profile_offer_viewed_completed.head(10)"
   ]
  },
  {
   "cell_type": "markdown",
   "metadata": {},
   "source": [
    "Again, we observe that there are two seemingly identical columns generated after the merge: `id` and `offer_id`. We want to check if the two features are the same."
   ]
  },
  {
   "cell_type": "code",
   "execution_count": 196,
   "metadata": {},
   "outputs": [
    {
     "data": {
      "text/plain": [
       "True"
      ]
     },
     "execution_count": 196,
     "metadata": {},
     "output_type": "execute_result"
    }
   ],
   "source": [
    "portfolio_profile_offer_viewed_completed['id'].equals(portfolio_profile_offer_viewed_completed['offer_id'])"
   ]
  },
  {
   "cell_type": "markdown",
   "metadata": {},
   "source": [
    "We find out that `id` and `offer_id` carry the same information, and offer ids are strings that are not meaningful predictors. Therefore we can drop these feature columns. "
   ]
  },
  {
   "cell_type": "code",
   "execution_count": 197,
   "metadata": {},
   "outputs": [
    {
     "data": {
      "text/html": [
       "<div>\n",
       "<style scoped>\n",
       "    .dataframe tbody tr th:only-of-type {\n",
       "        vertical-align: middle;\n",
       "    }\n",
       "\n",
       "    .dataframe tbody tr th {\n",
       "        vertical-align: top;\n",
       "    }\n",
       "\n",
       "    .dataframe thead th {\n",
       "        text-align: right;\n",
       "    }\n",
       "</style>\n",
       "<table border=\"1\" class=\"dataframe\">\n",
       "  <thead>\n",
       "    <tr style=\"text-align: right;\">\n",
       "      <th></th>\n",
       "      <th>channels</th>\n",
       "      <th>difficulty</th>\n",
       "      <th>duration</th>\n",
       "      <th>offer_type</th>\n",
       "      <th>gender</th>\n",
       "      <th>age</th>\n",
       "      <th>income</th>\n",
       "      <th>membership_time</th>\n",
       "      <th>reward</th>\n",
       "    </tr>\n",
       "  </thead>\n",
       "  <tbody>\n",
       "    <tr>\n",
       "      <th>0</th>\n",
       "      <td>[email, mobile, social]</td>\n",
       "      <td>10</td>\n",
       "      <td>7</td>\n",
       "      <td>bogo</td>\n",
       "      <td>F</td>\n",
       "      <td>75</td>\n",
       "      <td>100000.0</td>\n",
       "      <td>1215 days</td>\n",
       "      <td>10</td>\n",
       "    </tr>\n",
       "    <tr>\n",
       "      <th>1</th>\n",
       "      <td>[email, mobile, social]</td>\n",
       "      <td>10</td>\n",
       "      <td>7</td>\n",
       "      <td>bogo</td>\n",
       "      <td>F</td>\n",
       "      <td>61</td>\n",
       "      <td>57000.0</td>\n",
       "      <td>1090 days</td>\n",
       "      <td>10</td>\n",
       "    </tr>\n",
       "    <tr>\n",
       "      <th>2</th>\n",
       "      <td>[email, mobile, social]</td>\n",
       "      <td>10</td>\n",
       "      <td>7</td>\n",
       "      <td>bogo</td>\n",
       "      <td>M</td>\n",
       "      <td>49</td>\n",
       "      <td>52000.0</td>\n",
       "      <td>2123 days</td>\n",
       "      <td>10</td>\n",
       "    </tr>\n",
       "    <tr>\n",
       "      <th>3</th>\n",
       "      <td>[email, mobile, social]</td>\n",
       "      <td>10</td>\n",
       "      <td>7</td>\n",
       "      <td>bogo</td>\n",
       "      <td>M</td>\n",
       "      <td>64</td>\n",
       "      <td>100000.0</td>\n",
       "      <td>1092 days</td>\n",
       "      <td>10</td>\n",
       "    </tr>\n",
       "    <tr>\n",
       "      <th>4</th>\n",
       "      <td>[email, mobile, social]</td>\n",
       "      <td>10</td>\n",
       "      <td>7</td>\n",
       "      <td>bogo</td>\n",
       "      <td>M</td>\n",
       "      <td>64</td>\n",
       "      <td>100000.0</td>\n",
       "      <td>1092 days</td>\n",
       "      <td>10</td>\n",
       "    </tr>\n",
       "    <tr>\n",
       "      <th>5</th>\n",
       "      <td>[email, mobile, social]</td>\n",
       "      <td>10</td>\n",
       "      <td>7</td>\n",
       "      <td>bogo</td>\n",
       "      <td>F</td>\n",
       "      <td>69</td>\n",
       "      <td>57000.0</td>\n",
       "      <td>1483 days</td>\n",
       "      <td>10</td>\n",
       "    </tr>\n",
       "    <tr>\n",
       "      <th>6</th>\n",
       "      <td>[email, mobile, social]</td>\n",
       "      <td>10</td>\n",
       "      <td>7</td>\n",
       "      <td>bogo</td>\n",
       "      <td>F</td>\n",
       "      <td>79</td>\n",
       "      <td>48000.0</td>\n",
       "      <td>1970 days</td>\n",
       "      <td>10</td>\n",
       "    </tr>\n",
       "    <tr>\n",
       "      <th>7</th>\n",
       "      <td>[email, mobile, social]</td>\n",
       "      <td>10</td>\n",
       "      <td>7</td>\n",
       "      <td>bogo</td>\n",
       "      <td>F</td>\n",
       "      <td>78</td>\n",
       "      <td>93000.0</td>\n",
       "      <td>1427 days</td>\n",
       "      <td>10</td>\n",
       "    </tr>\n",
       "    <tr>\n",
       "      <th>8</th>\n",
       "      <td>[email, mobile, social]</td>\n",
       "      <td>10</td>\n",
       "      <td>7</td>\n",
       "      <td>bogo</td>\n",
       "      <td>M</td>\n",
       "      <td>63</td>\n",
       "      <td>56000.0</td>\n",
       "      <td>785 days</td>\n",
       "      <td>10</td>\n",
       "    </tr>\n",
       "    <tr>\n",
       "      <th>9</th>\n",
       "      <td>[email, mobile, social]</td>\n",
       "      <td>10</td>\n",
       "      <td>7</td>\n",
       "      <td>bogo</td>\n",
       "      <td>F</td>\n",
       "      <td>53</td>\n",
       "      <td>72000.0</td>\n",
       "      <td>1522 days</td>\n",
       "      <td>10</td>\n",
       "    </tr>\n",
       "  </tbody>\n",
       "</table>\n",
       "</div>"
      ],
      "text/plain": [
       "                  channels  difficulty  duration offer_type gender  age  \\\n",
       "0  [email, mobile, social]          10         7       bogo      F   75   \n",
       "1  [email, mobile, social]          10         7       bogo      F   61   \n",
       "2  [email, mobile, social]          10         7       bogo      M   49   \n",
       "3  [email, mobile, social]          10         7       bogo      M   64   \n",
       "4  [email, mobile, social]          10         7       bogo      M   64   \n",
       "5  [email, mobile, social]          10         7       bogo      F   69   \n",
       "6  [email, mobile, social]          10         7       bogo      F   79   \n",
       "7  [email, mobile, social]          10         7       bogo      F   78   \n",
       "8  [email, mobile, social]          10         7       bogo      M   63   \n",
       "9  [email, mobile, social]          10         7       bogo      F   53   \n",
       "\n",
       "     income membership_time  reward  \n",
       "0  100000.0       1215 days      10  \n",
       "1   57000.0       1090 days      10  \n",
       "2   52000.0       2123 days      10  \n",
       "3  100000.0       1092 days      10  \n",
       "4  100000.0       1092 days      10  \n",
       "5   57000.0       1483 days      10  \n",
       "6   48000.0       1970 days      10  \n",
       "7   93000.0       1427 days      10  \n",
       "8   56000.0        785 days      10  \n",
       "9   72000.0       1522 days      10  "
      ]
     },
     "execution_count": 197,
     "metadata": {},
     "output_type": "execute_result"
    }
   ],
   "source": [
    "portfolio_profile_offer_viewed_completed = portfolio_profile_offer_viewed_completed.drop(['id','offer_id','person'], axis=1)\n",
    "portfolio_profile_offer_viewed_completed.head(10)"
   ]
  },
  {
   "cell_type": "markdown",
   "metadata": {},
   "source": [
    "Now we can add the label column `outcome` to our dataframe. \n",
    "\n",
    "The binary outcome is our target for prediction/classification algorithm."
   ]
  },
  {
   "cell_type": "code",
   "execution_count": 198,
   "metadata": {},
   "outputs": [
    {
     "data": {
      "text/html": [
       "<div>\n",
       "<style scoped>\n",
       "    .dataframe tbody tr th:only-of-type {\n",
       "        vertical-align: middle;\n",
       "    }\n",
       "\n",
       "    .dataframe tbody tr th {\n",
       "        vertical-align: top;\n",
       "    }\n",
       "\n",
       "    .dataframe thead th {\n",
       "        text-align: right;\n",
       "    }\n",
       "</style>\n",
       "<table border=\"1\" class=\"dataframe\">\n",
       "  <thead>\n",
       "    <tr style=\"text-align: right;\">\n",
       "      <th></th>\n",
       "      <th>channels</th>\n",
       "      <th>difficulty</th>\n",
       "      <th>duration</th>\n",
       "      <th>offer_type</th>\n",
       "      <th>gender</th>\n",
       "      <th>age</th>\n",
       "      <th>income</th>\n",
       "      <th>membership_time</th>\n",
       "      <th>reward</th>\n",
       "      <th>outcome</th>\n",
       "    </tr>\n",
       "  </thead>\n",
       "  <tbody>\n",
       "    <tr>\n",
       "      <th>0</th>\n",
       "      <td>[email, mobile, social]</td>\n",
       "      <td>10</td>\n",
       "      <td>7</td>\n",
       "      <td>bogo</td>\n",
       "      <td>F</td>\n",
       "      <td>75</td>\n",
       "      <td>100000.0</td>\n",
       "      <td>1215 days</td>\n",
       "      <td>10</td>\n",
       "      <td>1</td>\n",
       "    </tr>\n",
       "    <tr>\n",
       "      <th>1</th>\n",
       "      <td>[email, mobile, social]</td>\n",
       "      <td>10</td>\n",
       "      <td>7</td>\n",
       "      <td>bogo</td>\n",
       "      <td>F</td>\n",
       "      <td>61</td>\n",
       "      <td>57000.0</td>\n",
       "      <td>1090 days</td>\n",
       "      <td>10</td>\n",
       "      <td>1</td>\n",
       "    </tr>\n",
       "    <tr>\n",
       "      <th>2</th>\n",
       "      <td>[email, mobile, social]</td>\n",
       "      <td>10</td>\n",
       "      <td>7</td>\n",
       "      <td>bogo</td>\n",
       "      <td>M</td>\n",
       "      <td>49</td>\n",
       "      <td>52000.0</td>\n",
       "      <td>2123 days</td>\n",
       "      <td>10</td>\n",
       "      <td>1</td>\n",
       "    </tr>\n",
       "    <tr>\n",
       "      <th>3</th>\n",
       "      <td>[email, mobile, social]</td>\n",
       "      <td>10</td>\n",
       "      <td>7</td>\n",
       "      <td>bogo</td>\n",
       "      <td>M</td>\n",
       "      <td>64</td>\n",
       "      <td>100000.0</td>\n",
       "      <td>1092 days</td>\n",
       "      <td>10</td>\n",
       "      <td>1</td>\n",
       "    </tr>\n",
       "    <tr>\n",
       "      <th>4</th>\n",
       "      <td>[email, mobile, social]</td>\n",
       "      <td>10</td>\n",
       "      <td>7</td>\n",
       "      <td>bogo</td>\n",
       "      <td>M</td>\n",
       "      <td>64</td>\n",
       "      <td>100000.0</td>\n",
       "      <td>1092 days</td>\n",
       "      <td>10</td>\n",
       "      <td>1</td>\n",
       "    </tr>\n",
       "    <tr>\n",
       "      <th>5</th>\n",
       "      <td>[email, mobile, social]</td>\n",
       "      <td>10</td>\n",
       "      <td>7</td>\n",
       "      <td>bogo</td>\n",
       "      <td>F</td>\n",
       "      <td>69</td>\n",
       "      <td>57000.0</td>\n",
       "      <td>1483 days</td>\n",
       "      <td>10</td>\n",
       "      <td>1</td>\n",
       "    </tr>\n",
       "    <tr>\n",
       "      <th>6</th>\n",
       "      <td>[email, mobile, social]</td>\n",
       "      <td>10</td>\n",
       "      <td>7</td>\n",
       "      <td>bogo</td>\n",
       "      <td>F</td>\n",
       "      <td>79</td>\n",
       "      <td>48000.0</td>\n",
       "      <td>1970 days</td>\n",
       "      <td>10</td>\n",
       "      <td>1</td>\n",
       "    </tr>\n",
       "    <tr>\n",
       "      <th>7</th>\n",
       "      <td>[email, mobile, social]</td>\n",
       "      <td>10</td>\n",
       "      <td>7</td>\n",
       "      <td>bogo</td>\n",
       "      <td>F</td>\n",
       "      <td>78</td>\n",
       "      <td>93000.0</td>\n",
       "      <td>1427 days</td>\n",
       "      <td>10</td>\n",
       "      <td>1</td>\n",
       "    </tr>\n",
       "    <tr>\n",
       "      <th>8</th>\n",
       "      <td>[email, mobile, social]</td>\n",
       "      <td>10</td>\n",
       "      <td>7</td>\n",
       "      <td>bogo</td>\n",
       "      <td>M</td>\n",
       "      <td>63</td>\n",
       "      <td>56000.0</td>\n",
       "      <td>785 days</td>\n",
       "      <td>10</td>\n",
       "      <td>1</td>\n",
       "    </tr>\n",
       "    <tr>\n",
       "      <th>9</th>\n",
       "      <td>[email, mobile, social]</td>\n",
       "      <td>10</td>\n",
       "      <td>7</td>\n",
       "      <td>bogo</td>\n",
       "      <td>F</td>\n",
       "      <td>53</td>\n",
       "      <td>72000.0</td>\n",
       "      <td>1522 days</td>\n",
       "      <td>10</td>\n",
       "      <td>1</td>\n",
       "    </tr>\n",
       "  </tbody>\n",
       "</table>\n",
       "</div>"
      ],
      "text/plain": [
       "                  channels  difficulty  duration offer_type gender  age  \\\n",
       "0  [email, mobile, social]          10         7       bogo      F   75   \n",
       "1  [email, mobile, social]          10         7       bogo      F   61   \n",
       "2  [email, mobile, social]          10         7       bogo      M   49   \n",
       "3  [email, mobile, social]          10         7       bogo      M   64   \n",
       "4  [email, mobile, social]          10         7       bogo      M   64   \n",
       "5  [email, mobile, social]          10         7       bogo      F   69   \n",
       "6  [email, mobile, social]          10         7       bogo      F   79   \n",
       "7  [email, mobile, social]          10         7       bogo      F   78   \n",
       "8  [email, mobile, social]          10         7       bogo      M   63   \n",
       "9  [email, mobile, social]          10         7       bogo      F   53   \n",
       "\n",
       "     income membership_time  reward  outcome  \n",
       "0  100000.0       1215 days      10        1  \n",
       "1   57000.0       1090 days      10        1  \n",
       "2   52000.0       2123 days      10        1  \n",
       "3  100000.0       1092 days      10        1  \n",
       "4  100000.0       1092 days      10        1  \n",
       "5   57000.0       1483 days      10        1  \n",
       "6   48000.0       1970 days      10        1  \n",
       "7   93000.0       1427 days      10        1  \n",
       "8   56000.0        785 days      10        1  \n",
       "9   72000.0       1522 days      10        1  "
      ]
     },
     "execution_count": 198,
     "metadata": {},
     "output_type": "execute_result"
    }
   ],
   "source": [
    "# add label\n",
    "portfolio_profile_offer_viewed_completed['outcome']=1\n",
    "portfolio_profile_offer_viewed_completed.head(10)"
   ]
  },
  {
   "cell_type": "markdown",
   "metadata": {},
   "source": [
    "#### Obtain the Portfolio&Profiling&Offer Information where Offers are Viewed and Not Completed"
   ]
  },
  {
   "cell_type": "code",
   "execution_count": 199,
   "metadata": {},
   "outputs": [
    {
     "data": {
      "text/plain": [
       "True"
      ]
     },
     "execution_count": 199,
     "metadata": {},
     "output_type": "execute_result"
    }
   ],
   "source": [
    "portfolio_profile_offer_viewed_not_completed = pd.merge(portfolio, profile_offer_viewed_not_completed, left_on='id', right_on='offer_id', how='inner')\n",
    "\n",
    "portfolio_profile_offer_viewed_not_completed.head(10)\n",
    "portfolio_profile_offer_viewed_not_completed['id'].equals(portfolio_profile_offer_viewed_not_completed['offer_id'])"
   ]
  },
  {
   "cell_type": "code",
   "execution_count": 200,
   "metadata": {},
   "outputs": [],
   "source": [
    "portfolio_profile_offer_viewed_not_completed = portfolio_profile_offer_viewed_not_completed.drop(['id','offer_id','person'],axis=1)\n"
   ]
  },
  {
   "cell_type": "code",
   "execution_count": 201,
   "metadata": {},
   "outputs": [
    {
     "data": {
      "text/html": [
       "<div>\n",
       "<style scoped>\n",
       "    .dataframe tbody tr th:only-of-type {\n",
       "        vertical-align: middle;\n",
       "    }\n",
       "\n",
       "    .dataframe tbody tr th {\n",
       "        vertical-align: top;\n",
       "    }\n",
       "\n",
       "    .dataframe thead th {\n",
       "        text-align: right;\n",
       "    }\n",
       "</style>\n",
       "<table border=\"1\" class=\"dataframe\">\n",
       "  <thead>\n",
       "    <tr style=\"text-align: right;\">\n",
       "      <th></th>\n",
       "      <th>reward</th>\n",
       "      <th>channels</th>\n",
       "      <th>difficulty</th>\n",
       "      <th>duration</th>\n",
       "      <th>offer_type</th>\n",
       "      <th>gender</th>\n",
       "      <th>age</th>\n",
       "      <th>income</th>\n",
       "      <th>membership_time</th>\n",
       "    </tr>\n",
       "  </thead>\n",
       "  <tbody>\n",
       "    <tr>\n",
       "      <th>0</th>\n",
       "      <td>10</td>\n",
       "      <td>[email, mobile, social]</td>\n",
       "      <td>10</td>\n",
       "      <td>7</td>\n",
       "      <td>bogo</td>\n",
       "      <td>M</td>\n",
       "      <td>26</td>\n",
       "      <td>46000.0</td>\n",
       "      <td>2396 days</td>\n",
       "    </tr>\n",
       "    <tr>\n",
       "      <th>1</th>\n",
       "      <td>10</td>\n",
       "      <td>[email, mobile, social]</td>\n",
       "      <td>10</td>\n",
       "      <td>7</td>\n",
       "      <td>bogo</td>\n",
       "      <td>F</td>\n",
       "      <td>61</td>\n",
       "      <td>40000.0</td>\n",
       "      <td>858 days</td>\n",
       "    </tr>\n",
       "    <tr>\n",
       "      <th>2</th>\n",
       "      <td>10</td>\n",
       "      <td>[email, mobile, social]</td>\n",
       "      <td>10</td>\n",
       "      <td>7</td>\n",
       "      <td>bogo</td>\n",
       "      <td>M</td>\n",
       "      <td>22</td>\n",
       "      <td>70000.0</td>\n",
       "      <td>1076 days</td>\n",
       "    </tr>\n",
       "    <tr>\n",
       "      <th>3</th>\n",
       "      <td>10</td>\n",
       "      <td>[email, mobile, social]</td>\n",
       "      <td>10</td>\n",
       "      <td>7</td>\n",
       "      <td>bogo</td>\n",
       "      <td>M</td>\n",
       "      <td>40</td>\n",
       "      <td>33000.0</td>\n",
       "      <td>1519 days</td>\n",
       "    </tr>\n",
       "    <tr>\n",
       "      <th>4</th>\n",
       "      <td>10</td>\n",
       "      <td>[email, mobile, social]</td>\n",
       "      <td>10</td>\n",
       "      <td>7</td>\n",
       "      <td>bogo</td>\n",
       "      <td>F</td>\n",
       "      <td>20</td>\n",
       "      <td>30000.0</td>\n",
       "      <td>1517 days</td>\n",
       "    </tr>\n",
       "    <tr>\n",
       "      <th>5</th>\n",
       "      <td>10</td>\n",
       "      <td>[email, mobile, social]</td>\n",
       "      <td>10</td>\n",
       "      <td>7</td>\n",
       "      <td>bogo</td>\n",
       "      <td>F</td>\n",
       "      <td>69</td>\n",
       "      <td>37000.0</td>\n",
       "      <td>2544 days</td>\n",
       "    </tr>\n",
       "    <tr>\n",
       "      <th>6</th>\n",
       "      <td>10</td>\n",
       "      <td>[email, mobile, social]</td>\n",
       "      <td>10</td>\n",
       "      <td>7</td>\n",
       "      <td>bogo</td>\n",
       "      <td>F</td>\n",
       "      <td>69</td>\n",
       "      <td>37000.0</td>\n",
       "      <td>2544 days</td>\n",
       "    </tr>\n",
       "    <tr>\n",
       "      <th>7</th>\n",
       "      <td>10</td>\n",
       "      <td>[email, mobile, social]</td>\n",
       "      <td>10</td>\n",
       "      <td>7</td>\n",
       "      <td>bogo</td>\n",
       "      <td>F</td>\n",
       "      <td>41</td>\n",
       "      <td>41000.0</td>\n",
       "      <td>1811 days</td>\n",
       "    </tr>\n",
       "    <tr>\n",
       "      <th>8</th>\n",
       "      <td>10</td>\n",
       "      <td>[email, mobile, social]</td>\n",
       "      <td>10</td>\n",
       "      <td>7</td>\n",
       "      <td>bogo</td>\n",
       "      <td>F</td>\n",
       "      <td>66</td>\n",
       "      <td>38000.0</td>\n",
       "      <td>881 days</td>\n",
       "    </tr>\n",
       "    <tr>\n",
       "      <th>9</th>\n",
       "      <td>10</td>\n",
       "      <td>[email, mobile, social]</td>\n",
       "      <td>10</td>\n",
       "      <td>7</td>\n",
       "      <td>bogo</td>\n",
       "      <td>M</td>\n",
       "      <td>45</td>\n",
       "      <td>48000.0</td>\n",
       "      <td>1065 days</td>\n",
       "    </tr>\n",
       "  </tbody>\n",
       "</table>\n",
       "</div>"
      ],
      "text/plain": [
       "   reward                 channels  difficulty  duration offer_type gender  \\\n",
       "0      10  [email, mobile, social]          10         7       bogo      M   \n",
       "1      10  [email, mobile, social]          10         7       bogo      F   \n",
       "2      10  [email, mobile, social]          10         7       bogo      M   \n",
       "3      10  [email, mobile, social]          10         7       bogo      M   \n",
       "4      10  [email, mobile, social]          10         7       bogo      F   \n",
       "5      10  [email, mobile, social]          10         7       bogo      F   \n",
       "6      10  [email, mobile, social]          10         7       bogo      F   \n",
       "7      10  [email, mobile, social]          10         7       bogo      F   \n",
       "8      10  [email, mobile, social]          10         7       bogo      F   \n",
       "9      10  [email, mobile, social]          10         7       bogo      M   \n",
       "\n",
       "   age   income membership_time  \n",
       "0   26  46000.0       2396 days  \n",
       "1   61  40000.0        858 days  \n",
       "2   22  70000.0       1076 days  \n",
       "3   40  33000.0       1519 days  \n",
       "4   20  30000.0       1517 days  \n",
       "5   69  37000.0       2544 days  \n",
       "6   69  37000.0       2544 days  \n",
       "7   41  41000.0       1811 days  \n",
       "8   66  38000.0        881 days  \n",
       "9   45  48000.0       1065 days  "
      ]
     },
     "execution_count": 201,
     "metadata": {},
     "output_type": "execute_result"
    }
   ],
   "source": [
    "portfolio_profile_offer_viewed_not_completed.head(10)"
   ]
  },
  {
   "cell_type": "code",
   "execution_count": 202,
   "metadata": {},
   "outputs": [
    {
     "data": {
      "text/html": [
       "<div>\n",
       "<style scoped>\n",
       "    .dataframe tbody tr th:only-of-type {\n",
       "        vertical-align: middle;\n",
       "    }\n",
       "\n",
       "    .dataframe tbody tr th {\n",
       "        vertical-align: top;\n",
       "    }\n",
       "\n",
       "    .dataframe thead th {\n",
       "        text-align: right;\n",
       "    }\n",
       "</style>\n",
       "<table border=\"1\" class=\"dataframe\">\n",
       "  <thead>\n",
       "    <tr style=\"text-align: right;\">\n",
       "      <th></th>\n",
       "      <th>reward</th>\n",
       "      <th>channels</th>\n",
       "      <th>difficulty</th>\n",
       "      <th>duration</th>\n",
       "      <th>offer_type</th>\n",
       "      <th>gender</th>\n",
       "      <th>age</th>\n",
       "      <th>income</th>\n",
       "      <th>membership_time</th>\n",
       "      <th>outcome</th>\n",
       "    </tr>\n",
       "  </thead>\n",
       "  <tbody>\n",
       "    <tr>\n",
       "      <th>0</th>\n",
       "      <td>10</td>\n",
       "      <td>[email, mobile, social]</td>\n",
       "      <td>10</td>\n",
       "      <td>7</td>\n",
       "      <td>bogo</td>\n",
       "      <td>M</td>\n",
       "      <td>26</td>\n",
       "      <td>46000.0</td>\n",
       "      <td>2396 days</td>\n",
       "      <td>0</td>\n",
       "    </tr>\n",
       "    <tr>\n",
       "      <th>1</th>\n",
       "      <td>10</td>\n",
       "      <td>[email, mobile, social]</td>\n",
       "      <td>10</td>\n",
       "      <td>7</td>\n",
       "      <td>bogo</td>\n",
       "      <td>F</td>\n",
       "      <td>61</td>\n",
       "      <td>40000.0</td>\n",
       "      <td>858 days</td>\n",
       "      <td>0</td>\n",
       "    </tr>\n",
       "    <tr>\n",
       "      <th>2</th>\n",
       "      <td>10</td>\n",
       "      <td>[email, mobile, social]</td>\n",
       "      <td>10</td>\n",
       "      <td>7</td>\n",
       "      <td>bogo</td>\n",
       "      <td>M</td>\n",
       "      <td>22</td>\n",
       "      <td>70000.0</td>\n",
       "      <td>1076 days</td>\n",
       "      <td>0</td>\n",
       "    </tr>\n",
       "    <tr>\n",
       "      <th>3</th>\n",
       "      <td>10</td>\n",
       "      <td>[email, mobile, social]</td>\n",
       "      <td>10</td>\n",
       "      <td>7</td>\n",
       "      <td>bogo</td>\n",
       "      <td>M</td>\n",
       "      <td>40</td>\n",
       "      <td>33000.0</td>\n",
       "      <td>1519 days</td>\n",
       "      <td>0</td>\n",
       "    </tr>\n",
       "    <tr>\n",
       "      <th>4</th>\n",
       "      <td>10</td>\n",
       "      <td>[email, mobile, social]</td>\n",
       "      <td>10</td>\n",
       "      <td>7</td>\n",
       "      <td>bogo</td>\n",
       "      <td>F</td>\n",
       "      <td>20</td>\n",
       "      <td>30000.0</td>\n",
       "      <td>1517 days</td>\n",
       "      <td>0</td>\n",
       "    </tr>\n",
       "    <tr>\n",
       "      <th>5</th>\n",
       "      <td>10</td>\n",
       "      <td>[email, mobile, social]</td>\n",
       "      <td>10</td>\n",
       "      <td>7</td>\n",
       "      <td>bogo</td>\n",
       "      <td>F</td>\n",
       "      <td>69</td>\n",
       "      <td>37000.0</td>\n",
       "      <td>2544 days</td>\n",
       "      <td>0</td>\n",
       "    </tr>\n",
       "    <tr>\n",
       "      <th>6</th>\n",
       "      <td>10</td>\n",
       "      <td>[email, mobile, social]</td>\n",
       "      <td>10</td>\n",
       "      <td>7</td>\n",
       "      <td>bogo</td>\n",
       "      <td>F</td>\n",
       "      <td>69</td>\n",
       "      <td>37000.0</td>\n",
       "      <td>2544 days</td>\n",
       "      <td>0</td>\n",
       "    </tr>\n",
       "    <tr>\n",
       "      <th>7</th>\n",
       "      <td>10</td>\n",
       "      <td>[email, mobile, social]</td>\n",
       "      <td>10</td>\n",
       "      <td>7</td>\n",
       "      <td>bogo</td>\n",
       "      <td>F</td>\n",
       "      <td>41</td>\n",
       "      <td>41000.0</td>\n",
       "      <td>1811 days</td>\n",
       "      <td>0</td>\n",
       "    </tr>\n",
       "    <tr>\n",
       "      <th>8</th>\n",
       "      <td>10</td>\n",
       "      <td>[email, mobile, social]</td>\n",
       "      <td>10</td>\n",
       "      <td>7</td>\n",
       "      <td>bogo</td>\n",
       "      <td>F</td>\n",
       "      <td>66</td>\n",
       "      <td>38000.0</td>\n",
       "      <td>881 days</td>\n",
       "      <td>0</td>\n",
       "    </tr>\n",
       "    <tr>\n",
       "      <th>9</th>\n",
       "      <td>10</td>\n",
       "      <td>[email, mobile, social]</td>\n",
       "      <td>10</td>\n",
       "      <td>7</td>\n",
       "      <td>bogo</td>\n",
       "      <td>M</td>\n",
       "      <td>45</td>\n",
       "      <td>48000.0</td>\n",
       "      <td>1065 days</td>\n",
       "      <td>0</td>\n",
       "    </tr>\n",
       "  </tbody>\n",
       "</table>\n",
       "</div>"
      ],
      "text/plain": [
       "   reward                 channels  difficulty  duration offer_type gender  \\\n",
       "0      10  [email, mobile, social]          10         7       bogo      M   \n",
       "1      10  [email, mobile, social]          10         7       bogo      F   \n",
       "2      10  [email, mobile, social]          10         7       bogo      M   \n",
       "3      10  [email, mobile, social]          10         7       bogo      M   \n",
       "4      10  [email, mobile, social]          10         7       bogo      F   \n",
       "5      10  [email, mobile, social]          10         7       bogo      F   \n",
       "6      10  [email, mobile, social]          10         7       bogo      F   \n",
       "7      10  [email, mobile, social]          10         7       bogo      F   \n",
       "8      10  [email, mobile, social]          10         7       bogo      F   \n",
       "9      10  [email, mobile, social]          10         7       bogo      M   \n",
       "\n",
       "   age   income membership_time  outcome  \n",
       "0   26  46000.0       2396 days        0  \n",
       "1   61  40000.0        858 days        0  \n",
       "2   22  70000.0       1076 days        0  \n",
       "3   40  33000.0       1519 days        0  \n",
       "4   20  30000.0       1517 days        0  \n",
       "5   69  37000.0       2544 days        0  \n",
       "6   69  37000.0       2544 days        0  \n",
       "7   41  41000.0       1811 days        0  \n",
       "8   66  38000.0        881 days        0  \n",
       "9   45  48000.0       1065 days        0  "
      ]
     },
     "execution_count": 202,
     "metadata": {},
     "output_type": "execute_result"
    }
   ],
   "source": [
    "portfolio_profile_offer_viewed_not_completed['outcome'] = 0\n",
    "portfolio_profile_offer_viewed_not_completed.head(10)"
   ]
  },
  {
   "cell_type": "code",
   "execution_count": 203,
   "metadata": {},
   "outputs": [
    {
     "name": "stdout",
     "output_type": "stream",
     "text": [
      "Index(['channels', 'difficulty', 'duration', 'offer_type', 'gender', 'age',\n",
      "       'income', 'membership_time', 'reward', 'outcome'],\n",
      "      dtype='object') Index(['reward', 'channels', 'difficulty', 'duration', 'offer_type', 'gender',\n",
      "       'age', 'income', 'membership_time', 'outcome'],\n",
      "      dtype='object')\n"
     ]
    }
   ],
   "source": [
    "print(portfolio_profile_offer_viewed_completed.columns, portfolio_profile_offer_viewed_not_completed.columns)\n",
    "cols =  portfolio_profile_offer_viewed_completed.columns.tolist()\n",
    "portfolio_profile_offer_viewed_not_completed = portfolio_profile_offer_viewed_not_completed[cols]"
   ]
  },
  {
   "cell_type": "markdown",
   "metadata": {},
   "source": [
    "#### Obtain the Portfolio&Profiling&Offer Information where Offers are Viewed\n",
    "Now we can combine the two datasets to arrive at the information on portfolio, profile and offer that are viewed. "
   ]
  },
  {
   "cell_type": "code",
   "execution_count": 204,
   "metadata": {},
   "outputs": [],
   "source": [
    "portfolio_combined = portfolio_profile_offer_viewed_completed.append(portfolio_profile_offer_viewed_not_completed)"
   ]
  },
  {
   "cell_type": "code",
   "execution_count": 205,
   "metadata": {},
   "outputs": [
    {
     "data": {
      "text/plain": [
       "channels                    object\n",
       "difficulty                   int64\n",
       "duration                     int64\n",
       "offer_type                  object\n",
       "gender                      object\n",
       "age                          int64\n",
       "income                     float64\n",
       "membership_time    timedelta64[ns]\n",
       "reward                       int64\n",
       "outcome                      int64\n",
       "dtype: object"
      ]
     },
     "execution_count": 205,
     "metadata": {},
     "output_type": "execute_result"
    }
   ],
   "source": [
    "portfolio_combined.shape\n",
    "portfolio_combined.head(10)\n",
    "portfolio_combined.dtypes"
   ]
  },
  {
   "cell_type": "markdown",
   "metadata": {},
   "source": []
  },
  {
   "cell_type": "code",
   "execution_count": 206,
   "metadata": {},
   "outputs": [],
   "source": [
    "portfolio_combined = pd.concat([portfolio_combined, pd.get_dummies(portfolio_combined['offer_type'], prefix='offer')],axis=1)"
   ]
  },
  {
   "cell_type": "code",
   "execution_count": 207,
   "metadata": {},
   "outputs": [],
   "source": [
    "portfolio_combined.head(10)\n",
    "portfolio_combined = portfolio_combined.drop('offer_type', axis=1)"
   ]
  },
  {
   "cell_type": "markdown",
   "metadata": {},
   "source": [
    "Using `MultiLabelBinarizer` from sklearn, we can turn `channels` into operational dummy variables."
   ]
  },
  {
   "cell_type": "code",
   "execution_count": 208,
   "metadata": {},
   "outputs": [],
   "source": [
    "# one hot encoding - channels\n",
    "from sklearn.preprocessing import MultiLabelBinarizer\n",
    "\n",
    "\n",
    "\n",
    "s = portfolio_combined['channels']\n",
    "\n",
    "mlb = MultiLabelBinarizer()\n",
    "\n",
    "dummies = pd.DataFrame(mlb.fit_transform(s),columns=mlb.classes_, index=portfolio_combined.index)"
   ]
  },
  {
   "cell_type": "code",
   "execution_count": 209,
   "metadata": {},
   "outputs": [],
   "source": [
    "portfolio_combined = pd.concat([portfolio_combined, dummies],axis=1)"
   ]
  },
  {
   "cell_type": "code",
   "execution_count": 210,
   "metadata": {},
   "outputs": [],
   "source": [
    "portfolio_combined.rename(columns={ portfolio_combined.columns[-1]: \"channel_web\", portfolio_combined.columns[-2]: \"channel_social\", portfolio_combined.columns[-3]:\"channel_mobile\", portfolio_combined.columns[-4]:\"channel_email\"}, inplace = True)"
   ]
  },
  {
   "cell_type": "code",
   "execution_count": 211,
   "metadata": {},
   "outputs": [
    {
     "data": {
      "text/html": [
       "<div>\n",
       "<style scoped>\n",
       "    .dataframe tbody tr th:only-of-type {\n",
       "        vertical-align: middle;\n",
       "    }\n",
       "\n",
       "    .dataframe tbody tr th {\n",
       "        vertical-align: top;\n",
       "    }\n",
       "\n",
       "    .dataframe thead th {\n",
       "        text-align: right;\n",
       "    }\n",
       "</style>\n",
       "<table border=\"1\" class=\"dataframe\">\n",
       "  <thead>\n",
       "    <tr style=\"text-align: right;\">\n",
       "      <th></th>\n",
       "      <th>channels</th>\n",
       "      <th>difficulty</th>\n",
       "      <th>duration</th>\n",
       "      <th>gender</th>\n",
       "      <th>age</th>\n",
       "      <th>income</th>\n",
       "      <th>membership_time</th>\n",
       "      <th>reward</th>\n",
       "      <th>outcome</th>\n",
       "      <th>offer_bogo</th>\n",
       "      <th>offer_discount</th>\n",
       "      <th>offer_informational</th>\n",
       "      <th>channel_email</th>\n",
       "      <th>channel_mobile</th>\n",
       "      <th>channel_social</th>\n",
       "      <th>channel_web</th>\n",
       "    </tr>\n",
       "  </thead>\n",
       "  <tbody>\n",
       "    <tr>\n",
       "      <th>0</th>\n",
       "      <td>[email, mobile, social]</td>\n",
       "      <td>10</td>\n",
       "      <td>7</td>\n",
       "      <td>F</td>\n",
       "      <td>75</td>\n",
       "      <td>100000.0</td>\n",
       "      <td>1215 days</td>\n",
       "      <td>10</td>\n",
       "      <td>1</td>\n",
       "      <td>1</td>\n",
       "      <td>0</td>\n",
       "      <td>0</td>\n",
       "      <td>1</td>\n",
       "      <td>1</td>\n",
       "      <td>1</td>\n",
       "      <td>0</td>\n",
       "    </tr>\n",
       "    <tr>\n",
       "      <th>1</th>\n",
       "      <td>[email, mobile, social]</td>\n",
       "      <td>10</td>\n",
       "      <td>7</td>\n",
       "      <td>F</td>\n",
       "      <td>61</td>\n",
       "      <td>57000.0</td>\n",
       "      <td>1090 days</td>\n",
       "      <td>10</td>\n",
       "      <td>1</td>\n",
       "      <td>1</td>\n",
       "      <td>0</td>\n",
       "      <td>0</td>\n",
       "      <td>1</td>\n",
       "      <td>1</td>\n",
       "      <td>1</td>\n",
       "      <td>0</td>\n",
       "    </tr>\n",
       "    <tr>\n",
       "      <th>2</th>\n",
       "      <td>[email, mobile, social]</td>\n",
       "      <td>10</td>\n",
       "      <td>7</td>\n",
       "      <td>M</td>\n",
       "      <td>49</td>\n",
       "      <td>52000.0</td>\n",
       "      <td>2123 days</td>\n",
       "      <td>10</td>\n",
       "      <td>1</td>\n",
       "      <td>1</td>\n",
       "      <td>0</td>\n",
       "      <td>0</td>\n",
       "      <td>1</td>\n",
       "      <td>1</td>\n",
       "      <td>1</td>\n",
       "      <td>0</td>\n",
       "    </tr>\n",
       "    <tr>\n",
       "      <th>3</th>\n",
       "      <td>[email, mobile, social]</td>\n",
       "      <td>10</td>\n",
       "      <td>7</td>\n",
       "      <td>M</td>\n",
       "      <td>64</td>\n",
       "      <td>100000.0</td>\n",
       "      <td>1092 days</td>\n",
       "      <td>10</td>\n",
       "      <td>1</td>\n",
       "      <td>1</td>\n",
       "      <td>0</td>\n",
       "      <td>0</td>\n",
       "      <td>1</td>\n",
       "      <td>1</td>\n",
       "      <td>1</td>\n",
       "      <td>0</td>\n",
       "    </tr>\n",
       "    <tr>\n",
       "      <th>4</th>\n",
       "      <td>[email, mobile, social]</td>\n",
       "      <td>10</td>\n",
       "      <td>7</td>\n",
       "      <td>M</td>\n",
       "      <td>64</td>\n",
       "      <td>100000.0</td>\n",
       "      <td>1092 days</td>\n",
       "      <td>10</td>\n",
       "      <td>1</td>\n",
       "      <td>1</td>\n",
       "      <td>0</td>\n",
       "      <td>0</td>\n",
       "      <td>1</td>\n",
       "      <td>1</td>\n",
       "      <td>1</td>\n",
       "      <td>0</td>\n",
       "    </tr>\n",
       "    <tr>\n",
       "      <th>5</th>\n",
       "      <td>[email, mobile, social]</td>\n",
       "      <td>10</td>\n",
       "      <td>7</td>\n",
       "      <td>F</td>\n",
       "      <td>69</td>\n",
       "      <td>57000.0</td>\n",
       "      <td>1483 days</td>\n",
       "      <td>10</td>\n",
       "      <td>1</td>\n",
       "      <td>1</td>\n",
       "      <td>0</td>\n",
       "      <td>0</td>\n",
       "      <td>1</td>\n",
       "      <td>1</td>\n",
       "      <td>1</td>\n",
       "      <td>0</td>\n",
       "    </tr>\n",
       "    <tr>\n",
       "      <th>6</th>\n",
       "      <td>[email, mobile, social]</td>\n",
       "      <td>10</td>\n",
       "      <td>7</td>\n",
       "      <td>F</td>\n",
       "      <td>79</td>\n",
       "      <td>48000.0</td>\n",
       "      <td>1970 days</td>\n",
       "      <td>10</td>\n",
       "      <td>1</td>\n",
       "      <td>1</td>\n",
       "      <td>0</td>\n",
       "      <td>0</td>\n",
       "      <td>1</td>\n",
       "      <td>1</td>\n",
       "      <td>1</td>\n",
       "      <td>0</td>\n",
       "    </tr>\n",
       "    <tr>\n",
       "      <th>7</th>\n",
       "      <td>[email, mobile, social]</td>\n",
       "      <td>10</td>\n",
       "      <td>7</td>\n",
       "      <td>F</td>\n",
       "      <td>78</td>\n",
       "      <td>93000.0</td>\n",
       "      <td>1427 days</td>\n",
       "      <td>10</td>\n",
       "      <td>1</td>\n",
       "      <td>1</td>\n",
       "      <td>0</td>\n",
       "      <td>0</td>\n",
       "      <td>1</td>\n",
       "      <td>1</td>\n",
       "      <td>1</td>\n",
       "      <td>0</td>\n",
       "    </tr>\n",
       "    <tr>\n",
       "      <th>8</th>\n",
       "      <td>[email, mobile, social]</td>\n",
       "      <td>10</td>\n",
       "      <td>7</td>\n",
       "      <td>M</td>\n",
       "      <td>63</td>\n",
       "      <td>56000.0</td>\n",
       "      <td>785 days</td>\n",
       "      <td>10</td>\n",
       "      <td>1</td>\n",
       "      <td>1</td>\n",
       "      <td>0</td>\n",
       "      <td>0</td>\n",
       "      <td>1</td>\n",
       "      <td>1</td>\n",
       "      <td>1</td>\n",
       "      <td>0</td>\n",
       "    </tr>\n",
       "    <tr>\n",
       "      <th>9</th>\n",
       "      <td>[email, mobile, social]</td>\n",
       "      <td>10</td>\n",
       "      <td>7</td>\n",
       "      <td>F</td>\n",
       "      <td>53</td>\n",
       "      <td>72000.0</td>\n",
       "      <td>1522 days</td>\n",
       "      <td>10</td>\n",
       "      <td>1</td>\n",
       "      <td>1</td>\n",
       "      <td>0</td>\n",
       "      <td>0</td>\n",
       "      <td>1</td>\n",
       "      <td>1</td>\n",
       "      <td>1</td>\n",
       "      <td>0</td>\n",
       "    </tr>\n",
       "  </tbody>\n",
       "</table>\n",
       "</div>"
      ],
      "text/plain": [
       "                  channels  difficulty  duration gender  age    income  \\\n",
       "0  [email, mobile, social]          10         7      F   75  100000.0   \n",
       "1  [email, mobile, social]          10         7      F   61   57000.0   \n",
       "2  [email, mobile, social]          10         7      M   49   52000.0   \n",
       "3  [email, mobile, social]          10         7      M   64  100000.0   \n",
       "4  [email, mobile, social]          10         7      M   64  100000.0   \n",
       "5  [email, mobile, social]          10         7      F   69   57000.0   \n",
       "6  [email, mobile, social]          10         7      F   79   48000.0   \n",
       "7  [email, mobile, social]          10         7      F   78   93000.0   \n",
       "8  [email, mobile, social]          10         7      M   63   56000.0   \n",
       "9  [email, mobile, social]          10         7      F   53   72000.0   \n",
       "\n",
       "  membership_time  reward  outcome  offer_bogo  offer_discount  \\\n",
       "0       1215 days      10        1           1               0   \n",
       "1       1090 days      10        1           1               0   \n",
       "2       2123 days      10        1           1               0   \n",
       "3       1092 days      10        1           1               0   \n",
       "4       1092 days      10        1           1               0   \n",
       "5       1483 days      10        1           1               0   \n",
       "6       1970 days      10        1           1               0   \n",
       "7       1427 days      10        1           1               0   \n",
       "8        785 days      10        1           1               0   \n",
       "9       1522 days      10        1           1               0   \n",
       "\n",
       "   offer_informational  channel_email  channel_mobile  channel_social  \\\n",
       "0                    0              1               1               1   \n",
       "1                    0              1               1               1   \n",
       "2                    0              1               1               1   \n",
       "3                    0              1               1               1   \n",
       "4                    0              1               1               1   \n",
       "5                    0              1               1               1   \n",
       "6                    0              1               1               1   \n",
       "7                    0              1               1               1   \n",
       "8                    0              1               1               1   \n",
       "9                    0              1               1               1   \n",
       "\n",
       "   channel_web  \n",
       "0            0  \n",
       "1            0  \n",
       "2            0  \n",
       "3            0  \n",
       "4            0  \n",
       "5            0  \n",
       "6            0  \n",
       "7            0  \n",
       "8            0  \n",
       "9            0  "
      ]
     },
     "execution_count": 211,
     "metadata": {},
     "output_type": "execute_result"
    }
   ],
   "source": [
    "portfolio_combined.head(10)"
   ]
  },
  {
   "cell_type": "code",
   "execution_count": 212,
   "metadata": {},
   "outputs": [],
   "source": [
    "portfolio_combined = portfolio_combined.drop('channels', axis=1)"
   ]
  },
  {
   "cell_type": "code",
   "execution_count": 213,
   "metadata": {},
   "outputs": [
    {
     "data": {
      "text/html": [
       "<div>\n",
       "<style scoped>\n",
       "    .dataframe tbody tr th:only-of-type {\n",
       "        vertical-align: middle;\n",
       "    }\n",
       "\n",
       "    .dataframe tbody tr th {\n",
       "        vertical-align: top;\n",
       "    }\n",
       "\n",
       "    .dataframe thead th {\n",
       "        text-align: right;\n",
       "    }\n",
       "</style>\n",
       "<table border=\"1\" class=\"dataframe\">\n",
       "  <thead>\n",
       "    <tr style=\"text-align: right;\">\n",
       "      <th></th>\n",
       "      <th>difficulty</th>\n",
       "      <th>duration</th>\n",
       "      <th>gender</th>\n",
       "      <th>age</th>\n",
       "      <th>income</th>\n",
       "      <th>membership_time</th>\n",
       "      <th>reward</th>\n",
       "      <th>outcome</th>\n",
       "      <th>offer_bogo</th>\n",
       "      <th>offer_discount</th>\n",
       "      <th>offer_informational</th>\n",
       "      <th>channel_email</th>\n",
       "      <th>channel_mobile</th>\n",
       "      <th>channel_social</th>\n",
       "      <th>channel_web</th>\n",
       "    </tr>\n",
       "  </thead>\n",
       "  <tbody>\n",
       "    <tr>\n",
       "      <th>0</th>\n",
       "      <td>10</td>\n",
       "      <td>7</td>\n",
       "      <td>F</td>\n",
       "      <td>75</td>\n",
       "      <td>100000.0</td>\n",
       "      <td>1215 days</td>\n",
       "      <td>10</td>\n",
       "      <td>1</td>\n",
       "      <td>1</td>\n",
       "      <td>0</td>\n",
       "      <td>0</td>\n",
       "      <td>1</td>\n",
       "      <td>1</td>\n",
       "      <td>1</td>\n",
       "      <td>0</td>\n",
       "    </tr>\n",
       "    <tr>\n",
       "      <th>1</th>\n",
       "      <td>10</td>\n",
       "      <td>7</td>\n",
       "      <td>F</td>\n",
       "      <td>61</td>\n",
       "      <td>57000.0</td>\n",
       "      <td>1090 days</td>\n",
       "      <td>10</td>\n",
       "      <td>1</td>\n",
       "      <td>1</td>\n",
       "      <td>0</td>\n",
       "      <td>0</td>\n",
       "      <td>1</td>\n",
       "      <td>1</td>\n",
       "      <td>1</td>\n",
       "      <td>0</td>\n",
       "    </tr>\n",
       "    <tr>\n",
       "      <th>2</th>\n",
       "      <td>10</td>\n",
       "      <td>7</td>\n",
       "      <td>M</td>\n",
       "      <td>49</td>\n",
       "      <td>52000.0</td>\n",
       "      <td>2123 days</td>\n",
       "      <td>10</td>\n",
       "      <td>1</td>\n",
       "      <td>1</td>\n",
       "      <td>0</td>\n",
       "      <td>0</td>\n",
       "      <td>1</td>\n",
       "      <td>1</td>\n",
       "      <td>1</td>\n",
       "      <td>0</td>\n",
       "    </tr>\n",
       "    <tr>\n",
       "      <th>3</th>\n",
       "      <td>10</td>\n",
       "      <td>7</td>\n",
       "      <td>M</td>\n",
       "      <td>64</td>\n",
       "      <td>100000.0</td>\n",
       "      <td>1092 days</td>\n",
       "      <td>10</td>\n",
       "      <td>1</td>\n",
       "      <td>1</td>\n",
       "      <td>0</td>\n",
       "      <td>0</td>\n",
       "      <td>1</td>\n",
       "      <td>1</td>\n",
       "      <td>1</td>\n",
       "      <td>0</td>\n",
       "    </tr>\n",
       "    <tr>\n",
       "      <th>4</th>\n",
       "      <td>10</td>\n",
       "      <td>7</td>\n",
       "      <td>M</td>\n",
       "      <td>64</td>\n",
       "      <td>100000.0</td>\n",
       "      <td>1092 days</td>\n",
       "      <td>10</td>\n",
       "      <td>1</td>\n",
       "      <td>1</td>\n",
       "      <td>0</td>\n",
       "      <td>0</td>\n",
       "      <td>1</td>\n",
       "      <td>1</td>\n",
       "      <td>1</td>\n",
       "      <td>0</td>\n",
       "    </tr>\n",
       "    <tr>\n",
       "      <th>5</th>\n",
       "      <td>10</td>\n",
       "      <td>7</td>\n",
       "      <td>F</td>\n",
       "      <td>69</td>\n",
       "      <td>57000.0</td>\n",
       "      <td>1483 days</td>\n",
       "      <td>10</td>\n",
       "      <td>1</td>\n",
       "      <td>1</td>\n",
       "      <td>0</td>\n",
       "      <td>0</td>\n",
       "      <td>1</td>\n",
       "      <td>1</td>\n",
       "      <td>1</td>\n",
       "      <td>0</td>\n",
       "    </tr>\n",
       "    <tr>\n",
       "      <th>6</th>\n",
       "      <td>10</td>\n",
       "      <td>7</td>\n",
       "      <td>F</td>\n",
       "      <td>79</td>\n",
       "      <td>48000.0</td>\n",
       "      <td>1970 days</td>\n",
       "      <td>10</td>\n",
       "      <td>1</td>\n",
       "      <td>1</td>\n",
       "      <td>0</td>\n",
       "      <td>0</td>\n",
       "      <td>1</td>\n",
       "      <td>1</td>\n",
       "      <td>1</td>\n",
       "      <td>0</td>\n",
       "    </tr>\n",
       "    <tr>\n",
       "      <th>7</th>\n",
       "      <td>10</td>\n",
       "      <td>7</td>\n",
       "      <td>F</td>\n",
       "      <td>78</td>\n",
       "      <td>93000.0</td>\n",
       "      <td>1427 days</td>\n",
       "      <td>10</td>\n",
       "      <td>1</td>\n",
       "      <td>1</td>\n",
       "      <td>0</td>\n",
       "      <td>0</td>\n",
       "      <td>1</td>\n",
       "      <td>1</td>\n",
       "      <td>1</td>\n",
       "      <td>0</td>\n",
       "    </tr>\n",
       "    <tr>\n",
       "      <th>8</th>\n",
       "      <td>10</td>\n",
       "      <td>7</td>\n",
       "      <td>M</td>\n",
       "      <td>63</td>\n",
       "      <td>56000.0</td>\n",
       "      <td>785 days</td>\n",
       "      <td>10</td>\n",
       "      <td>1</td>\n",
       "      <td>1</td>\n",
       "      <td>0</td>\n",
       "      <td>0</td>\n",
       "      <td>1</td>\n",
       "      <td>1</td>\n",
       "      <td>1</td>\n",
       "      <td>0</td>\n",
       "    </tr>\n",
       "    <tr>\n",
       "      <th>9</th>\n",
       "      <td>10</td>\n",
       "      <td>7</td>\n",
       "      <td>F</td>\n",
       "      <td>53</td>\n",
       "      <td>72000.0</td>\n",
       "      <td>1522 days</td>\n",
       "      <td>10</td>\n",
       "      <td>1</td>\n",
       "      <td>1</td>\n",
       "      <td>0</td>\n",
       "      <td>0</td>\n",
       "      <td>1</td>\n",
       "      <td>1</td>\n",
       "      <td>1</td>\n",
       "      <td>0</td>\n",
       "    </tr>\n",
       "  </tbody>\n",
       "</table>\n",
       "</div>"
      ],
      "text/plain": [
       "   difficulty  duration gender  age    income membership_time  reward  \\\n",
       "0          10         7      F   75  100000.0       1215 days      10   \n",
       "1          10         7      F   61   57000.0       1090 days      10   \n",
       "2          10         7      M   49   52000.0       2123 days      10   \n",
       "3          10         7      M   64  100000.0       1092 days      10   \n",
       "4          10         7      M   64  100000.0       1092 days      10   \n",
       "5          10         7      F   69   57000.0       1483 days      10   \n",
       "6          10         7      F   79   48000.0       1970 days      10   \n",
       "7          10         7      F   78   93000.0       1427 days      10   \n",
       "8          10         7      M   63   56000.0        785 days      10   \n",
       "9          10         7      F   53   72000.0       1522 days      10   \n",
       "\n",
       "   outcome  offer_bogo  offer_discount  offer_informational  channel_email  \\\n",
       "0        1           1               0                    0              1   \n",
       "1        1           1               0                    0              1   \n",
       "2        1           1               0                    0              1   \n",
       "3        1           1               0                    0              1   \n",
       "4        1           1               0                    0              1   \n",
       "5        1           1               0                    0              1   \n",
       "6        1           1               0                    0              1   \n",
       "7        1           1               0                    0              1   \n",
       "8        1           1               0                    0              1   \n",
       "9        1           1               0                    0              1   \n",
       "\n",
       "   channel_mobile  channel_social  channel_web  \n",
       "0               1               1            0  \n",
       "1               1               1            0  \n",
       "2               1               1            0  \n",
       "3               1               1            0  \n",
       "4               1               1            0  \n",
       "5               1               1            0  \n",
       "6               1               1            0  \n",
       "7               1               1            0  \n",
       "8               1               1            0  \n",
       "9               1               1            0  "
      ]
     },
     "execution_count": 213,
     "metadata": {},
     "output_type": "execute_result"
    }
   ],
   "source": [
    "portfolio_combined.head(10)"
   ]
  },
  {
   "cell_type": "code",
   "execution_count": 214,
   "metadata": {},
   "outputs": [
    {
     "data": {
      "text/plain": [
       "array(['F', 'M', 'O'], dtype=object)"
      ]
     },
     "execution_count": 214,
     "metadata": {},
     "output_type": "execute_result"
    }
   ],
   "source": [
    "# check the gender types available\n",
    "portfolio_combined.gender.unique()"
   ]
  },
  {
   "cell_type": "markdown",
   "metadata": {},
   "source": [
    "Using `replace` function, we can turn `gender` into operational dummy variables."
   ]
  },
  {
   "cell_type": "code",
   "execution_count": 215,
   "metadata": {},
   "outputs": [],
   "source": [
    "portfolio_combined['gender'] = portfolio_combined['gender'].replace({'F': 'female', 'M': 'male', 'O': 'other'})"
   ]
  },
  {
   "cell_type": "code",
   "execution_count": 216,
   "metadata": {},
   "outputs": [],
   "source": [
    "portfolio_combined = pd.concat([portfolio_combined, pd.get_dummies(portfolio_combined['gender'], prefix='gender')],axis=1)"
   ]
  },
  {
   "cell_type": "code",
   "execution_count": 217,
   "metadata": {},
   "outputs": [
    {
     "data": {
      "text/html": [
       "<div>\n",
       "<style scoped>\n",
       "    .dataframe tbody tr th:only-of-type {\n",
       "        vertical-align: middle;\n",
       "    }\n",
       "\n",
       "    .dataframe tbody tr th {\n",
       "        vertical-align: top;\n",
       "    }\n",
       "\n",
       "    .dataframe thead th {\n",
       "        text-align: right;\n",
       "    }\n",
       "</style>\n",
       "<table border=\"1\" class=\"dataframe\">\n",
       "  <thead>\n",
       "    <tr style=\"text-align: right;\">\n",
       "      <th></th>\n",
       "      <th>difficulty</th>\n",
       "      <th>duration</th>\n",
       "      <th>gender</th>\n",
       "      <th>age</th>\n",
       "      <th>income</th>\n",
       "      <th>membership_time</th>\n",
       "      <th>reward</th>\n",
       "      <th>outcome</th>\n",
       "      <th>offer_bogo</th>\n",
       "      <th>offer_discount</th>\n",
       "      <th>offer_informational</th>\n",
       "      <th>channel_email</th>\n",
       "      <th>channel_mobile</th>\n",
       "      <th>channel_social</th>\n",
       "      <th>channel_web</th>\n",
       "      <th>gender_female</th>\n",
       "      <th>gender_male</th>\n",
       "      <th>gender_other</th>\n",
       "    </tr>\n",
       "  </thead>\n",
       "  <tbody>\n",
       "    <tr>\n",
       "      <th>0</th>\n",
       "      <td>10</td>\n",
       "      <td>7</td>\n",
       "      <td>female</td>\n",
       "      <td>75</td>\n",
       "      <td>100000.0</td>\n",
       "      <td>1215 days</td>\n",
       "      <td>10</td>\n",
       "      <td>1</td>\n",
       "      <td>1</td>\n",
       "      <td>0</td>\n",
       "      <td>0</td>\n",
       "      <td>1</td>\n",
       "      <td>1</td>\n",
       "      <td>1</td>\n",
       "      <td>0</td>\n",
       "      <td>1</td>\n",
       "      <td>0</td>\n",
       "      <td>0</td>\n",
       "    </tr>\n",
       "    <tr>\n",
       "      <th>1</th>\n",
       "      <td>10</td>\n",
       "      <td>7</td>\n",
       "      <td>female</td>\n",
       "      <td>61</td>\n",
       "      <td>57000.0</td>\n",
       "      <td>1090 days</td>\n",
       "      <td>10</td>\n",
       "      <td>1</td>\n",
       "      <td>1</td>\n",
       "      <td>0</td>\n",
       "      <td>0</td>\n",
       "      <td>1</td>\n",
       "      <td>1</td>\n",
       "      <td>1</td>\n",
       "      <td>0</td>\n",
       "      <td>1</td>\n",
       "      <td>0</td>\n",
       "      <td>0</td>\n",
       "    </tr>\n",
       "    <tr>\n",
       "      <th>2</th>\n",
       "      <td>10</td>\n",
       "      <td>7</td>\n",
       "      <td>male</td>\n",
       "      <td>49</td>\n",
       "      <td>52000.0</td>\n",
       "      <td>2123 days</td>\n",
       "      <td>10</td>\n",
       "      <td>1</td>\n",
       "      <td>1</td>\n",
       "      <td>0</td>\n",
       "      <td>0</td>\n",
       "      <td>1</td>\n",
       "      <td>1</td>\n",
       "      <td>1</td>\n",
       "      <td>0</td>\n",
       "      <td>0</td>\n",
       "      <td>1</td>\n",
       "      <td>0</td>\n",
       "    </tr>\n",
       "    <tr>\n",
       "      <th>3</th>\n",
       "      <td>10</td>\n",
       "      <td>7</td>\n",
       "      <td>male</td>\n",
       "      <td>64</td>\n",
       "      <td>100000.0</td>\n",
       "      <td>1092 days</td>\n",
       "      <td>10</td>\n",
       "      <td>1</td>\n",
       "      <td>1</td>\n",
       "      <td>0</td>\n",
       "      <td>0</td>\n",
       "      <td>1</td>\n",
       "      <td>1</td>\n",
       "      <td>1</td>\n",
       "      <td>0</td>\n",
       "      <td>0</td>\n",
       "      <td>1</td>\n",
       "      <td>0</td>\n",
       "    </tr>\n",
       "    <tr>\n",
       "      <th>4</th>\n",
       "      <td>10</td>\n",
       "      <td>7</td>\n",
       "      <td>male</td>\n",
       "      <td>64</td>\n",
       "      <td>100000.0</td>\n",
       "      <td>1092 days</td>\n",
       "      <td>10</td>\n",
       "      <td>1</td>\n",
       "      <td>1</td>\n",
       "      <td>0</td>\n",
       "      <td>0</td>\n",
       "      <td>1</td>\n",
       "      <td>1</td>\n",
       "      <td>1</td>\n",
       "      <td>0</td>\n",
       "      <td>0</td>\n",
       "      <td>1</td>\n",
       "      <td>0</td>\n",
       "    </tr>\n",
       "    <tr>\n",
       "      <th>5</th>\n",
       "      <td>10</td>\n",
       "      <td>7</td>\n",
       "      <td>female</td>\n",
       "      <td>69</td>\n",
       "      <td>57000.0</td>\n",
       "      <td>1483 days</td>\n",
       "      <td>10</td>\n",
       "      <td>1</td>\n",
       "      <td>1</td>\n",
       "      <td>0</td>\n",
       "      <td>0</td>\n",
       "      <td>1</td>\n",
       "      <td>1</td>\n",
       "      <td>1</td>\n",
       "      <td>0</td>\n",
       "      <td>1</td>\n",
       "      <td>0</td>\n",
       "      <td>0</td>\n",
       "    </tr>\n",
       "    <tr>\n",
       "      <th>6</th>\n",
       "      <td>10</td>\n",
       "      <td>7</td>\n",
       "      <td>female</td>\n",
       "      <td>79</td>\n",
       "      <td>48000.0</td>\n",
       "      <td>1970 days</td>\n",
       "      <td>10</td>\n",
       "      <td>1</td>\n",
       "      <td>1</td>\n",
       "      <td>0</td>\n",
       "      <td>0</td>\n",
       "      <td>1</td>\n",
       "      <td>1</td>\n",
       "      <td>1</td>\n",
       "      <td>0</td>\n",
       "      <td>1</td>\n",
       "      <td>0</td>\n",
       "      <td>0</td>\n",
       "    </tr>\n",
       "    <tr>\n",
       "      <th>7</th>\n",
       "      <td>10</td>\n",
       "      <td>7</td>\n",
       "      <td>female</td>\n",
       "      <td>78</td>\n",
       "      <td>93000.0</td>\n",
       "      <td>1427 days</td>\n",
       "      <td>10</td>\n",
       "      <td>1</td>\n",
       "      <td>1</td>\n",
       "      <td>0</td>\n",
       "      <td>0</td>\n",
       "      <td>1</td>\n",
       "      <td>1</td>\n",
       "      <td>1</td>\n",
       "      <td>0</td>\n",
       "      <td>1</td>\n",
       "      <td>0</td>\n",
       "      <td>0</td>\n",
       "    </tr>\n",
       "    <tr>\n",
       "      <th>8</th>\n",
       "      <td>10</td>\n",
       "      <td>7</td>\n",
       "      <td>male</td>\n",
       "      <td>63</td>\n",
       "      <td>56000.0</td>\n",
       "      <td>785 days</td>\n",
       "      <td>10</td>\n",
       "      <td>1</td>\n",
       "      <td>1</td>\n",
       "      <td>0</td>\n",
       "      <td>0</td>\n",
       "      <td>1</td>\n",
       "      <td>1</td>\n",
       "      <td>1</td>\n",
       "      <td>0</td>\n",
       "      <td>0</td>\n",
       "      <td>1</td>\n",
       "      <td>0</td>\n",
       "    </tr>\n",
       "    <tr>\n",
       "      <th>9</th>\n",
       "      <td>10</td>\n",
       "      <td>7</td>\n",
       "      <td>female</td>\n",
       "      <td>53</td>\n",
       "      <td>72000.0</td>\n",
       "      <td>1522 days</td>\n",
       "      <td>10</td>\n",
       "      <td>1</td>\n",
       "      <td>1</td>\n",
       "      <td>0</td>\n",
       "      <td>0</td>\n",
       "      <td>1</td>\n",
       "      <td>1</td>\n",
       "      <td>1</td>\n",
       "      <td>0</td>\n",
       "      <td>1</td>\n",
       "      <td>0</td>\n",
       "      <td>0</td>\n",
       "    </tr>\n",
       "  </tbody>\n",
       "</table>\n",
       "</div>"
      ],
      "text/plain": [
       "   difficulty  duration  gender  age    income membership_time  reward  \\\n",
       "0          10         7  female   75  100000.0       1215 days      10   \n",
       "1          10         7  female   61   57000.0       1090 days      10   \n",
       "2          10         7    male   49   52000.0       2123 days      10   \n",
       "3          10         7    male   64  100000.0       1092 days      10   \n",
       "4          10         7    male   64  100000.0       1092 days      10   \n",
       "5          10         7  female   69   57000.0       1483 days      10   \n",
       "6          10         7  female   79   48000.0       1970 days      10   \n",
       "7          10         7  female   78   93000.0       1427 days      10   \n",
       "8          10         7    male   63   56000.0        785 days      10   \n",
       "9          10         7  female   53   72000.0       1522 days      10   \n",
       "\n",
       "   outcome  offer_bogo  offer_discount  offer_informational  channel_email  \\\n",
       "0        1           1               0                    0              1   \n",
       "1        1           1               0                    0              1   \n",
       "2        1           1               0                    0              1   \n",
       "3        1           1               0                    0              1   \n",
       "4        1           1               0                    0              1   \n",
       "5        1           1               0                    0              1   \n",
       "6        1           1               0                    0              1   \n",
       "7        1           1               0                    0              1   \n",
       "8        1           1               0                    0              1   \n",
       "9        1           1               0                    0              1   \n",
       "\n",
       "   channel_mobile  channel_social  channel_web  gender_female  gender_male  \\\n",
       "0               1               1            0              1            0   \n",
       "1               1               1            0              1            0   \n",
       "2               1               1            0              0            1   \n",
       "3               1               1            0              0            1   \n",
       "4               1               1            0              0            1   \n",
       "5               1               1            0              1            0   \n",
       "6               1               1            0              1            0   \n",
       "7               1               1            0              1            0   \n",
       "8               1               1            0              0            1   \n",
       "9               1               1            0              1            0   \n",
       "\n",
       "   gender_other  \n",
       "0             0  \n",
       "1             0  \n",
       "2             0  \n",
       "3             0  \n",
       "4             0  \n",
       "5             0  \n",
       "6             0  \n",
       "7             0  \n",
       "8             0  \n",
       "9             0  "
      ]
     },
     "execution_count": 217,
     "metadata": {},
     "output_type": "execute_result"
    }
   ],
   "source": [
    "portfolio_combined.head(10)"
   ]
  },
  {
   "cell_type": "code",
   "execution_count": 218,
   "metadata": {},
   "outputs": [],
   "source": [
    "# drop gender column\n",
    "portfolio_combined.drop(\"gender\", axis=1, inplace=True)"
   ]
  },
  {
   "cell_type": "code",
   "execution_count": 219,
   "metadata": {},
   "outputs": [
    {
     "data": {
      "text/html": [
       "<div>\n",
       "<style scoped>\n",
       "    .dataframe tbody tr th:only-of-type {\n",
       "        vertical-align: middle;\n",
       "    }\n",
       "\n",
       "    .dataframe tbody tr th {\n",
       "        vertical-align: top;\n",
       "    }\n",
       "\n",
       "    .dataframe thead th {\n",
       "        text-align: right;\n",
       "    }\n",
       "</style>\n",
       "<table border=\"1\" class=\"dataframe\">\n",
       "  <thead>\n",
       "    <tr style=\"text-align: right;\">\n",
       "      <th></th>\n",
       "      <th>difficulty</th>\n",
       "      <th>duration</th>\n",
       "      <th>age</th>\n",
       "      <th>income</th>\n",
       "      <th>membership_time</th>\n",
       "      <th>reward</th>\n",
       "      <th>outcome</th>\n",
       "      <th>offer_bogo</th>\n",
       "      <th>offer_discount</th>\n",
       "      <th>offer_informational</th>\n",
       "      <th>channel_email</th>\n",
       "      <th>channel_mobile</th>\n",
       "      <th>channel_social</th>\n",
       "      <th>channel_web</th>\n",
       "      <th>gender_female</th>\n",
       "      <th>gender_male</th>\n",
       "      <th>gender_other</th>\n",
       "    </tr>\n",
       "  </thead>\n",
       "  <tbody>\n",
       "    <tr>\n",
       "      <th>0</th>\n",
       "      <td>10</td>\n",
       "      <td>7</td>\n",
       "      <td>75</td>\n",
       "      <td>100000.0</td>\n",
       "      <td>1215 days</td>\n",
       "      <td>10</td>\n",
       "      <td>1</td>\n",
       "      <td>1</td>\n",
       "      <td>0</td>\n",
       "      <td>0</td>\n",
       "      <td>1</td>\n",
       "      <td>1</td>\n",
       "      <td>1</td>\n",
       "      <td>0</td>\n",
       "      <td>1</td>\n",
       "      <td>0</td>\n",
       "      <td>0</td>\n",
       "    </tr>\n",
       "    <tr>\n",
       "      <th>1</th>\n",
       "      <td>10</td>\n",
       "      <td>7</td>\n",
       "      <td>61</td>\n",
       "      <td>57000.0</td>\n",
       "      <td>1090 days</td>\n",
       "      <td>10</td>\n",
       "      <td>1</td>\n",
       "      <td>1</td>\n",
       "      <td>0</td>\n",
       "      <td>0</td>\n",
       "      <td>1</td>\n",
       "      <td>1</td>\n",
       "      <td>1</td>\n",
       "      <td>0</td>\n",
       "      <td>1</td>\n",
       "      <td>0</td>\n",
       "      <td>0</td>\n",
       "    </tr>\n",
       "    <tr>\n",
       "      <th>2</th>\n",
       "      <td>10</td>\n",
       "      <td>7</td>\n",
       "      <td>49</td>\n",
       "      <td>52000.0</td>\n",
       "      <td>2123 days</td>\n",
       "      <td>10</td>\n",
       "      <td>1</td>\n",
       "      <td>1</td>\n",
       "      <td>0</td>\n",
       "      <td>0</td>\n",
       "      <td>1</td>\n",
       "      <td>1</td>\n",
       "      <td>1</td>\n",
       "      <td>0</td>\n",
       "      <td>0</td>\n",
       "      <td>1</td>\n",
       "      <td>0</td>\n",
       "    </tr>\n",
       "    <tr>\n",
       "      <th>3</th>\n",
       "      <td>10</td>\n",
       "      <td>7</td>\n",
       "      <td>64</td>\n",
       "      <td>100000.0</td>\n",
       "      <td>1092 days</td>\n",
       "      <td>10</td>\n",
       "      <td>1</td>\n",
       "      <td>1</td>\n",
       "      <td>0</td>\n",
       "      <td>0</td>\n",
       "      <td>1</td>\n",
       "      <td>1</td>\n",
       "      <td>1</td>\n",
       "      <td>0</td>\n",
       "      <td>0</td>\n",
       "      <td>1</td>\n",
       "      <td>0</td>\n",
       "    </tr>\n",
       "    <tr>\n",
       "      <th>4</th>\n",
       "      <td>10</td>\n",
       "      <td>7</td>\n",
       "      <td>64</td>\n",
       "      <td>100000.0</td>\n",
       "      <td>1092 days</td>\n",
       "      <td>10</td>\n",
       "      <td>1</td>\n",
       "      <td>1</td>\n",
       "      <td>0</td>\n",
       "      <td>0</td>\n",
       "      <td>1</td>\n",
       "      <td>1</td>\n",
       "      <td>1</td>\n",
       "      <td>0</td>\n",
       "      <td>0</td>\n",
       "      <td>1</td>\n",
       "      <td>0</td>\n",
       "    </tr>\n",
       "    <tr>\n",
       "      <th>5</th>\n",
       "      <td>10</td>\n",
       "      <td>7</td>\n",
       "      <td>69</td>\n",
       "      <td>57000.0</td>\n",
       "      <td>1483 days</td>\n",
       "      <td>10</td>\n",
       "      <td>1</td>\n",
       "      <td>1</td>\n",
       "      <td>0</td>\n",
       "      <td>0</td>\n",
       "      <td>1</td>\n",
       "      <td>1</td>\n",
       "      <td>1</td>\n",
       "      <td>0</td>\n",
       "      <td>1</td>\n",
       "      <td>0</td>\n",
       "      <td>0</td>\n",
       "    </tr>\n",
       "    <tr>\n",
       "      <th>6</th>\n",
       "      <td>10</td>\n",
       "      <td>7</td>\n",
       "      <td>79</td>\n",
       "      <td>48000.0</td>\n",
       "      <td>1970 days</td>\n",
       "      <td>10</td>\n",
       "      <td>1</td>\n",
       "      <td>1</td>\n",
       "      <td>0</td>\n",
       "      <td>0</td>\n",
       "      <td>1</td>\n",
       "      <td>1</td>\n",
       "      <td>1</td>\n",
       "      <td>0</td>\n",
       "      <td>1</td>\n",
       "      <td>0</td>\n",
       "      <td>0</td>\n",
       "    </tr>\n",
       "    <tr>\n",
       "      <th>7</th>\n",
       "      <td>10</td>\n",
       "      <td>7</td>\n",
       "      <td>78</td>\n",
       "      <td>93000.0</td>\n",
       "      <td>1427 days</td>\n",
       "      <td>10</td>\n",
       "      <td>1</td>\n",
       "      <td>1</td>\n",
       "      <td>0</td>\n",
       "      <td>0</td>\n",
       "      <td>1</td>\n",
       "      <td>1</td>\n",
       "      <td>1</td>\n",
       "      <td>0</td>\n",
       "      <td>1</td>\n",
       "      <td>0</td>\n",
       "      <td>0</td>\n",
       "    </tr>\n",
       "    <tr>\n",
       "      <th>8</th>\n",
       "      <td>10</td>\n",
       "      <td>7</td>\n",
       "      <td>63</td>\n",
       "      <td>56000.0</td>\n",
       "      <td>785 days</td>\n",
       "      <td>10</td>\n",
       "      <td>1</td>\n",
       "      <td>1</td>\n",
       "      <td>0</td>\n",
       "      <td>0</td>\n",
       "      <td>1</td>\n",
       "      <td>1</td>\n",
       "      <td>1</td>\n",
       "      <td>0</td>\n",
       "      <td>0</td>\n",
       "      <td>1</td>\n",
       "      <td>0</td>\n",
       "    </tr>\n",
       "    <tr>\n",
       "      <th>9</th>\n",
       "      <td>10</td>\n",
       "      <td>7</td>\n",
       "      <td>53</td>\n",
       "      <td>72000.0</td>\n",
       "      <td>1522 days</td>\n",
       "      <td>10</td>\n",
       "      <td>1</td>\n",
       "      <td>1</td>\n",
       "      <td>0</td>\n",
       "      <td>0</td>\n",
       "      <td>1</td>\n",
       "      <td>1</td>\n",
       "      <td>1</td>\n",
       "      <td>0</td>\n",
       "      <td>1</td>\n",
       "      <td>0</td>\n",
       "      <td>0</td>\n",
       "    </tr>\n",
       "  </tbody>\n",
       "</table>\n",
       "</div>"
      ],
      "text/plain": [
       "   difficulty  duration  age    income membership_time  reward  outcome  \\\n",
       "0          10         7   75  100000.0       1215 days      10        1   \n",
       "1          10         7   61   57000.0       1090 days      10        1   \n",
       "2          10         7   49   52000.0       2123 days      10        1   \n",
       "3          10         7   64  100000.0       1092 days      10        1   \n",
       "4          10         7   64  100000.0       1092 days      10        1   \n",
       "5          10         7   69   57000.0       1483 days      10        1   \n",
       "6          10         7   79   48000.0       1970 days      10        1   \n",
       "7          10         7   78   93000.0       1427 days      10        1   \n",
       "8          10         7   63   56000.0        785 days      10        1   \n",
       "9          10         7   53   72000.0       1522 days      10        1   \n",
       "\n",
       "   offer_bogo  offer_discount  offer_informational  channel_email  \\\n",
       "0           1               0                    0              1   \n",
       "1           1               0                    0              1   \n",
       "2           1               0                    0              1   \n",
       "3           1               0                    0              1   \n",
       "4           1               0                    0              1   \n",
       "5           1               0                    0              1   \n",
       "6           1               0                    0              1   \n",
       "7           1               0                    0              1   \n",
       "8           1               0                    0              1   \n",
       "9           1               0                    0              1   \n",
       "\n",
       "   channel_mobile  channel_social  channel_web  gender_female  gender_male  \\\n",
       "0               1               1            0              1            0   \n",
       "1               1               1            0              1            0   \n",
       "2               1               1            0              0            1   \n",
       "3               1               1            0              0            1   \n",
       "4               1               1            0              0            1   \n",
       "5               1               1            0              1            0   \n",
       "6               1               1            0              1            0   \n",
       "7               1               1            0              1            0   \n",
       "8               1               1            0              0            1   \n",
       "9               1               1            0              1            0   \n",
       "\n",
       "   gender_other  \n",
       "0             0  \n",
       "1             0  \n",
       "2             0  \n",
       "3             0  \n",
       "4             0  \n",
       "5             0  \n",
       "6             0  \n",
       "7             0  \n",
       "8             0  \n",
       "9             0  "
      ]
     },
     "execution_count": 219,
     "metadata": {},
     "output_type": "execute_result"
    }
   ],
   "source": [
    "portfolio_combined.head(10)"
   ]
  },
  {
   "cell_type": "code",
   "execution_count": 220,
   "metadata": {},
   "outputs": [],
   "source": [
    "# move outcome to the last column\n",
    "cols = list(portfolio_combined.columns.values) #Make a list of all of the columns in the df\n",
    "cols.pop(cols.index('outcome')) #Remove b from list\n",
    "\n",
    "portfolio_combined = portfolio_combined[cols+['outcome']] "
   ]
  },
  {
   "cell_type": "code",
   "execution_count": 221,
   "metadata": {},
   "outputs": [
    {
     "data": {
      "text/plain": [
       "difficulty                       int64\n",
       "duration                         int64\n",
       "age                              int64\n",
       "income                         float64\n",
       "membership_time        timedelta64[ns]\n",
       "reward                           int64\n",
       "offer_bogo                       uint8\n",
       "offer_discount                   uint8\n",
       "offer_informational              uint8\n",
       "channel_email                    int64\n",
       "channel_mobile                   int64\n",
       "channel_social                   int64\n",
       "channel_web                      int64\n",
       "gender_female                    uint8\n",
       "gender_male                      uint8\n",
       "gender_other                     uint8\n",
       "outcome                          int64\n",
       "dtype: object"
      ]
     },
     "execution_count": 221,
     "metadata": {},
     "output_type": "execute_result"
    }
   ],
   "source": [
    "portfolio_combined.head(10)\n",
    "portfolio_combined.dtypes\n",
    "\n"
   ]
  },
  {
   "cell_type": "markdown",
   "metadata": {},
   "source": [
    "We can see that `membership_time` is of the non-integer type `datetime`. To make the data work in our classification algorithm, we need to transform it to an integer type."
   ]
  },
  {
   "cell_type": "code",
   "execution_count": 222,
   "metadata": {},
   "outputs": [],
   "source": [
    "portfolio_combined['membership_time'] = portfolio_combined['membership_time'].dt.days\n"
   ]
  },
  {
   "cell_type": "code",
   "execution_count": 223,
   "metadata": {},
   "outputs": [
    {
     "data": {
      "text/plain": [
       "difficulty               int64\n",
       "duration                 int64\n",
       "age                      int64\n",
       "income                 float64\n",
       "membership_time          int64\n",
       "reward                   int64\n",
       "offer_bogo               uint8\n",
       "offer_discount           uint8\n",
       "offer_informational      uint8\n",
       "channel_email            int64\n",
       "channel_mobile           int64\n",
       "channel_social           int64\n",
       "channel_web              int64\n",
       "gender_female            uint8\n",
       "gender_male              uint8\n",
       "gender_other             uint8\n",
       "outcome                  int64\n",
       "dtype: object"
      ]
     },
     "execution_count": 223,
     "metadata": {},
     "output_type": "execute_result"
    }
   ],
   "source": [
    "portfolio_combined.head(10)\n",
    "portfolio_combined.dtypes"
   ]
  },
  {
   "cell_type": "markdown",
   "metadata": {},
   "source": [
    "### Outlier Detection\n",
    "\n",
    "Our data is unlikely to come from a Gaussian distribution. \n",
    "\n",
    "\n",
    "One criteria for extreme outlier can be defined as +/- 3*IQR deviations from the the Q1/Q3.  \n",
    "\n",
    "Here we have 6 continuous variables to check for outliers: \n",
    "* difficulty\n",
    "* age\n",
    "* income\n",
    "* duration\n",
    "* reward\n",
    "* membership_time\n",
    "\n",
    "Next we will define a function `remove_outlier` to remove outliers one feature at a time."
   ]
  },
  {
   "cell_type": "code",
   "execution_count": 224,
   "metadata": {},
   "outputs": [
    {
     "name": "stdout",
     "output_type": "stream",
     "text": [
      "The number of deleted row after removing outliers in difficulty is 0\n",
      "The number of deleted row after removing outliers in duration is 0\n",
      "The number of deleted row after removing outliers in age is 0\n",
      "The number of deleted row after removing outliers in income is 0\n",
      "The number of deleted row after removing outliers in membership_time is 0\n",
      "The number of deleted row after removing outliers in reward is 0\n"
     ]
    }
   ],
   "source": [
    "\n",
    "def remove_outlier(df_in, col_name):\n",
    "    q1 = df_in[col_name].quantile(0.25)\n",
    "    q3 = df_in[col_name].quantile(0.75)\n",
    "    iqr = q3-q1 #Interquartile range\n",
    "    #Calculate the inner and outer lower fences\n",
    "\n",
    "    fence_low  = q1- 3*iqr\n",
    "    #Calculate the inner and outer higher fences\n",
    "    fence_high = q3+ 3*iqr\n",
    "    df_out = df_in.loc[(df_in[col_name] > fence_low) & (df_in[col_name] < fence_high)]\n",
    "    return df_out\n",
    "\n",
    "# remove outlier in difficulty feature column\n",
    "portfolio_combined_1 = remove_outlier(portfolio_combined, 'difficulty')\n",
    "deleted_rows_1 = portfolio_combined.shape[0] - portfolio_combined_1.shape[0]\n",
    "print(\"The number of deleted row after removing outliers in difficulty is\", deleted_rows_1)\n",
    "\n",
    "# remove outlier in duration feature column\n",
    "portfolio_combined_2 = remove_outlier(portfolio_combined_1, 'duration')\n",
    "deleted_rows_2 = portfolio_combined_1.shape[0] - portfolio_combined_2.shape[0]\n",
    "print(\"The number of deleted row after removing outliers in duration is\", deleted_rows_2)\n",
    "\n",
    "# remove outlier in age feature column\n",
    "portfolio_combined_3 = remove_outlier(portfolio_combined_2, 'age')\n",
    "deleted_rows_3 = portfolio_combined_2.shape[0] - portfolio_combined_3.shape[0]\n",
    "print(\"The number of deleted row after removing outliers in age is\", deleted_rows_3)\n",
    "\n",
    "# remove outlier in income feature column\n",
    "portfolio_combined_4 = remove_outlier(portfolio_combined_3, 'income')\n",
    "deleted_rows_4 = portfolio_combined_3.shape[0] - portfolio_combined_4.shape[0]\n",
    "print(\"The number of deleted row after removing outliers in income is\", deleted_rows_4)\n",
    "\n",
    "# remove outlier in membership_time feature column\n",
    "portfolio_combined_5 = remove_outlier(portfolio_combined_4, 'membership_time')\n",
    "deleted_rows_5 = portfolio_combined_4.shape[0] - portfolio_combined_5.shape[0]\n",
    "print(\"The number of deleted row after removing outliers in membership_time is\", deleted_rows_5)\n",
    "\n",
    "# remove outlier in reward feature column\n",
    "portfolio_combined_6 = remove_outlier(portfolio_combined_5, 'reward')\n",
    "deleted_rows_6 = portfolio_combined_5.shape[0] - portfolio_combined_6.shape[0]\n",
    "print(\"The number of deleted row after removing outliers in reward is\", deleted_rows_6)\n",
    "\n"
   ]
  },
  {
   "cell_type": "markdown",
   "metadata": {},
   "source": [
    "No extreme outliers were found!"
   ]
  },
  {
   "cell_type": "markdown",
   "metadata": {},
   "source": [
    "### Check for Duplicate Data in the Final Combined Dataset"
   ]
  },
  {
   "cell_type": "code",
   "execution_count": 225,
   "metadata": {},
   "outputs": [
    {
     "name": "stdout",
     "output_type": "stream",
     "text": [
      "(15701, 17) (58187, 17)\n"
     ]
    }
   ],
   "source": [
    "#Identifying duplicate rows of data and removing them.\n",
    "duplicateDFRow = portfolio_combined_6[portfolio_combined_6.duplicated()]\n",
    "print(duplicateDFRow.shape, portfolio_combined_6.shape)"
   ]
  },
  {
   "cell_type": "markdown",
   "metadata": {},
   "source": [
    "We have 15701 duplicated rows. Next we are going to delete the deplicated data. "
   ]
  },
  {
   "cell_type": "code",
   "execution_count": 226,
   "metadata": {},
   "outputs": [
    {
     "data": {
      "text/html": [
       "<div>\n",
       "<style scoped>\n",
       "    .dataframe tbody tr th:only-of-type {\n",
       "        vertical-align: middle;\n",
       "    }\n",
       "\n",
       "    .dataframe tbody tr th {\n",
       "        vertical-align: top;\n",
       "    }\n",
       "\n",
       "    .dataframe thead th {\n",
       "        text-align: right;\n",
       "    }\n",
       "</style>\n",
       "<table border=\"1\" class=\"dataframe\">\n",
       "  <thead>\n",
       "    <tr style=\"text-align: right;\">\n",
       "      <th></th>\n",
       "      <th>difficulty</th>\n",
       "      <th>duration</th>\n",
       "      <th>age</th>\n",
       "      <th>income</th>\n",
       "      <th>membership_time</th>\n",
       "      <th>reward</th>\n",
       "      <th>offer_bogo</th>\n",
       "      <th>offer_discount</th>\n",
       "      <th>offer_informational</th>\n",
       "      <th>channel_email</th>\n",
       "      <th>channel_mobile</th>\n",
       "      <th>channel_social</th>\n",
       "      <th>channel_web</th>\n",
       "      <th>gender_female</th>\n",
       "      <th>gender_male</th>\n",
       "      <th>gender_other</th>\n",
       "      <th>outcome</th>\n",
       "    </tr>\n",
       "  </thead>\n",
       "  <tbody>\n",
       "    <tr>\n",
       "      <th>0</th>\n",
       "      <td>10</td>\n",
       "      <td>7</td>\n",
       "      <td>75</td>\n",
       "      <td>100000.0</td>\n",
       "      <td>1215</td>\n",
       "      <td>10</td>\n",
       "      <td>1</td>\n",
       "      <td>0</td>\n",
       "      <td>0</td>\n",
       "      <td>1</td>\n",
       "      <td>1</td>\n",
       "      <td>1</td>\n",
       "      <td>0</td>\n",
       "      <td>1</td>\n",
       "      <td>0</td>\n",
       "      <td>0</td>\n",
       "      <td>1</td>\n",
       "    </tr>\n",
       "    <tr>\n",
       "      <th>1</th>\n",
       "      <td>10</td>\n",
       "      <td>7</td>\n",
       "      <td>61</td>\n",
       "      <td>57000.0</td>\n",
       "      <td>1090</td>\n",
       "      <td>10</td>\n",
       "      <td>1</td>\n",
       "      <td>0</td>\n",
       "      <td>0</td>\n",
       "      <td>1</td>\n",
       "      <td>1</td>\n",
       "      <td>1</td>\n",
       "      <td>0</td>\n",
       "      <td>1</td>\n",
       "      <td>0</td>\n",
       "      <td>0</td>\n",
       "      <td>1</td>\n",
       "    </tr>\n",
       "    <tr>\n",
       "      <th>2</th>\n",
       "      <td>10</td>\n",
       "      <td>7</td>\n",
       "      <td>49</td>\n",
       "      <td>52000.0</td>\n",
       "      <td>2123</td>\n",
       "      <td>10</td>\n",
       "      <td>1</td>\n",
       "      <td>0</td>\n",
       "      <td>0</td>\n",
       "      <td>1</td>\n",
       "      <td>1</td>\n",
       "      <td>1</td>\n",
       "      <td>0</td>\n",
       "      <td>0</td>\n",
       "      <td>1</td>\n",
       "      <td>0</td>\n",
       "      <td>1</td>\n",
       "    </tr>\n",
       "    <tr>\n",
       "      <th>3</th>\n",
       "      <td>10</td>\n",
       "      <td>7</td>\n",
       "      <td>64</td>\n",
       "      <td>100000.0</td>\n",
       "      <td>1092</td>\n",
       "      <td>10</td>\n",
       "      <td>1</td>\n",
       "      <td>0</td>\n",
       "      <td>0</td>\n",
       "      <td>1</td>\n",
       "      <td>1</td>\n",
       "      <td>1</td>\n",
       "      <td>0</td>\n",
       "      <td>0</td>\n",
       "      <td>1</td>\n",
       "      <td>0</td>\n",
       "      <td>1</td>\n",
       "    </tr>\n",
       "    <tr>\n",
       "      <th>5</th>\n",
       "      <td>10</td>\n",
       "      <td>7</td>\n",
       "      <td>69</td>\n",
       "      <td>57000.0</td>\n",
       "      <td>1483</td>\n",
       "      <td>10</td>\n",
       "      <td>1</td>\n",
       "      <td>0</td>\n",
       "      <td>0</td>\n",
       "      <td>1</td>\n",
       "      <td>1</td>\n",
       "      <td>1</td>\n",
       "      <td>0</td>\n",
       "      <td>1</td>\n",
       "      <td>0</td>\n",
       "      <td>0</td>\n",
       "      <td>1</td>\n",
       "    </tr>\n",
       "    <tr>\n",
       "      <th>6</th>\n",
       "      <td>10</td>\n",
       "      <td>7</td>\n",
       "      <td>79</td>\n",
       "      <td>48000.0</td>\n",
       "      <td>1970</td>\n",
       "      <td>10</td>\n",
       "      <td>1</td>\n",
       "      <td>0</td>\n",
       "      <td>0</td>\n",
       "      <td>1</td>\n",
       "      <td>1</td>\n",
       "      <td>1</td>\n",
       "      <td>0</td>\n",
       "      <td>1</td>\n",
       "      <td>0</td>\n",
       "      <td>0</td>\n",
       "      <td>1</td>\n",
       "    </tr>\n",
       "    <tr>\n",
       "      <th>7</th>\n",
       "      <td>10</td>\n",
       "      <td>7</td>\n",
       "      <td>78</td>\n",
       "      <td>93000.0</td>\n",
       "      <td>1427</td>\n",
       "      <td>10</td>\n",
       "      <td>1</td>\n",
       "      <td>0</td>\n",
       "      <td>0</td>\n",
       "      <td>1</td>\n",
       "      <td>1</td>\n",
       "      <td>1</td>\n",
       "      <td>0</td>\n",
       "      <td>1</td>\n",
       "      <td>0</td>\n",
       "      <td>0</td>\n",
       "      <td>1</td>\n",
       "    </tr>\n",
       "    <tr>\n",
       "      <th>8</th>\n",
       "      <td>10</td>\n",
       "      <td>7</td>\n",
       "      <td>63</td>\n",
       "      <td>56000.0</td>\n",
       "      <td>785</td>\n",
       "      <td>10</td>\n",
       "      <td>1</td>\n",
       "      <td>0</td>\n",
       "      <td>0</td>\n",
       "      <td>1</td>\n",
       "      <td>1</td>\n",
       "      <td>1</td>\n",
       "      <td>0</td>\n",
       "      <td>0</td>\n",
       "      <td>1</td>\n",
       "      <td>0</td>\n",
       "      <td>1</td>\n",
       "    </tr>\n",
       "    <tr>\n",
       "      <th>9</th>\n",
       "      <td>10</td>\n",
       "      <td>7</td>\n",
       "      <td>53</td>\n",
       "      <td>72000.0</td>\n",
       "      <td>1522</td>\n",
       "      <td>10</td>\n",
       "      <td>1</td>\n",
       "      <td>0</td>\n",
       "      <td>0</td>\n",
       "      <td>1</td>\n",
       "      <td>1</td>\n",
       "      <td>1</td>\n",
       "      <td>0</td>\n",
       "      <td>1</td>\n",
       "      <td>0</td>\n",
       "      <td>0</td>\n",
       "      <td>1</td>\n",
       "    </tr>\n",
       "    <tr>\n",
       "      <th>10</th>\n",
       "      <td>10</td>\n",
       "      <td>7</td>\n",
       "      <td>53</td>\n",
       "      <td>117000.0</td>\n",
       "      <td>1344</td>\n",
       "      <td>10</td>\n",
       "      <td>1</td>\n",
       "      <td>0</td>\n",
       "      <td>0</td>\n",
       "      <td>1</td>\n",
       "      <td>1</td>\n",
       "      <td>1</td>\n",
       "      <td>0</td>\n",
       "      <td>1</td>\n",
       "      <td>0</td>\n",
       "      <td>0</td>\n",
       "      <td>1</td>\n",
       "    </tr>\n",
       "  </tbody>\n",
       "</table>\n",
       "</div>"
      ],
      "text/plain": [
       "    difficulty  duration  age    income  membership_time  reward  offer_bogo  \\\n",
       "0           10         7   75  100000.0             1215      10           1   \n",
       "1           10         7   61   57000.0             1090      10           1   \n",
       "2           10         7   49   52000.0             2123      10           1   \n",
       "3           10         7   64  100000.0             1092      10           1   \n",
       "5           10         7   69   57000.0             1483      10           1   \n",
       "6           10         7   79   48000.0             1970      10           1   \n",
       "7           10         7   78   93000.0             1427      10           1   \n",
       "8           10         7   63   56000.0              785      10           1   \n",
       "9           10         7   53   72000.0             1522      10           1   \n",
       "10          10         7   53  117000.0             1344      10           1   \n",
       "\n",
       "    offer_discount  offer_informational  channel_email  channel_mobile  \\\n",
       "0                0                    0              1               1   \n",
       "1                0                    0              1               1   \n",
       "2                0                    0              1               1   \n",
       "3                0                    0              1               1   \n",
       "5                0                    0              1               1   \n",
       "6                0                    0              1               1   \n",
       "7                0                    0              1               1   \n",
       "8                0                    0              1               1   \n",
       "9                0                    0              1               1   \n",
       "10               0                    0              1               1   \n",
       "\n",
       "    channel_social  channel_web  gender_female  gender_male  gender_other  \\\n",
       "0                1            0              1            0             0   \n",
       "1                1            0              1            0             0   \n",
       "2                1            0              0            1             0   \n",
       "3                1            0              0            1             0   \n",
       "5                1            0              1            0             0   \n",
       "6                1            0              1            0             0   \n",
       "7                1            0              1            0             0   \n",
       "8                1            0              0            1             0   \n",
       "9                1            0              1            0             0   \n",
       "10               1            0              1            0             0   \n",
       "\n",
       "    outcome  \n",
       "0         1  \n",
       "1         1  \n",
       "2         1  \n",
       "3         1  \n",
       "5         1  \n",
       "6         1  \n",
       "7         1  \n",
       "8         1  \n",
       "9         1  \n",
       "10        1  "
      ]
     },
     "execution_count": 226,
     "metadata": {},
     "output_type": "execute_result"
    }
   ],
   "source": [
    "# dropping duplicate values \n",
    "portfolio_combined_6.drop_duplicates(keep=\"first\",inplace=True) \n",
    "portfolio_combined_6.shape\n",
    "portfolio_combined_6.dtypes\n",
    "portfolio_combined_6.head(10)"
   ]
  },
  {
   "cell_type": "markdown",
   "metadata": {},
   "source": [
    "Now we have our final algorithm-ready dataset that contains all the predictors and target variables."
   ]
  },
  {
   "cell_type": "markdown",
   "metadata": {},
   "source": [
    "### Attribute Histograms for Continuous Variables"
   ]
  },
  {
   "cell_type": "code",
   "execution_count": 227,
   "metadata": {},
   "outputs": [],
   "source": [
    "import matplotlib.pyplot as plt"
   ]
  },
  {
   "cell_type": "code",
   "execution_count": 228,
   "metadata": {
    "scrolled": true
   },
   "outputs": [
    {
     "data": {
      "image/png": "[encoded data removed]",
      "text/plain": [
       "<Figure size 864x288 with 6 Axes>"
      ]
     },
     "metadata": {
      "needs_background": "light"
     },
     "output_type": "display_data"
    }
   ],
   "source": [
    "# function to draw histograms\n",
    "import seaborn as sns\n",
    "\n",
    "def draw_histograms(df, variables, n_rows, n_cols):\n",
    "    fig=plt.figure()\n",
    "    for i, var_name in enumerate(variables):\n",
    "        ax=fig.add_subplot(n_rows,n_cols,i+1)\n",
    "        #df[var_name].hist(bins=10,ax=ax)\n",
    "        sns.distplot( df[var_name] , color=\"skyblue\")\n",
    "        ax.set_title(var_name+\" Distribution\")\n",
    "    fig.tight_layout()  # Improves appearance a bit.\n",
    "    plt.show()\n",
    "\n",
    "draw_histograms(portfolio_combined_6, portfolio_combined_6.columns[0:6], 2,3)"
   ]
  },
  {
   "cell_type": "markdown",
   "metadata": {},
   "source": [
    "As can be seen from the histograms, the data are not very evenly distributed. "
   ]
  },
  {
   "cell_type": "markdown",
   "metadata": {},
   "source": [
    "### Correlation Plot for Continuous Variables"
   ]
  },
  {
   "cell_type": "code",
   "execution_count": 229,
   "metadata": {},
   "outputs": [
    {
     "data": {
      "image/png": "[encoded data removed]",
      "text/plain": [
       "<Figure size 864x288 with 2 Axes>"
      ]
     },
     "metadata": {
      "needs_background": "light"
     },
     "output_type": "display_data"
    }
   ],
   "source": [
    "portfolio_subset = portfolio_combined_6[['difficulty','duration','age','income','membership_time','reward']]\n",
    "corr = portfolio_subset.corr()\n",
    "ax = sns.heatmap(\n",
    "    corr, \n",
    "    vmin=-1, vmax=1, center=0,\n",
    "    cmap=sns.diverging_palette(20, 220, n=200),\n",
    "    square=True\n",
    ")\n",
    "ax.set_xticklabels(\n",
    "    ax.get_xticklabels(),\n",
    "    rotation=45,\n",
    "    horizontalalignment='right'\n",
    ");"
   ]
  },
  {
   "cell_type": "markdown",
   "metadata": {},
   "source": [
    "We can see that `duration` and `difficulty`, `reward` and `difficulty` are highly correlated. `income` and `age` are also somewhat correlated."
   ]
  },
  {
   "cell_type": "code",
   "execution_count": 230,
   "metadata": {},
   "outputs": [
    {
     "name": "stdout",
     "output_type": "stream",
     "text": [
      "The correlation coefficient between duration and difficulty is 0.7586423833113695\n",
      "The correlation coefficient between reward and difficulty is 0.5143246736547914\n"
     ]
    }
   ],
   "source": [
    "print(\"The correlation coefficient between duration and difficulty is\", portfolio_combined_6['difficulty'].corr(portfolio_combined_6['duration']))\n",
    "print(\"The correlation coefficient between reward and difficulty is\", portfolio_combined_6['difficulty'].corr(portfolio_combined_6['reward']))\n",
    "#print(\"The correlation coefficient between duration and difficulty is\", portfolio_combined_6['reward'].corr(portfolio_combined_6['duration']))"
   ]
  },
  {
   "cell_type": "markdown",
   "metadata": {},
   "source": [
    "In general, an absolute correlation coefficient of >0.7 among two or more predictors indicates the presence of multicollinearity. Therfore, we can draw the conclusion that `duration` and `difficulty` are correlated. "
   ]
  },
  {
   "cell_type": "code",
   "execution_count": 231,
   "metadata": {},
   "outputs": [
    {
     "name": "stderr",
     "output_type": "stream",
     "text": [
      "/Users/mengjialyu/opt/anaconda3/lib/python3.7/site-packages/statsmodels/stats/outliers_influence.py:193: RuntimeWarning: divide by zero encountered in double_scalars\n",
      "  vif = 1. / (1. - r_squared_i)\n",
      "/Users/mengjialyu/opt/anaconda3/lib/python3.7/site-packages/statsmodels/regression/linear_model.py:1685: RuntimeWarning: divide by zero encountered in double_scalars\n",
      "  return 1 - self.ssr/self.centered_tss\n"
     ]
    }
   ],
   "source": [
    "from statsmodels.stats.outliers_influence import variance_inflation_factor \n",
    "vif = pd.DataFrame()\n",
    "\n",
    "vif[\"VIF Factor\"] = [variance_inflation_factor(portfolio_combined_6.values, i) for i in range(portfolio_combined_6.shape[1])]\n",
    "\n",
    "vif[\"features\"] = portfolio_combined_6.columns\n"
   ]
  },
  {
   "cell_type": "code",
   "execution_count": 232,
   "metadata": {},
   "outputs": [
    {
     "data": {
      "text/html": [
       "<div>\n",
       "<style scoped>\n",
       "    .dataframe tbody tr th:only-of-type {\n",
       "        vertical-align: middle;\n",
       "    }\n",
       "\n",
       "    .dataframe tbody tr th {\n",
       "        vertical-align: top;\n",
       "    }\n",
       "\n",
       "    .dataframe thead th {\n",
       "        text-align: right;\n",
       "    }\n",
       "</style>\n",
       "<table border=\"1\" class=\"dataframe\">\n",
       "  <thead>\n",
       "    <tr style=\"text-align: right;\">\n",
       "      <th></th>\n",
       "      <th>VIF Factor</th>\n",
       "      <th>features</th>\n",
       "    </tr>\n",
       "  </thead>\n",
       "  <tbody>\n",
       "    <tr>\n",
       "      <th>0</th>\n",
       "      <td>25.244951</td>\n",
       "      <td>difficulty</td>\n",
       "    </tr>\n",
       "    <tr>\n",
       "      <th>1</th>\n",
       "      <td>5.682312</td>\n",
       "      <td>duration</td>\n",
       "    </tr>\n",
       "    <tr>\n",
       "      <th>2</th>\n",
       "      <td>1.104207</td>\n",
       "      <td>age</td>\n",
       "    </tr>\n",
       "    <tr>\n",
       "      <th>3</th>\n",
       "      <td>1.162895</td>\n",
       "      <td>income</td>\n",
       "    </tr>\n",
       "    <tr>\n",
       "      <th>4</th>\n",
       "      <td>1.048356</td>\n",
       "      <td>membership_time</td>\n",
       "    </tr>\n",
       "    <tr>\n",
       "      <th>5</th>\n",
       "      <td>18.510670</td>\n",
       "      <td>reward</td>\n",
       "    </tr>\n",
       "    <tr>\n",
       "      <th>6</th>\n",
       "      <td>inf</td>\n",
       "      <td>offer_bogo</td>\n",
       "    </tr>\n",
       "    <tr>\n",
       "      <th>7</th>\n",
       "      <td>inf</td>\n",
       "      <td>offer_discount</td>\n",
       "    </tr>\n",
       "    <tr>\n",
       "      <th>8</th>\n",
       "      <td>inf</td>\n",
       "      <td>offer_informational</td>\n",
       "    </tr>\n",
       "    <tr>\n",
       "      <th>9</th>\n",
       "      <td>0.000000</td>\n",
       "      <td>channel_email</td>\n",
       "    </tr>\n",
       "    <tr>\n",
       "      <th>10</th>\n",
       "      <td>4.505428</td>\n",
       "      <td>channel_mobile</td>\n",
       "    </tr>\n",
       "    <tr>\n",
       "      <th>11</th>\n",
       "      <td>1.676120</td>\n",
       "      <td>channel_social</td>\n",
       "    </tr>\n",
       "    <tr>\n",
       "      <th>12</th>\n",
       "      <td>2.140177</td>\n",
       "      <td>channel_web</td>\n",
       "    </tr>\n",
       "    <tr>\n",
       "      <th>13</th>\n",
       "      <td>inf</td>\n",
       "      <td>gender_female</td>\n",
       "    </tr>\n",
       "    <tr>\n",
       "      <th>14</th>\n",
       "      <td>inf</td>\n",
       "      <td>gender_male</td>\n",
       "    </tr>\n",
       "    <tr>\n",
       "      <th>15</th>\n",
       "      <td>inf</td>\n",
       "      <td>gender_other</td>\n",
       "    </tr>\n",
       "    <tr>\n",
       "      <th>16</th>\n",
       "      <td>1.614941</td>\n",
       "      <td>outcome</td>\n",
       "    </tr>\n",
       "  </tbody>\n",
       "</table>\n",
       "</div>"
      ],
      "text/plain": [
       "    VIF Factor             features\n",
       "0    25.244951           difficulty\n",
       "1     5.682312             duration\n",
       "2     1.104207                  age\n",
       "3     1.162895               income\n",
       "4     1.048356      membership_time\n",
       "5    18.510670               reward\n",
       "6          inf           offer_bogo\n",
       "7          inf       offer_discount\n",
       "8          inf  offer_informational\n",
       "9     0.000000        channel_email\n",
       "10    4.505428       channel_mobile\n",
       "11    1.676120       channel_social\n",
       "12    2.140177          channel_web\n",
       "13         inf        gender_female\n",
       "14         inf          gender_male\n",
       "15         inf         gender_other\n",
       "16    1.614941              outcome"
      ]
     },
     "execution_count": 232,
     "metadata": {},
     "output_type": "execute_result"
    }
   ],
   "source": [
    "vif"
   ]
  },
  {
   "cell_type": "markdown",
   "metadata": {},
   "source": [
    "We first remove the one with the highest VIF and calculate the VIFs again."
   ]
  },
  {
   "cell_type": "code",
   "execution_count": 233,
   "metadata": {},
   "outputs": [
    {
     "name": "stderr",
     "output_type": "stream",
     "text": [
      "/Users/mengjialyu/opt/anaconda3/lib/python3.7/site-packages/statsmodels/stats/outliers_influence.py:193: RuntimeWarning: divide by zero encountered in double_scalars\n",
      "  vif = 1. / (1. - r_squared_i)\n",
      "/Users/mengjialyu/opt/anaconda3/lib/python3.7/site-packages/statsmodels/regression/linear_model.py:1685: RuntimeWarning: divide by zero encountered in double_scalars\n",
      "  return 1 - self.ssr/self.centered_tss\n"
     ]
    }
   ],
   "source": [
    "temp_df = portfolio_combined_6.drop('difficulty', axis=1)\n",
    "temp_vif = pd.DataFrame()\n",
    "\n",
    "temp_vif[\"VIF Factor\"] = [variance_inflation_factor(temp_df.values, i) for i in range(temp_df.shape[1])]\n",
    "\n",
    "temp_vif[\"features\"] = temp_df.columns"
   ]
  },
  {
   "cell_type": "code",
   "execution_count": 234,
   "metadata": {},
   "outputs": [
    {
     "data": {
      "text/html": [
       "<div>\n",
       "<style scoped>\n",
       "    .dataframe tbody tr th:only-of-type {\n",
       "        vertical-align: middle;\n",
       "    }\n",
       "\n",
       "    .dataframe tbody tr th {\n",
       "        vertical-align: top;\n",
       "    }\n",
       "\n",
       "    .dataframe thead th {\n",
       "        text-align: right;\n",
       "    }\n",
       "</style>\n",
       "<table border=\"1\" class=\"dataframe\">\n",
       "  <thead>\n",
       "    <tr style=\"text-align: right;\">\n",
       "      <th></th>\n",
       "      <th>VIF Factor</th>\n",
       "      <th>features</th>\n",
       "    </tr>\n",
       "  </thead>\n",
       "  <tbody>\n",
       "    <tr>\n",
       "      <th>0</th>\n",
       "      <td>4.452389</td>\n",
       "      <td>duration</td>\n",
       "    </tr>\n",
       "    <tr>\n",
       "      <th>1</th>\n",
       "      <td>1.104203</td>\n",
       "      <td>age</td>\n",
       "    </tr>\n",
       "    <tr>\n",
       "      <th>2</th>\n",
       "      <td>1.162766</td>\n",
       "      <td>income</td>\n",
       "    </tr>\n",
       "    <tr>\n",
       "      <th>3</th>\n",
       "      <td>1.048120</td>\n",
       "      <td>membership_time</td>\n",
       "    </tr>\n",
       "    <tr>\n",
       "      <th>4</th>\n",
       "      <td>5.953971</td>\n",
       "      <td>reward</td>\n",
       "    </tr>\n",
       "    <tr>\n",
       "      <th>5</th>\n",
       "      <td>inf</td>\n",
       "      <td>offer_bogo</td>\n",
       "    </tr>\n",
       "    <tr>\n",
       "      <th>6</th>\n",
       "      <td>inf</td>\n",
       "      <td>offer_discount</td>\n",
       "    </tr>\n",
       "    <tr>\n",
       "      <th>7</th>\n",
       "      <td>inf</td>\n",
       "      <td>offer_informational</td>\n",
       "    </tr>\n",
       "    <tr>\n",
       "      <th>8</th>\n",
       "      <td>0.000000</td>\n",
       "      <td>channel_email</td>\n",
       "    </tr>\n",
       "    <tr>\n",
       "      <th>9</th>\n",
       "      <td>1.611533</td>\n",
       "      <td>channel_mobile</td>\n",
       "    </tr>\n",
       "    <tr>\n",
       "      <th>10</th>\n",
       "      <td>1.623534</td>\n",
       "      <td>channel_social</td>\n",
       "    </tr>\n",
       "    <tr>\n",
       "      <th>11</th>\n",
       "      <td>2.139453</td>\n",
       "      <td>channel_web</td>\n",
       "    </tr>\n",
       "    <tr>\n",
       "      <th>12</th>\n",
       "      <td>inf</td>\n",
       "      <td>gender_female</td>\n",
       "    </tr>\n",
       "    <tr>\n",
       "      <th>13</th>\n",
       "      <td>inf</td>\n",
       "      <td>gender_male</td>\n",
       "    </tr>\n",
       "    <tr>\n",
       "      <th>14</th>\n",
       "      <td>inf</td>\n",
       "      <td>gender_other</td>\n",
       "    </tr>\n",
       "    <tr>\n",
       "      <th>15</th>\n",
       "      <td>1.611666</td>\n",
       "      <td>outcome</td>\n",
       "    </tr>\n",
       "  </tbody>\n",
       "</table>\n",
       "</div>"
      ],
      "text/plain": [
       "    VIF Factor             features\n",
       "0     4.452389             duration\n",
       "1     1.104203                  age\n",
       "2     1.162766               income\n",
       "3     1.048120      membership_time\n",
       "4     5.953971               reward\n",
       "5          inf           offer_bogo\n",
       "6          inf       offer_discount\n",
       "7          inf  offer_informational\n",
       "8     0.000000        channel_email\n",
       "9     1.611533       channel_mobile\n",
       "10    1.623534       channel_social\n",
       "11    2.139453          channel_web\n",
       "12         inf        gender_female\n",
       "13         inf          gender_male\n",
       "14         inf         gender_other\n",
       "15    1.611666              outcome"
      ]
     },
     "execution_count": 234,
     "metadata": {},
     "output_type": "execute_result"
    }
   ],
   "source": [
    "temp_vif"
   ]
  },
  {
   "cell_type": "markdown",
   "metadata": {},
   "source": [
    "After removing the `difficulty`, VIF for `reward` is brought down significantly and most other continuous variables have a VIF closed to the desired value 1.  "
   ]
  },
  {
   "cell_type": "code",
   "execution_count": 235,
   "metadata": {},
   "outputs": [],
   "source": [
    "# officially drop the difficulty variable\n",
    "portfolio_combined_6 = portfolio_combined_6.drop('difficulty', axis=1)"
   ]
  },
  {
   "cell_type": "markdown",
   "metadata": {},
   "source": [
    "We would also want to check if the dataset if imbalanced."
   ]
  },
  {
   "cell_type": "code",
   "execution_count": 236,
   "metadata": {},
   "outputs": [
    {
     "data": {
      "text/plain": [
       "1    23497\n",
       "0    18989\n",
       "Name: outcome, dtype: int64"
      ]
     },
     "execution_count": 236,
     "metadata": {},
     "output_type": "execute_result"
    }
   ],
   "source": [
    "portfolio_combined_6.outcome.value_counts()"
   ]
  },
  {
   "cell_type": "markdown",
   "metadata": {},
   "source": [
    "There is 44.69% percent of cases belonging to one class and 55.3% for the other. Therefore we can conclude that it is not an imbalanced dataset."
   ]
  },
  {
   "cell_type": "markdown",
   "metadata": {},
   "source": [
    "### Feature Scaling/Data Normalization\n",
    "Performing feature scaling can improve numerical stability and resolution and reduce training time.(https://towardsdatascience.com/understand-data-normalization-in-machine-learning-8ff3062101f0,https://machinelearningmastery.com/data-preparation-techniques-for-machine-learning/)\n",
    "Also, some machine learning algorithms are sensitive to feature scaling.(https://www.analyticsvidhya.com/blog/2020/04/feature-scaling-machine-learning-normalization-standardization/)\n",
    "Since our data does not follow a Gaussian distribution, we use normalization here rather than standardization."
   ]
  },
  {
   "cell_type": "code",
   "execution_count": 237,
   "metadata": {},
   "outputs": [],
   "source": [
    "# data normalization with sklearn\n",
    "from sklearn.preprocessing import MinMaxScaler\n",
    "\n",
    "X = portfolio_combined_6.iloc[:,:-1]\n",
    "y = portfolio_combined_6.iloc[:,-1]\n",
    "# fit scaler on training data\n",
    "norm = MinMaxScaler().fit(X)\n",
    "\n",
    "\n",
    "# transform training data\n",
    "X_norm = norm.transform(X)\n",
    "train_df = pd.DataFrame(X_norm, index=X.index, columns=X.columns)\n",
    "train_df['outcome'] = y\n",
    "# transform testing dataabs\n",
    "#X_test_norm = norm.transform(X_test)"
   ]
  },
  {
   "cell_type": "code",
   "execution_count": 238,
   "metadata": {},
   "outputs": [],
   "source": [
    "# spliting training and testing data\n",
    "from sklearn.model_selection import train_test_split\n",
    "\n",
    "\n",
    "X_train, X_test, y_train, y_test = train_test_split(X_norm,y,test_size=0.2,random_state=42)"
   ]
  },
  {
   "cell_type": "code",
   "execution_count": 239,
   "metadata": {},
   "outputs": [
    {
     "name": "stdout",
     "output_type": "stream",
     "text": [
      "<class 'pandas.core.series.Series'>\n"
     ]
    }
   ],
   "source": [
    "print(type(y))"
   ]
  },
  {
   "cell_type": "markdown",
   "metadata": {},
   "source": [
    "## Modeling and Algorithms"
   ]
  },
  {
   "cell_type": "markdown",
   "metadata": {},
   "source": [
    "### 1.Benchmark Model - Naive Bayes Classifier"
   ]
  },
  {
   "cell_type": "code",
   "execution_count": 240,
   "metadata": {},
   "outputs": [
    {
     "name": "stdout",
     "output_type": "stream",
     "text": [
      "              precision    recall  f1-score   support\n",
      "\n",
      "           0       1.00      0.42      0.59      3741\n",
      "           1       0.69      1.00      0.81      4757\n",
      "\n",
      "    accuracy                           0.74      8498\n",
      "   macro avg       0.84      0.71      0.70      8498\n",
      "weighted avg       0.82      0.74      0.71      8498\n",
      "\n",
      "[[1560 2181]\n",
      " [   0 4757]]\n",
      "accuracy is 0.7433513767945399\n"
     ]
    }
   ],
   "source": [
    "from sklearn.metrics import confusion_matrix\n",
    "from sklearn.metrics import classification_report\n",
    "from sklearn.metrics import precision_score\n",
    "from sklearn.metrics import recall_score\n",
    "from sklearn.metrics import roc_auc_score\n",
    "from sklearn.naive_bayes import GaussianNB\n",
    "nb_clf = GaussianNB()\n",
    "nb_clf.fit(X_train, y_train)\n",
    " \n",
    "y_pred = nb_clf.predict(X_test)\n",
    " \n",
    "# Summary of the predictions made by the classifier\n",
    "print(classification_report(y_test, y_pred))\n",
    "print(confusion_matrix(y_test, y_pred))\n",
    "# Accuracy score\n",
    "from sklearn.metrics import accuracy_score\n",
    "print('accuracy is',accuracy_score(y_pred,y_test))"
   ]
  },
  {
   "cell_type": "markdown",
   "metadata": {},
   "source": [
    "For the benchmark model using Gaussian Naive Bayes, we obtain the accuracy score of 74.33%. Not too bad! We will see how we can boost our accuracy score using more sophisticated models."
   ]
  },
  {
   "cell_type": "code",
   "execution_count": 241,
   "metadata": {},
   "outputs": [
    {
     "name": "stdout",
     "output_type": "stream",
     "text": [
      "AUC ROC: 0.7085004009623095\n"
     ]
    }
   ],
   "source": [
    "\n",
    "\n",
    "print(\"AUC ROC:\", roc_auc_score(y_test, y_pred))"
   ]
  },
  {
   "cell_type": "markdown",
   "metadata": {},
   "source": [
    "The AUC indicates the probability that the Naive Bayes model ranks a random  example more highly than a random negative example is 70.85%."
   ]
  },
  {
   "cell_type": "markdown",
   "metadata": {},
   "source": [
    "### 2.Decision Tree Model "
   ]
  },
  {
   "cell_type": "code",
   "execution_count": 242,
   "metadata": {},
   "outputs": [],
   "source": [
    "X_train, X_test, y_train, y_test = train_test_split(X_norm,y,test_size=0.2,random_state=42)"
   ]
  },
  {
   "cell_type": "code",
   "execution_count": 243,
   "metadata": {},
   "outputs": [
    {
     "name": "stdout",
     "output_type": "stream",
     "text": [
      "              precision    recall  f1-score   support\n",
      "\n",
      "           0       0.71      0.73      0.72      3741\n",
      "           1       0.78      0.77      0.77      4757\n",
      "\n",
      "    accuracy                           0.75      8498\n",
      "   macro avg       0.75      0.75      0.75      8498\n",
      "weighted avg       0.75      0.75      0.75      8498\n",
      "\n",
      "[[2721 1020]\n",
      " [1117 3640]]\n",
      "Accuracy: 0.7485290656625089\n"
     ]
    }
   ],
   "source": [
    "from sklearn.tree import DecisionTreeClassifier # Import Decision Tree Classifier\n",
    "# Create Decision Tree classifer object\n",
    "dt_clf = DecisionTreeClassifier(random_state=42)\n",
    "\n",
    "# Train Decision Tree Classifer\n",
    "dt_clf = dt_clf.fit(X_train,y_train)\n",
    "\n",
    "#Predict the response for test dataset\n",
    "y_pred = dt_clf.predict(X_test)\n",
    "# Summary of the predictions made by the classifier\n",
    "print(classification_report(y_test, y_pred))\n",
    "print(confusion_matrix(y_test, y_pred))\n",
    "# Model Accuracy, how often is the classifier correct?\n",
    "print(\"Accuracy:\", accuracy_score(y_test, y_pred))\n"
   ]
  },
  {
   "cell_type": "markdown",
   "metadata": {},
   "source": [
    "We got an accuracy rate of 74.8%, slightly better than the Naive Bayes Classifier model. We may further improve this accuracy by tuning the parameters in the model, but let's first look at other models."
   ]
  },
  {
   "cell_type": "code",
   "execution_count": 244,
   "metadata": {},
   "outputs": [
    {
     "name": "stdout",
     "output_type": "stream",
     "text": [
      "AUC ROC: 0.7462668866494638\n"
     ]
    }
   ],
   "source": [
    "\n",
    "print(\"AUC ROC:\", roc_auc_score(y_test, y_pred))"
   ]
  },
  {
   "cell_type": "markdown",
   "metadata": {},
   "source": [
    "The probability that the Naive Bayes model ranks a random positive instance more highly than a random negative instance is 74.6%."
   ]
  },
  {
   "cell_type": "markdown",
   "metadata": {},
   "source": [
    "### Support Vector Machine Model"
   ]
  },
  {
   "cell_type": "code",
   "execution_count": 245,
   "metadata": {},
   "outputs": [],
   "source": [
    "X_train, X_test, y_train, y_test = train_test_split(X_norm,y,test_size=0.2,random_state=42)"
   ]
  },
  {
   "cell_type": "code",
   "execution_count": 246,
   "metadata": {},
   "outputs": [
    {
     "name": "stdout",
     "output_type": "stream",
     "text": [
      "              precision    recall  f1-score   support\n",
      "\n",
      "           0       0.86      0.59      0.70      3741\n",
      "           1       0.74      0.92      0.82      4757\n",
      "\n",
      "    accuracy                           0.78      8498\n",
      "   macro avg       0.80      0.75      0.76      8498\n",
      "weighted avg       0.79      0.78      0.77      8498\n",
      "\n",
      "[[2194 1547]\n",
      " [ 364 4393]]\n",
      "Accuracy: 0.7751235584843492\n"
     ]
    }
   ],
   "source": [
    "#Import svm model\n",
    "from sklearn import svm\n",
    "\n",
    "#Create a svm Classifier\n",
    "svm_clf = svm.SVC(kernel='linear') # Linear Kernel\n",
    "\n",
    "#Train the model using the training sets\n",
    "svm_clf.fit(X_train, y_train)\n",
    "\n",
    "#Predict the response for test dataset\n",
    "y_pred = svm_clf.predict(X_test)\n",
    "\n",
    "# Summary of the predictions made by the classifier\n",
    "print(classification_report(y_test, y_pred))\n",
    "print(confusion_matrix(y_test, y_pred))\n",
    "\n",
    "# Model Accuracy: how often is the classifier correct?\n",
    "print(\"Accuracy:\",accuracy_score(y_test, y_pred))"
   ]
  },
  {
   "cell_type": "markdown",
   "metadata": {},
   "source": [
    "The accuracy of the SVM model is 77.51%, slightly better than the decision tree model. "
   ]
  },
  {
   "cell_type": "code",
   "execution_count": 247,
   "metadata": {},
   "outputs": [
    {
     "name": "stdout",
     "output_type": "stream",
     "text": [
      "AUC ROC: 0.7549776951896379\n"
     ]
    }
   ],
   "source": [
    "\n",
    "print(\"AUC ROC:\", roc_auc_score(y_test, y_pred))"
   ]
  },
  {
   "cell_type": "markdown",
   "metadata": {},
   "source": [
    "The probability that the Decision Tree model ranks a random positive instance more highly than a random negative instance is 75.5%, which is similar to the AUC of the Naive Bayes classifier."
   ]
  },
  {
   "cell_type": "markdown",
   "metadata": {},
   "source": [
    "### Random Forest Model"
   ]
  },
  {
   "cell_type": "code",
   "execution_count": 248,
   "metadata": {},
   "outputs": [],
   "source": [
    "X_train, X_test, y_train, y_test = train_test_split(X_norm,y,test_size=0.2,random_state=42)"
   ]
  },
  {
   "cell_type": "code",
   "execution_count": 249,
   "metadata": {},
   "outputs": [
    {
     "name": "stdout",
     "output_type": "stream",
     "text": [
      "[[2691 1050]\n",
      " [ 879 3878]]\n",
      "              precision    recall  f1-score   support\n",
      "\n",
      "           0       0.75      0.72      0.74      3741\n",
      "           1       0.79      0.82      0.80      4757\n",
      "\n",
      "    accuracy                           0.77      8498\n",
      "   macro avg       0.77      0.77      0.77      8498\n",
      "weighted avg       0.77      0.77      0.77      8498\n",
      "\n",
      "accuracy is 0.773005413038362\n"
     ]
    }
   ],
   "source": [
    "from sklearn.ensemble import RandomForestClassifier\n",
    "\n",
    "rf_clf = RandomForestClassifier(n_estimators=20, random_state=42)\n",
    "rf_clf.fit(X_train, y_train)\n",
    "y_pred = rf_clf.predict(X_test)\n",
    "\n",
    "print(confusion_matrix(y_test,y_pred))\n",
    "print(classification_report(y_test,y_pred))\n",
    "print('accuracy is',accuracy_score(y_pred,y_test))"
   ]
  },
  {
   "cell_type": "markdown",
   "metadata": {},
   "source": [
    "The accuracy of the Random Forest model is 77.4%, almost the same as the Support Vector Machine model."
   ]
  },
  {
   "cell_type": "code",
   "execution_count": 250,
   "metadata": {},
   "outputs": [
    {
     "name": "stdout",
     "output_type": "stream",
     "text": [
      "AUC ROC: 0.7672730297932613\n"
     ]
    }
   ],
   "source": [
    "\n",
    "print(\"AUC ROC:\", roc_auc_score(y_test, y_pred))"
   ]
  },
  {
   "cell_type": "markdown",
   "metadata": {},
   "source": [
    "The probability that the Decision Tree model ranks a random positive instance more highly than a random negative instance is 76.83%, which is similar to the AUC of the Naive Bayes classifier."
   ]
  },
  {
   "cell_type": "markdown",
   "metadata": {},
   "source": [
    "### AdaBoost (Adaptive Boosting)"
   ]
  },
  {
   "cell_type": "code",
   "execution_count": 251,
   "metadata": {},
   "outputs": [],
   "source": [
    "X_train, X_test, y_train, y_test = train_test_split(X_norm,y,test_size=0.2,random_state=42)"
   ]
  },
  {
   "cell_type": "code",
   "execution_count": 252,
   "metadata": {},
   "outputs": [
    {
     "name": "stdout",
     "output_type": "stream",
     "text": [
      "[[2224 1517]\n",
      " [ 374 4383]]\n",
      "              precision    recall  f1-score   support\n",
      "\n",
      "           0       0.86      0.59      0.70      3741\n",
      "           1       0.74      0.92      0.82      4757\n",
      "\n",
      "    accuracy                           0.78      8498\n",
      "   macro avg       0.80      0.76      0.76      8498\n",
      "weighted avg       0.79      0.78      0.77      8498\n",
      "\n",
      "accuracy is 0.7774770534243352\n"
     ]
    }
   ],
   "source": [
    "# Load libraries\n",
    "from sklearn.ensemble import AdaBoostClassifier\n",
    "\n",
    "# Create adaboost classifer object\n",
    "ab_clf = AdaBoostClassifier(n_estimators=50,\n",
    "                         learning_rate=0.1,\n",
    "                           random_state=42)\n",
    "# Train Adaboost Classifer\n",
    "ab_clf.fit(X_train, y_train)\n",
    "\n",
    "#Predict the response for test dataset\n",
    "y_pred = ab_clf.predict(X_test)\n",
    "\n",
    "\n",
    "print(confusion_matrix(y_test,y_pred))\n",
    "print(classification_report(y_test,y_pred))\n",
    "print('accuracy is',accuracy_score(y_pred,y_test))"
   ]
  },
  {
   "cell_type": "markdown",
   "metadata": {},
   "source": [
    "The accuracy of the AdaBoost model is 77.75%, almost the same as the Random Forest/Support Vector Machine model."
   ]
  },
  {
   "cell_type": "code",
   "execution_count": 253,
   "metadata": {},
   "outputs": [
    {
     "name": "stdout",
     "output_type": "stream",
     "text": [
      "AUC ROC: 0.7579362356699734\n"
     ]
    }
   ],
   "source": [
    "print(\"AUC ROC:\", roc_auc_score(y_test, y_pred))"
   ]
  },
  {
   "cell_type": "markdown",
   "metadata": {},
   "source": [
    "The probability that the AdaBoost model ranks a random positive instance more highly than a random negative instance is 75.8%, which is similar to the AUC of the Naive Bayes classifier."
   ]
  },
  {
   "cell_type": "markdown",
   "metadata": {},
   "source": [
    "### Neural Networks"
   ]
  },
  {
   "cell_type": "code",
   "execution_count": 254,
   "metadata": {},
   "outputs": [],
   "source": [
    "X_train, X_test, y_train, y_test = train_test_split(X_norm,y,test_size=0.2,random_state=42)"
   ]
  },
  {
   "cell_type": "code",
   "execution_count": 255,
   "metadata": {},
   "outputs": [
    {
     "name": "stdout",
     "output_type": "stream",
     "text": [
      "[[2562 1179]\n",
      " [ 598 4159]]\n",
      "              precision    recall  f1-score   support\n",
      "\n",
      "           0       0.81      0.68      0.74      3741\n",
      "           1       0.78      0.87      0.82      4757\n",
      "\n",
      "    accuracy                           0.79      8498\n",
      "   macro avg       0.79      0.78      0.78      8498\n",
      "weighted avg       0.79      0.79      0.79      8498\n",
      "\n",
      "accuracy is 0.7908919745822547\n"
     ]
    }
   ],
   "source": [
    "\n",
    "from sklearn.neural_network import MLPClassifier\n",
    "\n",
    "# use 2 hidden layers with 5 and 2 neurons each\n",
    "mlp_clf = MLPClassifier(solver='adam', alpha=1e-5, hidden_layer_sizes=(5, 2), random_state=42)\n",
    "mlp_clf.fit(X_train, y_train)\n",
    "y_pred = mlp_clf.predict(X_test)\n",
    "\n",
    "\n",
    "\n",
    "print(confusion_matrix(y_test,y_pred))\n",
    "print(classification_report(y_test,y_pred))\n",
    "print('accuracy is',accuracy_score(y_pred,y_test))"
   ]
  },
  {
   "cell_type": "markdown",
   "metadata": {},
   "source": [
    "The accuracy of the Random Forest model is 78.77%, slightly better than the models above."
   ]
  },
  {
   "cell_type": "code",
   "execution_count": 256,
   "metadata": {},
   "outputs": [
    {
     "name": "stdout",
     "output_type": "stream",
     "text": [
      "AUC ROC: 0.7795670719670451\n"
     ]
    }
   ],
   "source": [
    "print(\"AUC ROC:\", roc_auc_score(y_test, y_pred))"
   ]
  },
  {
   "cell_type": "markdown",
   "metadata": {},
   "source": [
    "The probability that the Neural Network model ranks a random positive instance more highly than a random negative instance is 78%, which is also better than the aforementioned classifiers."
   ]
  },
  {
   "cell_type": "markdown",
   "metadata": {},
   "source": [
    "### XGBoost (eXtreme Gradient Boosting)"
   ]
  },
  {
   "cell_type": "code",
   "execution_count": 257,
   "metadata": {},
   "outputs": [],
   "source": [
    "X_train, X_test, y_train, y_test = train_test_split(X_norm,y,test_size=0.2,random_state=42)"
   ]
  },
  {
   "cell_type": "code",
   "execution_count": 258,
   "metadata": {},
   "outputs": [
    {
     "name": "stdout",
     "output_type": "stream",
     "text": [
      "Requirement already satisfied: xgboost in ./opt/anaconda3/lib/python3.7/site-packages (1.1.1)\n",
      "Requirement already satisfied: scipy in ./opt/anaconda3/lib/python3.7/site-packages (from xgboost) (1.4.1)\n",
      "Requirement already satisfied: numpy in ./opt/anaconda3/lib/python3.7/site-packages (from xgboost) (1.18.1)\n"
     ]
    }
   ],
   "source": [
    "import sys\n",
    "!{sys.executable} -m pip install xgboost"
   ]
  },
  {
   "cell_type": "code",
   "execution_count": 259,
   "metadata": {
    "scrolled": true
   },
   "outputs": [
    {
     "name": "stdout",
     "output_type": "stream",
     "text": [
      "[[2679 1062]\n",
      " [ 600 4157]]\n",
      "              precision    recall  f1-score   support\n",
      "\n",
      "           0       0.82      0.72      0.76      3741\n",
      "           1       0.80      0.87      0.83      4757\n",
      "\n",
      "    accuracy                           0.80      8498\n",
      "   macro avg       0.81      0.79      0.80      8498\n",
      "weighted avg       0.81      0.80      0.80      8498\n",
      "\n",
      "accuracy is 0.8044245704871734\n"
     ]
    }
   ],
   "source": [
    "import xgboost\n",
    "from xgboost import XGBClassifier\n",
    "#params = {\n",
    "#    \"max_depth\": 5,\n",
    "#    \"objective\": \"binary:logistic\",\n",
    "#    'n_estimators': 1000,\n",
    "#    \"learning_rate\": 0.1,\n",
    "#    \"eval_metric\": \"logloss\"\n",
    "#}\n",
    "\n",
    "#eval_set = [(X_train_norm, y_train), (X_test_norm, y_test)]\n",
    "\n",
    "#model = xgb.train(params, , 3000, eval_set=eval_set, verbose_eval=200)\n",
    "\n",
    "\n",
    "\n",
    "# fit model no training data\n",
    "xgb_clf = XGBClassifier(random_state=42)\n",
    "xgb_clf.fit(X_train, y_train)\n",
    "\n",
    "y_pred = xgb_clf.predict(X_test)\n",
    "\n",
    "print(confusion_matrix(y_test,y_pred))\n",
    "print(classification_report(y_test,y_pred))\n",
    "print('accuracy is',accuracy_score(y_pred,y_test))\n"
   ]
  },
  {
   "cell_type": "markdown",
   "metadata": {},
   "source": [
    "The accuracy for the model is 80.44%, slightly better than all the models above. Its f1-scores also outperforms those of other models."
   ]
  },
  {
   "cell_type": "code",
   "execution_count": 260,
   "metadata": {},
   "outputs": [
    {
     "name": "stdout",
     "output_type": "stream",
     "text": [
      "AUC ROC: 0.7949943855161996\n"
     ]
    }
   ],
   "source": [
    "\n",
    "print(\"AUC ROC:\", roc_auc_score(y_test, y_pred))"
   ]
  },
  {
   "cell_type": "markdown",
   "metadata": {},
   "source": [
    "The probability that the XGBoost model ranks a random positive instance more highly than a random negative instance is 79.5%, which also outperforms all the other models."
   ]
  },
  {
   "cell_type": "markdown",
   "metadata": {},
   "source": []
  },
  {
   "cell_type": "markdown",
   "metadata": {},
   "source": [
    "Hence, we can confidently conclude that XGBoost has the best performance in terms of accuracy and AUC. Therefore we can now use Gridsearch to find the best hyperparameters suited to the model."
   ]
  },
  {
   "cell_type": "markdown",
   "metadata": {},
   "source": [
    "### XGBoost Hyperparameter Tuning"
   ]
  },
  {
   "cell_type": "markdown",
   "metadata": {},
   "source": [
    "Using Gridsearch and the ROC-AUC metrics which measures the percentage of correct predictions, we can find out the best hyperparameters by comparing the results of 10-fold cross-validation https://www.mikulskibartosz.name/xgboost-hyperparameter-tuning-in-python-using-grid-search/ "
   ]
  },
  {
   "cell_type": "markdown",
   "metadata": {},
   "source": [
    "#### Step 1: Fix learning rate and number of estimators for tuning tree-based parameters"
   ]
  },
  {
   "cell_type": "code",
   "execution_count": 261,
   "metadata": {},
   "outputs": [],
   "source": [
    "import matplotlib.pylab as plt\n",
    "%matplotlib inline\n",
    "from matplotlib.pylab import rcParams\n",
    "import xgboost as xgb\n",
    "rcParams['figure.figsize'] = 12, 4\n",
    "\n",
    "msk = np.random.rand(len(train_df)) < 0.8\n",
    "train = train_df[msk]\n",
    "#test = df[~msk]\n",
    "\n",
    "#train = pd.DataFrame(data=X_train,    # values\n",
    " #       columns=(portfolio_combined_6.drop('outcome',axis=1).columns))  # 1st row as the column names\n",
    "target = 'outcome'\n"
   ]
  },
  {
   "cell_type": "code",
   "execution_count": 262,
   "metadata": {},
   "outputs": [],
   "source": [
    "def modelfit(alg, dtrain, predictors,useTrainCV=True, cv_folds=5, early_stopping_rounds=50):\n",
    "    \n",
    "    if useTrainCV:\n",
    "        xgb_param = alg.get_xgb_params()\n",
    "        xgtrain = xgb.DMatrix(dtrain[predictors].values, label=dtrain[target].values)\n",
    "        cvresult = xgb.cv(xgb_param, xgtrain, num_boost_round=alg.get_params()['n_estimators'], nfold=cv_folds,\n",
    "            metrics='auc', early_stopping_rounds=early_stopping_rounds, verbose_eval=False)\n",
    "        alg.set_params(n_estimators=cvresult.shape[0])\n",
    "    \n",
    "    #Fit the algorithm on the data\n",
    "    alg.fit(dtrain[predictors], dtrain['outcome'],eval_metric='auc')\n",
    "        \n",
    "    #Predict training set:\n",
    "    dtrain_predictions = alg.predict(dtrain[predictors])\n",
    "    dtrain_predprob = alg.predict_proba(dtrain[predictors])[:,1]\n",
    "        \n",
    "    #Print model report:\n",
    "    print (\"\\nModel Report\")\n",
    "    print (\"Accuracy : %.4g\" % accuracy_score(dtrain['outcome'].values, dtrain_predictions))\n",
    "    print (\"AUC Score (Train): %f\" % roc_auc_score(dtrain['outcome'], dtrain_predprob))\n",
    "                    \n",
    "    feat_imp = pd.Series(alg.get_booster().get_fscore()).sort_values(ascending=False)\n",
    "    feat_imp.plot(kind='bar', title='Feature Importances')\n",
    "    plt.ylabel('Feature Importance Score')"
   ]
  },
  {
   "cell_type": "code",
   "execution_count": 263,
   "metadata": {
    "scrolled": false
   },
   "outputs": [
    {
     "name": "stdout",
     "output_type": "stream",
     "text": [
      "\n",
      "Model Report\n",
      "Accuracy : 0.8354\n",
      "AUC Score (Train): 0.917060\n"
     ]
    },
    {
     "data": {
      "image/png": "[encoded data removed]",
      "text/plain": [
       "<Figure size 864x288 with 1 Axes>"
      ]
     },
     "metadata": {
      "needs_background": "light"
     },
     "output_type": "display_data"
    }
   ],
   "source": [
    "#Choose all predictors except target & IDcols\n",
    "predictors = [x for x in train.columns if x not in target]\n",
    "# summary of initial params\n",
    "#params = {\n",
    "    # Parameters that we are going to tune.\n",
    " #   'max_depth':5,\n",
    "  #  'min_child_weight': 1,\n",
    "   # 'gamma': 0,\n",
    "    #'eta':.3,\n",
    "    #'subsample': 0.8,\n",
    "    #'colsample_bytree': 0.8,\n",
    "    # Other parameters\n",
    "    #'objective':'binary:logistic',\n",
    "    #'nthread': 4,\n",
    "    #'scale_pos_weight': 1,\n",
    "    #'seed': 27\n",
    "#}\n",
    "xgb1 = XGBClassifier(\n",
    " learning_rate =0.1,\n",
    " n_estimators=1000,\n",
    " max_depth=5,\n",
    " min_child_weight=1,\n",
    " gamma=0,\n",
    " subsample=0.8,\n",
    " colsample_bytree=0.8,\n",
    " objective= 'binary:logistic',\n",
    " nthread=4,\n",
    " scale_pos_weight=1,\n",
    " seed=27)\n",
    "modelfit(xgb1, train, predictors)"
   ]
  },
  {
   "cell_type": "markdown",
   "metadata": {},
   "source": [
    "We can see that now we get an accuracy score of 83.35% and the AUC score for our training dataset is 91.75%."
   ]
  },
  {
   "cell_type": "markdown",
   "metadata": {},
   "source": [
    "For our model the feature with the highest featuer importance is `membership_time`. It makes sense as the longer a customer has been a member, the more used to he or she is to shopping through the app and utilizing online offers."
   ]
  },
  {
   "cell_type": "markdown",
   "metadata": {},
   "source": [
    "#### Step 2: Tune Hyperparameters - `max_depth` and `min_child_weight`"
   ]
  },
  {
   "cell_type": "markdown",
   "metadata": {},
   "source": [
    "For XGBoost models, `max_depth` and `min_child_weight` are the two most important hyperparameters\n",
    "\n",
    "`max_depth` is the maximum number of nodes allowed from the root to the farthest leaf of a tree. Deeper trees can model more complex relationships by adding more nodes, but as we go deeper, splits become less relevant and are sometimes only due to noise, causing the model to overfit.\n",
    "\n",
    "`min_child_weight` is the minimum weight (or number of samples if all samples have a weight of 1) required in order to create a new node in the tree. A smaller `min_child_weight` allows the algorithm to create children that correspond to fewer samples, thus allowing for more complex trees, but again, more likely to overfit. tune them together in order to find a good trade-off between model bias and variance"
   ]
  },
  {
   "cell_type": "code",
   "execution_count": 264,
   "metadata": {},
   "outputs": [],
   "source": [
    "from sklearn.model_selection import GridSearchCV\n",
    "param_test1 = {\n",
    " 'max_depth':range(3,10,2),\n",
    " 'min_child_weight':range(1,6,2)\n",
    "}\n",
    "gsearch1 = GridSearchCV(estimator = XGBClassifier( learning_rate =0.1, n_estimators=140, max_depth=5,\n",
    " min_child_weight=1, gamma=0, subsample=0.8, colsample_bytree=0.8,\n",
    " objective= 'binary:logistic', nthread=4, scale_pos_weight=1, seed=27), \n",
    " param_grid = param_test1, scoring='roc_auc',n_jobs=4,iid=False, cv=10)\n",
    "\n"
   ]
  },
  {
   "cell_type": "code",
   "execution_count": 265,
   "metadata": {},
   "outputs": [
    {
     "name": "stderr",
     "output_type": "stream",
     "text": [
      "/Users/mengjialyu/opt/anaconda3/lib/python3.7/site-packages/sklearn/model_selection/_search.py:825: FutureWarning: The parameter 'iid' is deprecated in 0.22 and will be removed in 0.24.\n",
      "  \"removed in 0.24.\", FutureWarning\n"
     ]
    },
    {
     "data": {
      "text/plain": [
       "GridSearchCV(cv=10, error_score=nan,\n",
       "             estimator=XGBClassifier(base_score=None, booster=None,\n",
       "                                     colsample_bylevel=None,\n",
       "                                     colsample_bynode=None,\n",
       "                                     colsample_bytree=0.8, gamma=0, gpu_id=None,\n",
       "                                     importance_type='gain',\n",
       "                                     interaction_constraints=None,\n",
       "                                     learning_rate=0.1, max_delta_step=None,\n",
       "                                     max_depth=5, min_child_weight=1,\n",
       "                                     missing=nan, monotone_constraints=None,\n",
       "                                     n_estimators=140,...\n",
       "                                     objective='binary:logistic',\n",
       "                                     random_state=None, reg_alpha=None,\n",
       "                                     reg_lambda=None, scale_pos_weight=1,\n",
       "                                     seed=27, subsample=0.8, tree_method=None,\n",
       "                                     validate_parameters=None, verbosity=None),\n",
       "             iid=False, n_jobs=4,\n",
       "             param_grid={'max_depth': range(3, 10, 2),\n",
       "                         'min_child_weight': range(1, 6, 2)},\n",
       "             pre_dispatch='2*n_jobs', refit=True, return_train_score=False,\n",
       "             scoring='roc_auc', verbose=0)"
      ]
     },
     "execution_count": 265,
     "metadata": {},
     "output_type": "execute_result"
    }
   ],
   "source": [
    "gsearch1.fit(train[predictors],train[target])\n"
   ]
  },
  {
   "cell_type": "code",
   "execution_count": 266,
   "metadata": {},
   "outputs": [
    {
     "data": {
      "text/plain": [
       "({'mean_fit_time': array([1.41861434, 1.53352516, 1.62396865, 2.44018505, 2.42791066,\n",
       "         2.41221335, 3.28471849, 3.31007245, 3.30685241, 4.20580359,\n",
       "         4.06530228, 3.86465251]),\n",
       "  'std_fit_time': array([0.03101416, 0.0715388 , 0.0300297 , 0.04206637, 0.02213996,\n",
       "         0.03725758, 0.03502711, 0.04750275, 0.05145749, 0.03919107,\n",
       "         0.03809086, 0.33912487]),\n",
       "  'mean_score_time': array([0.00894082, 0.00998933, 0.01026642, 0.01230636, 0.01258645,\n",
       "         0.01288133, 0.01646132, 0.01643486, 0.01614542, 0.02043645,\n",
       "         0.02061973, 0.01931067]),\n",
       "  'std_score_time': array([0.0004005 , 0.00067395, 0.00057186, 0.00035422, 0.00065874,\n",
       "         0.000562  , 0.00054947, 0.00110401, 0.00049075, 0.00050731,\n",
       "         0.00079164, 0.00215786]),\n",
       "  'param_max_depth': masked_array(data=[3, 3, 3, 5, 5, 5, 7, 7, 7, 9, 9, 9],\n",
       "               mask=[False, False, False, False, False, False, False, False,\n",
       "                     False, False, False, False],\n",
       "         fill_value='?',\n",
       "              dtype=object),\n",
       "  'param_min_child_weight': masked_array(data=[1, 3, 5, 1, 3, 5, 1, 3, 5, 1, 3, 5],\n",
       "               mask=[False, False, False, False, False, False, False, False,\n",
       "                     False, False, False, False],\n",
       "         fill_value='?',\n",
       "              dtype=object),\n",
       "  'params': [{'max_depth': 3, 'min_child_weight': 1},\n",
       "   {'max_depth': 3, 'min_child_weight': 3},\n",
       "   {'max_depth': 3, 'min_child_weight': 5},\n",
       "   {'max_depth': 5, 'min_child_weight': 1},\n",
       "   {'max_depth': 5, 'min_child_weight': 3},\n",
       "   {'max_depth': 5, 'min_child_weight': 5},\n",
       "   {'max_depth': 7, 'min_child_weight': 1},\n",
       "   {'max_depth': 7, 'min_child_weight': 3},\n",
       "   {'max_depth': 7, 'min_child_weight': 5},\n",
       "   {'max_depth': 9, 'min_child_weight': 1},\n",
       "   {'max_depth': 9, 'min_child_weight': 3},\n",
       "   {'max_depth': 9, 'min_child_weight': 5}],\n",
       "  'split0_test_score': array([0.80694105, 0.80668775, 0.80758607, 0.81876046, 0.81800367,\n",
       "         0.81957243, 0.82092479, 0.82092462, 0.82045561, 0.82143437,\n",
       "         0.82272057, 0.82155362]),\n",
       "  'split1_test_score': array([0.80188014, 0.80230702, 0.80215434, 0.80659478, 0.8068157 ,\n",
       "         0.80713203, 0.80680439, 0.80623858, 0.80710226, 0.80727009,\n",
       "         0.80225653, 0.80250288]),\n",
       "  'split2_test_score': array([0.90408647, 0.90197036, 0.9039465 , 0.90126075, 0.90254626,\n",
       "         0.90157795, 0.90316047, 0.9037059 , 0.90160494, 0.90256176,\n",
       "         0.9006032 , 0.90138906]),\n",
       "  'split3_test_score': array([1.       , 1.       , 1.       , 1.       , 1.       , 1.       ,\n",
       "         1.       , 1.       , 1.       , 1.       , 1.       , 0.9999993]),\n",
       "  'split4_test_score': array([0.32781668, 0.32874486, 0.3293856 , 0.30191939, 0.30194901,\n",
       "         0.30112309, 0.30181731, 0.30058722, 0.30044803, 0.30186643,\n",
       "         0.3007339 , 0.30088773]),\n",
       "  'split5_test_score': array([0.61519368, 0.61331119, 0.61388729, 0.62988572, 0.62496329,\n",
       "         0.6264775 , 0.63485884, 0.63797508, 0.63208614, 0.63708331,\n",
       "         0.63708104, 0.64004642]),\n",
       "  'split6_test_score': array([0.99242124, 0.99238901, 0.99246235, 0.99255016, 0.9926606 ,\n",
       "         0.99262733, 0.99274544, 0.99274213, 0.99220313, 0.99258326,\n",
       "         0.99251148, 0.99280554]),\n",
       "  'split7_test_score': array([1., 1., 1., 1., 1., 1., 1., 1., 1., 1., 1., 1.]),\n",
       "  'split8_test_score': array([0.91945757, 0.91928615, 0.91950879, 0.92079305, 0.92043383,\n",
       "         0.92057947, 0.92123572, 0.92103468, 0.92006225, 0.92147769,\n",
       "         0.92020876, 0.91998995]),\n",
       "  'split9_test_score': array([0.7113075 , 0.70687412, 0.70719183, 0.71789453, 0.71811034,\n",
       "         0.71009848, 0.72051237, 0.72067524, 0.71257401, 0.73056936,\n",
       "         0.7215284 , 0.70967625]),\n",
       "  'mean_test_score': array([0.80791043, 0.80715705, 0.80761228, 0.80896588, 0.80854827,\n",
       "         0.80791883, 0.81020593, 0.81038835, 0.80865364, 0.81148463,\n",
       "         0.80976439, 0.80888508]),\n",
       "  'std_test_score': array([0.20162659, 0.20168913, 0.201579  , 0.20622229, 0.2066825 ,\n",
       "         0.20708456, 0.20584203, 0.20589051, 0.20658923, 0.20519671,\n",
       "         0.20571016, 0.20600704]),\n",
       "  'rank_test_score': array([10, 12, 11,  5,  8,  9,  3,  2,  7,  1,  4,  6], dtype=int32)},\n",
       " {'max_depth': 9, 'min_child_weight': 1},\n",
       " 0.8114846256922098)"
      ]
     },
     "execution_count": 266,
     "metadata": {},
     "output_type": "execute_result"
    }
   ],
   "source": [
    "gsearch1.cv_results_, gsearch1.best_params_, gsearch1.best_score_"
   ]
  },
  {
   "cell_type": "code",
   "execution_count": 267,
   "metadata": {},
   "outputs": [
    {
     "data": {
      "text/plain": [
       "{'max_depth': 9, 'min_child_weight': 1}"
      ]
     },
     "execution_count": 267,
     "metadata": {},
     "output_type": "execute_result"
    }
   ],
   "source": [
    "gsearch1.best_params_"
   ]
  },
  {
   "cell_type": "markdown",
   "metadata": {},
   "source": [
    "The ideal values are 9 for `max_depth` and 1 for `min_child_weight`. Lets go one step deeper and look for optimum values. We’ll search for values 1 above and below the optimum values because we took an interval of two."
   ]
  },
  {
   "cell_type": "code",
   "execution_count": 278,
   "metadata": {},
   "outputs": [
    {
     "name": "stderr",
     "output_type": "stream",
     "text": [
      "/Users/mengjialyu/opt/anaconda3/lib/python3.7/site-packages/sklearn/model_selection/_search.py:825: FutureWarning: The parameter 'iid' is deprecated in 0.22 and will be removed in 0.24.\n",
      "  \"removed in 0.24.\", FutureWarning\n"
     ]
    },
    {
     "data": {
      "text/plain": [
       "({'mean_fit_time': array([3.13983486, 3.34966638, 4.0128135 , 4.25944252, 4.743436  ,\n",
       "         4.70188298, 5.03187139, 5.10534973]),\n",
       "  'std_fit_time': array([0.1664331 , 0.05855103, 0.07415384, 0.15667191, 0.19081199,\n",
       "         0.09169323, 0.07219267, 0.06100007]),\n",
       "  'mean_score_time': array([0.01500361, 0.01636434, 0.02030873, 0.02047899, 0.02450447,\n",
       "         0.02426274, 0.02986701, 0.02739246]),\n",
       "  'std_score_time': array([0.00071114, 0.00125837, 0.00097986, 0.00080533, 0.00092954,\n",
       "         0.00121415, 0.0011672 , 0.00245368]),\n",
       "  'param_max_depth': masked_array(data=[8, 8, 9, 9, 10, 10, 11, 11],\n",
       "               mask=[False, False, False, False, False, False, False, False],\n",
       "         fill_value='?',\n",
       "              dtype=object),\n",
       "  'param_min_child_weight': masked_array(data=[1, 2, 1, 2, 1, 2, 1, 2],\n",
       "               mask=[False, False, False, False, False, False, False, False],\n",
       "         fill_value='?',\n",
       "              dtype=object),\n",
       "  'params': [{'max_depth': 8, 'min_child_weight': 1},\n",
       "   {'max_depth': 8, 'min_child_weight': 2},\n",
       "   {'max_depth': 9, 'min_child_weight': 1},\n",
       "   {'max_depth': 9, 'min_child_weight': 2},\n",
       "   {'max_depth': 10, 'min_child_weight': 1},\n",
       "   {'max_depth': 10, 'min_child_weight': 2},\n",
       "   {'max_depth': 11, 'min_child_weight': 1},\n",
       "   {'max_depth': 11, 'min_child_weight': 2}],\n",
       "  'split0_test_score': array([0.82242426, 0.82247545, 0.82143437, 0.82106355, 0.82080241,\n",
       "         0.8214899 , 0.82219167, 0.82373536]),\n",
       "  'split1_test_score': array([0.80781013, 0.8057929 , 0.80727009, 0.80398981, 0.80394385,\n",
       "         0.80355771, 0.80240086, 0.80027848]),\n",
       "  'split2_test_score': array([0.90270277, 0.90251928, 0.90256176, 0.90053635, 0.90186399,\n",
       "         0.89979227, 0.90076859, 0.90105689]),\n",
       "  'split3_test_score': array([1., 1., 1., 1., 1., 1., 1., 1.]),\n",
       "  'split4_test_score': array([0.30263278, 0.30103685, 0.30186643, 0.3010541 , 0.30329111,\n",
       "         0.3015208 , 0.30211573, 0.30152655]),\n",
       "  'split5_test_score': array([0.63252166, 0.63853394, 0.63708331, 0.6398743 , 0.64110264,\n",
       "         0.63785592, 0.63287165, 0.63814336]),\n",
       "  'split6_test_score': array([0.99276513, 0.99260799, 0.99258326, 0.99264492, 0.99282924,\n",
       "         0.99302818, 0.99330064, 0.99312191]),\n",
       "  'split7_test_score': array([1., 1., 1., 1., 1., 1., 1., 1.]),\n",
       "  'split8_test_score': array([0.92118241, 0.92154946, 0.92147769, 0.92059759, 0.92153692,\n",
       "         0.91959938, 0.91928754, 0.91992793]),\n",
       "  'split9_test_score': array([0.72731068, 0.72872473, 0.73056936, 0.72666532, 0.7369876 ,\n",
       "         0.72685519, 0.73583901, 0.73181305]),\n",
       "  'mean_test_score': array([0.81093498, 0.81132406, 0.81148463, 0.81064259, 0.81223578,\n",
       "         0.81036994, 0.81087757, 0.81096035]),\n",
       "  'std_test_score': array([0.20553988, 0.20536659, 0.20519671, 0.20519639, 0.20425974,\n",
       "         0.20519354, 0.20518315, 0.20507955]),\n",
       "  'rank_test_score': array([5, 3, 2, 7, 1, 8, 6, 4], dtype=int32)},\n",
       " {'max_depth': 10, 'min_child_weight': 1},\n",
       " 0.8122357751413938)"
      ]
     },
     "execution_count": 278,
     "metadata": {},
     "output_type": "execute_result"
    }
   ],
   "source": [
    "param_test2 = {\n",
    " 'max_depth':[8,9,10,11],\n",
    " 'min_child_weight':[1,2]\n",
    "}\n",
    "gsearch2 = GridSearchCV(estimator = XGBClassifier( learning_rate=0.1, n_estimators=140, max_depth=5,\n",
    " min_child_weight=2, gamma=0, subsample=0.8, colsample_bytree=0.8,\n",
    " objective= 'binary:logistic', nthread=4, scale_pos_weight=1,seed=27), \n",
    " param_grid = param_test2, scoring='roc_auc',n_jobs=4,iid=False, cv=10)\n",
    "gsearch2.fit(train[predictors],train[target])\n",
    "gsearch2.cv_results_, gsearch2.best_params_, gsearch2.best_score_"
   ]
  },
  {
   "cell_type": "markdown",
   "metadata": {},
   "source": [
    "Here, we get the optimum values as 10 for `max_depth` and 1 for `min_child_weight`. The CV score does increase slightly compared to the first result."
   ]
  },
  {
   "cell_type": "markdown",
   "metadata": {},
   "source": [
    "Next we can tune hyperparameter `gamma`\n",
    "\n",
    "#### Step 3: Tune Hyperparameter - `gamma`"
   ]
  },
  {
   "cell_type": "code",
   "execution_count": 279,
   "metadata": {},
   "outputs": [
    {
     "name": "stderr",
     "output_type": "stream",
     "text": [
      "/Users/mengjialyu/opt/anaconda3/lib/python3.7/site-packages/sklearn/model_selection/_search.py:825: FutureWarning: The parameter 'iid' is deprecated in 0.22 and will be removed in 0.24.\n",
      "  \"removed in 0.24.\", FutureWarning\n"
     ]
    },
    {
     "data": {
      "text/plain": [
       "({'mean_fit_time': array([4.10952716, 4.20598376, 4.33838723, 4.53829911, 4.24909728]),\n",
       "  'std_fit_time': array([0.16519115, 0.07898489, 0.10924608, 0.11136751, 0.69427091]),\n",
       "  'mean_score_time': array([0.02151008, 0.02319655, 0.02363868, 0.02392738, 0.02414281]),\n",
       "  'std_score_time': array([0.00113954, 0.00086731, 0.00063879, 0.00081918, 0.00272286]),\n",
       "  'param_gamma': masked_array(data=[0.0, 0.1, 0.2, 0.3, 0.4],\n",
       "               mask=[False, False, False, False, False],\n",
       "         fill_value='?',\n",
       "              dtype=object),\n",
       "  'params': [{'gamma': 0.0},\n",
       "   {'gamma': 0.1},\n",
       "   {'gamma': 0.2},\n",
       "   {'gamma': 0.3},\n",
       "   {'gamma': 0.4}],\n",
       "  'split0_test_score': array([0.82080241, 0.82282485, 0.82036822, 0.82224077, 0.82177455]),\n",
       "  'split1_test_score': array([0.80394385, 0.80457425, 0.80076055, 0.8039926 , 0.80602462]),\n",
       "  'split2_test_score': array([0.90186399, 0.9009352 , 0.90111121, 0.90072054, 0.90219616]),\n",
       "  'split3_test_score': array([1., 1., 1., 1., 1.]),\n",
       "  'split4_test_score': array([0.30329111, 0.30195493, 0.30243296, 0.30167376, 0.30209883]),\n",
       "  'split5_test_score': array([0.64110264, 0.6323255 , 0.63511545, 0.6428064 , 0.64584703]),\n",
       "  'split6_test_score': array([0.99282924, 0.99293376, 0.99285397, 0.99283586, 0.99296895]),\n",
       "  'split7_test_score': array([1., 1., 1., 1., 1.]),\n",
       "  'split8_test_score': array([0.92153692, 0.91898721, 0.92047843, 0.91989205, 0.92038192]),\n",
       "  'split9_test_score': array([0.7369876 , 0.73222186, 0.73324974, 0.73287715, 0.7314659 ]),\n",
       "  'mean_test_score': array([0.81223578, 0.81067576, 0.81063705, 0.81170391, 0.8122758 ]),\n",
       "  'std_test_score': array([0.20425974, 0.20536041, 0.20504405, 0.20454572, 0.20433844]),\n",
       "  'rank_test_score': array([2, 4, 5, 3, 1], dtype=int32)},\n",
       " {'gamma': 0.4},\n",
       " 0.812275795244101)"
      ]
     },
     "execution_count": 279,
     "metadata": {},
     "output_type": "execute_result"
    }
   ],
   "source": [
    "param_test3 = {\n",
    " 'gamma':[i/10.0 for i in range(0,5)]\n",
    "}\n",
    "gsearch3 = GridSearchCV(estimator = XGBClassifier( learning_rate =0.1, n_estimators=140, max_depth=10,\n",
    " min_child_weight=1, gamma=0, subsample=0.8, colsample_bytree=0.8,\n",
    " objective= 'binary:logistic', nthread=4, scale_pos_weight=1,seed=27), \n",
    " param_grid = param_test3, scoring='roc_auc',n_jobs=4,iid=False, cv=10)\n",
    "gsearch3.fit(train[predictors],train[target])\n",
    "gsearch3.cv_results_, gsearch3.best_params_, gsearch3.best_score_"
   ]
  },
  {
   "cell_type": "markdown",
   "metadata": {},
   "source": [
    "Next we can narrow down our searches and try values around 0.4."
   ]
  },
  {
   "cell_type": "code",
   "execution_count": 281,
   "metadata": {},
   "outputs": [
    {
     "name": "stderr",
     "output_type": "stream",
     "text": [
      "/Users/mengjialyu/opt/anaconda3/lib/python3.7/site-packages/sklearn/model_selection/_search.py:825: FutureWarning: The parameter 'iid' is deprecated in 0.22 and will be removed in 0.24.\n",
      "  \"removed in 0.24.\", FutureWarning\n"
     ]
    },
    {
     "data": {
      "text/plain": [
       "({'mean_fit_time': array([3.834305  , 4.17434916, 4.0378788 ]),\n",
       "  'std_fit_time': array([0.20032387, 0.09293797, 0.61826714]),\n",
       "  'mean_score_time': array([0.02123265, 0.02356057, 0.02263374]),\n",
       "  'std_score_time': array([0.00128424, 0.00245044, 0.00248691]),\n",
       "  'param_gamma': masked_array(data=[0.35, 0.4, 0.45],\n",
       "               mask=[False, False, False],\n",
       "         fill_value='?',\n",
       "              dtype=object),\n",
       "  'params': [{'gamma': 0.35}, {'gamma': 0.4}, {'gamma': 0.45}],\n",
       "  'split0_test_score': array([0.82197336, 0.82177455, 0.81853187]),\n",
       "  'split1_test_score': array([0.80297345, 0.80602462, 0.80281816]),\n",
       "  'split2_test_score': array([0.90086434, 0.90219616, 0.90171183]),\n",
       "  'split3_test_score': array([1., 1., 1.]),\n",
       "  'split4_test_score': array([0.30289635, 0.30209883, 0.30230492]),\n",
       "  'split5_test_score': array([0.6379385 , 0.64584703, 0.63521231]),\n",
       "  'split6_test_score': array([0.99257211, 0.99296895, 0.99290972]),\n",
       "  'split7_test_score': array([1., 1., 1.]),\n",
       "  'split8_test_score': array([0.9217397 , 0.92038192, 0.91984431]),\n",
       "  'split9_test_score': array([0.72966115, 0.7314659 , 0.72854183]),\n",
       "  'mean_test_score': array([0.8110619, 0.8122758, 0.8101875]),\n",
       "  'std_test_score': array([0.20485842, 0.20433844, 0.20523092]),\n",
       "  'rank_test_score': array([2, 1, 3], dtype=int32)},\n",
       " {'gamma': 0.4},\n",
       " 0.812275795244101)"
      ]
     },
     "execution_count": 281,
     "metadata": {},
     "output_type": "execute_result"
    }
   ],
   "source": [
    "param_test3 = {\n",
    " 'gamma':[i/100.0 for i in range(35,50,5)]\n",
    "}\n",
    "gsearch3 = GridSearchCV(estimator = XGBClassifier( learning_rate =0.1, n_estimators=140, max_depth=10,\n",
    " min_child_weight=1, gamma=0, subsample=0.8, colsample_bytree=0.8,\n",
    " objective= 'binary:logistic', nthread=4, scale_pos_weight=1,seed=27), \n",
    " param_grid = param_test3, scoring='roc_auc',n_jobs=4,iid=False, cv=10)\n",
    "gsearch3.fit(train[predictors],train[target])\n",
    "gsearch3.cv_results_, gsearch3.best_params_, gsearch3.best_score_"
   ]
  },
  {
   "cell_type": "markdown",
   "metadata": {},
   "source": [
    "Therefore for `gamma` 0.4 is the optimum one. Before proceeding, a good idea would be to re-calibrate the number of boosting rounds for the updated parameters."
   ]
  },
  {
   "cell_type": "code",
   "execution_count": 280,
   "metadata": {},
   "outputs": [
    {
     "name": "stdout",
     "output_type": "stream",
     "text": [
      "\n",
      "Model Report\n",
      "Accuracy : 0.8814\n",
      "AUC Score (Train): 0.954144\n"
     ]
    },
    {
     "data": {
      "image/png": "[encoded data removed]",
      "text/plain": [
       "<Figure size 864x288 with 1 Axes>"
      ]
     },
     "metadata": {
      "needs_background": "light"
     },
     "output_type": "display_data"
    }
   ],
   "source": [
    "xgb2 = XGBClassifier(\n",
    " learning_rate =0.1,\n",
    " n_estimators=1000,\n",
    " max_depth=10,\n",
    " min_child_weight=1,\n",
    " gamma=0.4,\n",
    " subsample=0.8,\n",
    " colsample_bytree=0.8,\n",
    " objective= 'binary:logistic',\n",
    " nthread=4,\n",
    " scale_pos_weight=1,\n",
    " seed=27)\n",
    "modelfit(xgb2, train, predictors)"
   ]
  },
  {
   "cell_type": "markdown",
   "metadata": {},
   "source": [
    "#### Step 4: Tune `subsample` and `colsample_bytree`"
   ]
  },
  {
   "cell_type": "code",
   "execution_count": 285,
   "metadata": {},
   "outputs": [
    {
     "name": "stderr",
     "output_type": "stream",
     "text": [
      "/Users/mengjialyu/opt/anaconda3/lib/python3.7/site-packages/sklearn/model_selection/_search.py:825: FutureWarning: The parameter 'iid' is deprecated in 0.22 and will be removed in 0.24.\n",
      "  \"removed in 0.24.\", FutureWarning\n"
     ]
    },
    {
     "data": {
      "text/plain": [
       "({'mean_fit_time': array([4.81428554, 5.1006438 , 4.9318085 , 4.76593523, 5.47710593,\n",
       "         5.42516701, 5.32895339, 5.01988192, 6.19345841, 6.0792419 ,\n",
       "         5.85724454, 5.59313538, 6.45452967, 6.44293182, 6.15594692,\n",
       "         6.2441534 ]),\n",
       "  'std_fit_time': array([0.16334381, 0.06468541, 0.06426364, 0.04460995, 0.06067809,\n",
       "         0.05504748, 0.09527931, 0.0822637 , 0.0785423 , 0.02874974,\n",
       "         0.05611126, 0.06401961, 0.09263135, 0.10896421, 0.08173857,\n",
       "         0.16863757]),\n",
       "  'mean_score_time': array([0.03047111, 0.0302985 , 0.03141117, 0.03031411, 0.03199663,\n",
       "         0.03222497, 0.0310699 , 0.03072209, 0.03448107, 0.03270264,\n",
       "         0.03255053, 0.03040206, 0.03559661, 0.03484175, 0.03274693,\n",
       "         0.03034389]),\n",
       "  'std_score_time': array([0.0009042 , 0.00158155, 0.00117041, 0.00179511, 0.00104428,\n",
       "         0.00177765, 0.00201808, 0.00138021, 0.00099067, 0.00194599,\n",
       "         0.00110399, 0.00138275, 0.001068  , 0.0016684 , 0.00168041,\n",
       "         0.00156325]),\n",
       "  'param_colsample_bytree': masked_array(data=[0.6, 0.6, 0.6, 0.6, 0.7, 0.7, 0.7, 0.7, 0.8, 0.8, 0.8,\n",
       "                     0.8, 0.9, 0.9, 0.9, 0.9],\n",
       "               mask=[False, False, False, False, False, False, False, False,\n",
       "                     False, False, False, False, False, False, False, False],\n",
       "         fill_value='?',\n",
       "              dtype=object),\n",
       "  'param_subsample': masked_array(data=[0.6, 0.7, 0.8, 0.9, 0.6, 0.7, 0.8, 0.9, 0.6, 0.7, 0.8,\n",
       "                     0.9, 0.6, 0.7, 0.8, 0.9],\n",
       "               mask=[False, False, False, False, False, False, False, False,\n",
       "                     False, False, False, False, False, False, False, False],\n",
       "         fill_value='?',\n",
       "              dtype=object),\n",
       "  'params': [{'colsample_bytree': 0.6, 'subsample': 0.6},\n",
       "   {'colsample_bytree': 0.6, 'subsample': 0.7},\n",
       "   {'colsample_bytree': 0.6, 'subsample': 0.8},\n",
       "   {'colsample_bytree': 0.6, 'subsample': 0.9},\n",
       "   {'colsample_bytree': 0.7, 'subsample': 0.6},\n",
       "   {'colsample_bytree': 0.7, 'subsample': 0.7},\n",
       "   {'colsample_bytree': 0.7, 'subsample': 0.8},\n",
       "   {'colsample_bytree': 0.7, 'subsample': 0.9},\n",
       "   {'colsample_bytree': 0.8, 'subsample': 0.6},\n",
       "   {'colsample_bytree': 0.8, 'subsample': 0.7},\n",
       "   {'colsample_bytree': 0.8, 'subsample': 0.8},\n",
       "   {'colsample_bytree': 0.8, 'subsample': 0.9},\n",
       "   {'colsample_bytree': 0.9, 'subsample': 0.6},\n",
       "   {'colsample_bytree': 0.9, 'subsample': 0.7},\n",
       "   {'colsample_bytree': 0.9, 'subsample': 0.8},\n",
       "   {'colsample_bytree': 0.9, 'subsample': 0.9}],\n",
       "  'split0_test_score': array([0.81322375, 0.81487347, 0.82106285, 0.82019412, 0.81763216,\n",
       "         0.81645424, 0.82360358, 0.81991871, 0.81961892, 0.8178066 ,\n",
       "         0.82132747, 0.82248554, 0.82091261, 0.81609264, 0.82435914,\n",
       "         0.82399668]),\n",
       "  'split1_test_score': array([0.80147677, 0.79989269, 0.80421405, 0.80521543, 0.80375966,\n",
       "         0.80394455, 0.80643061, 0.80412944, 0.80500426, 0.79969857,\n",
       "         0.80546787, 0.80474538, 0.80313641, 0.80651052, 0.80584356,\n",
       "         0.80748266]),\n",
       "  'split2_test_score': array([0.8979131 , 0.89787585, 0.8986732 , 0.89792773, 0.89899927,\n",
       "         0.89926233, 0.90124735, 0.89988454, 0.90115995, 0.89832362,\n",
       "         0.90146113, 0.89938907, 0.89654472, 0.89849666, 0.89847856,\n",
       "         0.90065543]),\n",
       "  'split3_test_score': array([1.        , 1.        , 1.        , 1.        , 1.        ,\n",
       "         1.        , 1.        , 1.        , 0.99999965, 1.        ,\n",
       "         1.        , 1.        , 0.99999652, 1.        , 1.        ,\n",
       "         1.        ]),\n",
       "  'split4_test_score': array([0.30048183, 0.30236746, 0.3014783 , 0.30190911, 0.30169292,\n",
       "         0.3015445 , 0.3013013 , 0.30194152, 0.30502431, 0.30214081,\n",
       "         0.30198037, 0.30166209, 0.30301098, 0.30464297, 0.3022044 ,\n",
       "         0.30284757]),\n",
       "  'split5_test_score': array([0.63694795, 0.62776299, 0.63660807, 0.63581124, 0.64125107,\n",
       "         0.63073934, 0.63353503, 0.63368834, 0.64072374, 0.64649805,\n",
       "         0.64846921, 0.64148363, 0.65204798, 0.64575174, 0.6456446 ,\n",
       "         0.64224301]),\n",
       "  'split6_test_score': array([0.99269858, 0.99289892, 0.99290763, 0.99253064, 0.99239964,\n",
       "         0.99310588, 0.99273098, 0.99265154, 0.9931233 , 0.9931787 ,\n",
       "         0.99327277, 0.99311529, 0.99308254, 0.99275224, 0.99323549,\n",
       "         0.99314316]),\n",
       "  'split7_test_score': array([1., 1., 1., 1., 1., 1., 1., 1., 1., 1., 1., 1., 1., 1., 1., 1.]),\n",
       "  'split8_test_score': array([0.91751724, 0.91947081, 0.91899174, 0.92040526, 0.91927848,\n",
       "         0.91898233, 0.91952272, 0.91992584, 0.92061606, 0.91928197,\n",
       "         0.92016137, 0.92139651, 0.91953318, 0.92061188, 0.92077424,\n",
       "         0.92118955]),\n",
       "  'split9_test_score': array([0.72091997, 0.74171954, 0.74514926, 0.75346909, 0.71677608,\n",
       "         0.73275278, 0.75402684, 0.74594982, 0.72829275, 0.72827463,\n",
       "         0.73580191, 0.7412029 , 0.72508197, 0.73077769, 0.73546486,\n",
       "         0.73930027]),\n",
       "  'mean_test_score': array([0.80811792, 0.80968617, 0.81190851, 0.81274626, 0.80917893,\n",
       "         0.80967859, 0.81323984, 0.81180897, 0.81135629, 0.81052029,\n",
       "         0.81279421, 0.81254804, 0.81133469, 0.81156363, 0.81260049,\n",
       "         0.81308583]),\n",
       "  'std_test_score': array([0.2055252 , 0.20519413, 0.20454376, 0.20425064, 0.20517449,\n",
       "         0.20549416, 0.2047076 , 0.20472818, 0.20413479, 0.20420462,\n",
       "         0.20397104, 0.20439854, 0.20360539, 0.2035508 , 0.2040723 ,\n",
       "         0.20415053]),\n",
       "  'rank_test_score': array([16, 13,  7,  4, 15, 14,  1,  8, 10, 12,  3,  6, 11,  9,  5,  2],\n",
       "        dtype=int32)},\n",
       " {'colsample_bytree': 0.7, 'subsample': 0.8},\n",
       " 0.8132398410228058)"
      ]
     },
     "execution_count": 285,
     "metadata": {},
     "output_type": "execute_result"
    }
   ],
   "source": [
    "param_test4 = {\n",
    " 'subsample':[i/10.0 for i in range(6,10)],\n",
    " 'colsample_bytree':[i/10.0 for i in range(6,10)]\n",
    "}\n",
    "gsearch4 = GridSearchCV(estimator = XGBClassifier( learning_rate =0.1, n_estimators=177, max_depth=10,\n",
    " min_child_weight=1, gamma=0.4, subsample=0.8, colsample_bytree=0.8,\n",
    " objective= 'binary:logistic', nthread=4, scale_pos_weight=1,seed=27), \n",
    " param_grid = param_test4, scoring='roc_auc',n_jobs=4,iid=False, cv=10)\n",
    "gsearch4.fit(train[predictors],train[target])\n",
    "gsearch4.cv_results_, gsearch4.best_params_, gsearch4.best_score_"
   ]
  },
  {
   "cell_type": "markdown",
   "metadata": {},
   "source": [
    "We finds 0.7 as the optimum value for `colsample_bytree` and 0.8 as the `subsample`."
   ]
  },
  {
   "cell_type": "code",
   "execution_count": 286,
   "metadata": {},
   "outputs": [
    {
     "name": "stderr",
     "output_type": "stream",
     "text": [
      "/Users/mengjialyu/opt/anaconda3/lib/python3.7/site-packages/sklearn/model_selection/_search.py:825: FutureWarning: The parameter 'iid' is deprecated in 0.22 and will be removed in 0.24.\n",
      "  \"removed in 0.24.\", FutureWarning\n"
     ]
    },
    {
     "data": {
      "text/plain": [
       "GridSearchCV(cv=10, error_score=nan,\n",
       "             estimator=XGBClassifier(base_score=None, booster=None,\n",
       "                                     colsample_bylevel=None,\n",
       "                                     colsample_bynode=None,\n",
       "                                     colsample_bytree=0.7, gamma=0.4,\n",
       "                                     gpu_id=None, importance_type='gain',\n",
       "                                     interaction_constraints=None,\n",
       "                                     learning_rate=0.1, max_delta_step=None,\n",
       "                                     max_depth=10, min_child_weight=1,\n",
       "                                     missing=nan, monotone_constraints=None,\n",
       "                                     n_estimators=1...\n",
       "                                     objective='binary:logistic',\n",
       "                                     random_state=None, reg_alpha=None,\n",
       "                                     reg_lambda=None, scale_pos_weight=1,\n",
       "                                     seed=27, subsample=0.8, tree_method=None,\n",
       "                                     validate_parameters=None, verbosity=None),\n",
       "             iid=False, n_jobs=4,\n",
       "             param_grid={'colsample_bytree': [0.65, 0.7, 0.75],\n",
       "                         'subsample': [0.75, 0.8, 0.85]},\n",
       "             pre_dispatch='2*n_jobs', refit=True, return_train_score=False,\n",
       "             scoring='roc_auc', verbose=0)"
      ]
     },
     "execution_count": 286,
     "metadata": {},
     "output_type": "execute_result"
    }
   ],
   "source": [
    "param_test5 = {\n",
    " 'subsample':[i/100.0 for i in range(75,90,5)],\n",
    " 'colsample_bytree':[i/100.0 for i in range(65,80,5)]\n",
    "}\n",
    "gsearch5 = GridSearchCV(estimator = XGBClassifier( learning_rate =0.1, n_estimators=177, max_depth=10,\n",
    " min_child_weight=1, gamma=0.4, subsample=0.8, colsample_bytree=0.7,\n",
    " objective= 'binary:logistic', nthread=4, scale_pos_weight=1,seed=27), \n",
    " param_grid = param_test5, scoring='roc_auc',n_jobs=4,iid=False, cv=10)\n",
    "gsearch5.fit(train[predictors],train[target])"
   ]
  },
  {
   "cell_type": "code",
   "execution_count": 288,
   "metadata": {},
   "outputs": [
    {
     "data": {
      "text/plain": [
       "({'mean_fit_time': array([4.29809659, 4.43023484, 4.57210743, 5.11363895, 5.09967763,\n",
       "         5.45414619, 5.47641046, 5.51596332, 5.07731781]),\n",
       "  'std_fit_time': array([0.12167111, 0.11072592, 0.0755662 , 0.16494447, 0.10296349,\n",
       "         0.12901271, 0.09402589, 0.06230067, 0.84021498]),\n",
       "  'mean_score_time': array([0.02799907, 0.02792618, 0.0292104 , 0.03080528, 0.03085475,\n",
       "         0.03094232, 0.03179793, 0.03230214, 0.02865942]),\n",
       "  'std_score_time': array([0.00153588, 0.00122871, 0.00065518, 0.0006075 , 0.00066952,\n",
       "         0.00089867, 0.00122846, 0.00206867, 0.00284701]),\n",
       "  'param_colsample_bytree': masked_array(data=[0.65, 0.65, 0.65, 0.7, 0.7, 0.7, 0.75, 0.75, 0.75],\n",
       "               mask=[False, False, False, False, False, False, False, False,\n",
       "                     False],\n",
       "         fill_value='?',\n",
       "              dtype=object),\n",
       "  'param_subsample': masked_array(data=[0.75, 0.8, 0.85, 0.75, 0.8, 0.85, 0.75, 0.8, 0.85],\n",
       "               mask=[False, False, False, False, False, False, False, False,\n",
       "                     False],\n",
       "         fill_value='?',\n",
       "              dtype=object),\n",
       "  'params': [{'colsample_bytree': 0.65, 'subsample': 0.75},\n",
       "   {'colsample_bytree': 0.65, 'subsample': 0.8},\n",
       "   {'colsample_bytree': 0.65, 'subsample': 0.85},\n",
       "   {'colsample_bytree': 0.7, 'subsample': 0.75},\n",
       "   {'colsample_bytree': 0.7, 'subsample': 0.8},\n",
       "   {'colsample_bytree': 0.7, 'subsample': 0.85},\n",
       "   {'colsample_bytree': 0.75, 'subsample': 0.75},\n",
       "   {'colsample_bytree': 0.75, 'subsample': 0.8},\n",
       "   {'colsample_bytree': 0.75, 'subsample': 0.85}],\n",
       "  'split0_test_score': array([0.81671085, 0.82106285, 0.8206264 , 0.81910029, 0.82360358,\n",
       "         0.81815862, 0.82018542, 0.82286333, 0.82157068]),\n",
       "  'split1_test_score': array([0.80127395, 0.80421405, 0.80513779, 0.80418828, 0.80643061,\n",
       "         0.80661985, 0.80049471, 0.8039099 , 0.80530997]),\n",
       "  'split2_test_score': array([0.89925989, 0.8986732 , 0.89977208, 0.89978809, 0.90124735,\n",
       "         0.90053287, 0.899864  , 0.90042145, 0.90064046]),\n",
       "  'split3_test_score': array([1., 1., 1., 1., 1., 1., 1., 1., 1.]),\n",
       "  'split4_test_score': array([0.30229011, 0.3014783 , 0.30277023, 0.30263783, 0.3013013 ,\n",
       "         0.30244846, 0.30245926, 0.30298555, 0.30325749]),\n",
       "  'split5_test_score': array([0.63900953, 0.63660807, 0.62717399, 0.63331954, 0.63353503,\n",
       "         0.63397857, 0.63567518, 0.63372109, 0.63500605]),\n",
       "  'split6_test_score': array([0.99263935, 0.99290763, 0.99278464, 0.99303376, 0.99273098,\n",
       "         0.99286303, 0.99277279, 0.99245155, 0.99279823]),\n",
       "  'split7_test_score': array([1., 1., 1., 1., 1., 1., 1., 1., 1.]),\n",
       "  'split8_test_score': array([0.9179106 , 0.91899174, 0.91995546, 0.9201659 , 0.91952272,\n",
       "         0.91898616, 0.91864924, 0.91802837, 0.92023419]),\n",
       "  'split9_test_score': array([0.74244955, 0.74514926, 0.75168995, 0.74127989, 0.75402684,\n",
       "         0.75807579, 0.73640843, 0.74106826, 0.74306965]),\n",
       "  'mean_test_score': array([0.81115438, 0.81190851, 0.81199105, 0.81135136, 0.81323984,\n",
       "         0.81316634, 0.8106509 , 0.81154495, 0.81218867]),\n",
       "  'std_test_score': array([0.20416835, 0.20454376, 0.20493019, 0.20478108, 0.2047076 ,\n",
       "         0.20420065, 0.20471405, 0.204549  , 0.20444583]),\n",
       "  'rank_test_score': array([8, 5, 4, 7, 1, 2, 9, 6, 3], dtype=int32)},\n",
       " {'colsample_bytree': 0.7, 'subsample': 0.8},\n",
       " 0.8132398410228058)"
      ]
     },
     "execution_count": 288,
     "metadata": {},
     "output_type": "execute_result"
    }
   ],
   "source": [
    "gsearch5.cv_results_, gsearch4.best_params_, gsearch4.best_score_"
   ]
  },
  {
   "cell_type": "markdown",
   "metadata": {},
   "source": [
    "Therefore the optimum values are:\n",
    "\n",
    "subsample: 0.8\n",
    "colsample_bytree: 0.7"
   ]
  },
  {
   "cell_type": "markdown",
   "metadata": {},
   "source": [
    "#### Step 5: Tuning Regularization Parameter `reg_alpha`"
   ]
  },
  {
   "cell_type": "markdown",
   "metadata": {},
   "source": [
    "`reg_alpha` controls the L1 regularization term on weights. Increasing this value will make model more conservative.\n",
    "\n",
    "To avoid overfitting on the hyperparameter, we can limit `reg_alpha` not to be greater than 1. "
   ]
  },
  {
   "cell_type": "code",
   "execution_count": 323,
   "metadata": {},
   "outputs": [
    {
     "name": "stderr",
     "output_type": "stream",
     "text": [
      "/Users/mengjialyu/opt/anaconda3/lib/python3.7/site-packages/sklearn/model_selection/_search.py:825: FutureWarning: The parameter 'iid' is deprecated in 0.22 and will be removed in 0.24.\n",
      "  \"removed in 0.24.\", FutureWarning\n"
     ]
    },
    {
     "data": {
      "text/plain": [
       "({'mean_fit_time': array([4.48763711, 5.02467177, 5.10827084, 5.14615242, 5.15605063,\n",
       "         5.29604297]),\n",
       "  'std_fit_time': array([0.23628583, 0.12425847, 0.05358381, 0.03921802, 0.08101533,\n",
       "         0.07417774]),\n",
       "  'mean_score_time': array([0.02687702, 0.02956586, 0.02926266, 0.02997546, 0.02994881,\n",
       "         0.0295167 ]),\n",
       "  'std_score_time': array([0.00161362, 0.00205891, 0.00070436, 0.00055309, 0.00100229,\n",
       "         0.00174602]),\n",
       "  'param_reg_alpha': masked_array(data=[1e-05, 0.0001, 0.001, 0.01, 0.1, 1],\n",
       "               mask=[False, False, False, False, False, False],\n",
       "         fill_value='?',\n",
       "              dtype=object),\n",
       "  'params': [{'reg_alpha': 1e-05},\n",
       "   {'reg_alpha': 0.0001},\n",
       "   {'reg_alpha': 0.001},\n",
       "   {'reg_alpha': 0.01},\n",
       "   {'reg_alpha': 0.1},\n",
       "   {'reg_alpha': 1}],\n",
       "  'split0_test_score': array([0.82360358, 0.82360253, 0.82133931, 0.82052003, 0.82143245,\n",
       "         0.82397631]),\n",
       "  'split1_test_score': array([0.80643078, 0.80736462, 0.80685644, 0.80523162, 0.8065046 ,\n",
       "         0.80540067]),\n",
       "  'split2_test_score': array([0.901247  , 0.90188679, 0.90084867, 0.90056943, 0.89988454,\n",
       "         0.89875258]),\n",
       "  'split3_test_score': array([1., 1., 1., 1., 1., 1.]),\n",
       "  'split4_test_score': array([0.3013013 , 0.30265211, 0.30153195, 0.3013175 , 0.3007407 ,\n",
       "         0.3018086 ]),\n",
       "  'split5_test_score': array([0.63402543, 0.63286537, 0.63397979, 0.63729619, 0.6369584 ,\n",
       "         0.64788875]),\n",
       "  'split6_test_score': array([0.99273098, 0.99273098, 0.99264876, 0.99278847, 0.99266409,\n",
       "         0.99299926]),\n",
       "  'split7_test_score': array([1., 1., 1., 1., 1., 1.]),\n",
       "  'split8_test_score': array([0.91952272, 0.91988821, 0.91903181, 0.9197039 , 0.91993386,\n",
       "         0.91886875]),\n",
       "  'split9_test_score': array([0.75402649, 0.75392511, 0.74944783, 0.74613272, 0.75482391,\n",
       "         0.72955856]),\n",
       "  'mean_test_score': array([0.81328883, 0.81349157, 0.81256846, 0.81235599, 0.81329425,\n",
       "         0.81192535]),\n",
       "  'std_test_score': array([0.20466459, 0.20447548, 0.20468608, 0.20459492, 0.20447447,\n",
       "         0.20410952]),\n",
       "  'rank_test_score': array([3, 1, 4, 5, 2, 6], dtype=int32)},\n",
       " {'reg_alpha': 0.0001},\n",
       " 0.8134915744820234)"
      ]
     },
     "execution_count": 323,
     "metadata": {},
     "output_type": "execute_result"
    }
   ],
   "source": [
    "param_test6 = {\n",
    " 'reg_alpha':[1e-5, 1e-4, 1e-3,1e-2, 0.1, 1]\n",
    "}\n",
    "gsearch6 = GridSearchCV(estimator = XGBClassifier( learning_rate =0.1, n_estimators=177, max_depth=10,\n",
    " min_child_weight=1, gamma=0.4, subsample=0.8, colsample_bytree=0.7,\n",
    " objective= 'binary:logistic', nthread=4, scale_pos_weight=1,seed=27), \n",
    " param_grid = param_test6, scoring='roc_auc',n_jobs=4,iid=False, cv=10)\n",
    "gsearch6.fit(train[predictors],train[target])\n",
    "gsearch6.cv_results_, gsearch6.best_params_, gsearch6.best_score_"
   ]
  },
  {
   "cell_type": "markdown",
   "metadata": {},
   "source": [
    "Therefore the optimum value for `reg_alpha` is 0.0001.\n"
   ]
  },
  {
   "cell_type": "markdown",
   "metadata": {},
   "source": [
    "Again we can try values around .0001 to see if we get something better than it."
   ]
  },
  {
   "cell_type": "code",
   "execution_count": 320,
   "metadata": {},
   "outputs": [
    {
     "name": "stderr",
     "output_type": "stream",
     "text": [
      "/Users/mengjialyu/opt/anaconda3/lib/python3.7/site-packages/sklearn/model_selection/_search.py:825: FutureWarning: The parameter 'iid' is deprecated in 0.22 and will be removed in 0.24.\n",
      "  \"removed in 0.24.\", FutureWarning\n"
     ]
    },
    {
     "data": {
      "text/plain": [
       "({'mean_fit_time': array([4.69882681, 5.30197349, 5.08029203]),\n",
       "  'std_fit_time': array([0.28601226, 0.08895607, 0.82576859]),\n",
       "  'mean_score_time': array([0.02836709, 0.03134794, 0.03094492]),\n",
       "  'std_score_time': array([0.00209903, 0.00145576, 0.00282507]),\n",
       "  'param_reg_alpha': masked_array(data=[5e-05, 0.0001, 0.00015],\n",
       "               mask=[False, False, False],\n",
       "         fill_value='?',\n",
       "              dtype=object),\n",
       "  'params': [{'reg_alpha': 5e-05},\n",
       "   {'reg_alpha': 0.0001},\n",
       "   {'reg_alpha': 0.00015}],\n",
       "  'split0_test_score': array([0.82360323, 0.82360253, 0.82360375]),\n",
       "  'split1_test_score': array([0.80643078, 0.80736462, 0.80533974]),\n",
       "  'split2_test_score': array([0.90188662, 0.90188679, 0.90116274]),\n",
       "  'split3_test_score': array([1., 1., 1.]),\n",
       "  'split4_test_score': array([0.30168595, 0.30265211, 0.30265194]),\n",
       "  'split5_test_score': array([0.63286468, 0.63286537, 0.63286485]),\n",
       "  'split6_test_score': array([0.99273098, 0.99273098, 0.99273377]),\n",
       "  'split7_test_score': array([1., 1., 1.]),\n",
       "  'split8_test_score': array([0.91952238, 0.91988821, 0.91988752]),\n",
       "  'split9_test_score': array([0.75306637, 0.75392511, 0.74494129]),\n",
       "  'mean_test_score': array([0.8131791 , 0.81349157, 0.81231856]),\n",
       "  'std_test_score': array([0.20472595, 0.20447548, 0.20472961]),\n",
       "  'rank_test_score': array([2, 1, 3], dtype=int32)},\n",
       " {'reg_alpha': 0.0001},\n",
       " 0.8134915744820234)"
      ]
     },
     "execution_count": 320,
     "metadata": {},
     "output_type": "execute_result"
    }
   ],
   "source": [
    "param_test7 = {\n",
    " 'reg_alpha':[0.00005, 0.0001, 0.00015]\n",
    "}\n",
    "gsearch7 = GridSearchCV(estimator = XGBClassifier( learning_rate =0.1, n_estimators=177, max_depth=10,\n",
    " min_child_weight=1, gamma=0.4, subsample=0.8, colsample_bytree=0.7,\n",
    " objective= 'binary:logistic', nthread=4, scale_pos_weight=1,seed=27), \n",
    " param_grid = param_test7, scoring='roc_auc',n_jobs=4,iid=False, cv=10)\n",
    "gsearch7.fit(train[predictors],train[target])\n",
    "gsearch7.cv_results_, gsearch7.best_params_, gsearch7.best_score_"
   ]
  },
  {
   "cell_type": "markdown",
   "metadata": {},
   "source": [
    "Therefore the optimal value for `reg_value` is 0.0001."
   ]
  },
  {
   "cell_type": "code",
   "execution_count": 318,
   "metadata": {},
   "outputs": [
    {
     "name": "stdout",
     "output_type": "stream",
     "text": [
      "\n",
      "Model Report\n",
      "Accuracy : 0.8816\n",
      "AUC Score (Train): 0.953058\n"
     ]
    },
    {
     "data": {
      "image/png": "[encoded data removed]",
      "text/plain": [
       "<Figure size 864x288 with 1 Axes>"
      ]
     },
     "metadata": {
      "needs_background": "light"
     },
     "output_type": "display_data"
    }
   ],
   "source": [
    "xgb3 = XGBClassifier(\n",
    " learning_rate =0.1,\n",
    " n_estimators=1000,\n",
    " max_depth=10,\n",
    " min_child_weight=1,\n",
    " gamma=0.4,\n",
    " subsample=0.8,\n",
    " colsample_bytree=0.7,\n",
    " reg_alpha=0.0001,\n",
    " objective= 'binary:logistic',\n",
    " nthread=4,\n",
    " scale_pos_weight=1,\n",
    " seed=27)\n",
    "modelfit(xgb3, train, predictors)"
   ]
  },
  {
   "cell_type": "markdown",
   "metadata": {},
   "source": [
    "#### Step 6: Reducing Learning Rate\n",
    "Lastly, we should lower the learning rate and add more trees. \n"
   ]
  },
  {
   "cell_type": "code",
   "execution_count": 322,
   "metadata": {},
   "outputs": [
    {
     "name": "stdout",
     "output_type": "stream",
     "text": [
      "\n",
      "Model Report\n",
      "Accuracy : 0.8799\n",
      "AUC Score (Train): 0.953107\n"
     ]
    },
    {
     "data": {
      "image/png": "[encoded data removed]",
      "text/plain": [
       "<Figure size 864x288 with 1 Axes>"
      ]
     },
     "metadata": {
      "needs_background": "light"
     },
     "output_type": "display_data"
    }
   ],
   "source": [
    "xgb4 = XGBClassifier(\n",
    " learning_rate =0.01,\n",
    " n_estimators=5000,\n",
    " max_depth=10,\n",
    " min_child_weight=1,\n",
    " gamma=0.4,\n",
    " subsample=0.8,\n",
    " colsample_bytree=0.7,\n",
    " reg_alpha=0.0001,\n",
    " objective= 'binary:logistic',\n",
    " nthread=4,\n",
    " scale_pos_weight=1,\n",
    " seed=27)\n",
    "modelfit(xgb4, train, predictors)\n"
   ]
  },
  {
   "cell_type": "code",
   "execution_count": 328,
   "metadata": {},
   "outputs": [
    {
     "name": "stdout",
     "output_type": "stream",
     "text": [
      "Accuracy: 80.60%\n"
     ]
    },
    {
     "data": {
      "image/png": "[encoded data removed]",
      "text/plain": [
       "<Figure size 864x864 with 1 Axes>"
      ]
     },
     "metadata": {
      "needs_background": "light"
     },
     "output_type": "display_data"
    },
    {
     "data": {
      "image/png": "[encoded data removed]",
      "text/plain": [
       "<Figure size 864x864 with 1 Axes>"
      ]
     },
     "metadata": {
      "needs_background": "light"
     },
     "output_type": "display_data"
    }
   ],
   "source": [
    "from matplotlib import pyplot\n",
    "# retrieve performance metrics\n",
    "eval_set = [(X_train, y_train), (X_test, y_test)]\n",
    "\n",
    "xgb4.fit(X_train, y_train, eval_metric=[\"error\", \"logloss\"], eval_set=eval_set, verbose=False)\n",
    "    \n",
    "# make predictions for test data\n",
    "y_pred = xgb4.predict(X_test)\n",
    "predictions = [round(value) for value in y_pred]\n",
    "    \n",
    "# evaluate predictions\n",
    "accuracy = accuracy_score(y_test, predictions)\n",
    "print(\"Accuracy: %.2f%%\" % (accuracy * 100.0))\n",
    "    \n",
    "# retrieve performance metrics\n",
    "results = xgb4.evals_result()\n",
    "epochs = len(results['validation_0']['error'])\n",
    "x_axis = range(0, epochs)\n",
    "    \n",
    "# plot log loss\n",
    "fig, ax = pyplot.subplots(figsize=(12,12))\n",
    "ax.plot(x_axis, results['validation_0']['logloss'], label='Train')\n",
    "ax.plot(x_axis, results['validation_1']['logloss'], label='Test')\n",
    "ax.legend()\n",
    "    \n",
    "pyplot.ylabel('Log Loss')\n",
    "pyplot.title('XGBoost Log Loss')\n",
    "pyplot.show()\n",
    "    \n",
    "    \n",
    "# plot classification error\n",
    "fig, ax = pyplot.subplots(figsize=(12,12))\n",
    "ax.plot(x_axis, results['validation_0']['error'], label='Train')\n",
    "ax.plot(x_axis, results['validation_1']['error'], label='Test')\n",
    "ax.legend()\n",
    "    \n",
    "pyplot.ylabel('Classification Error')\n",
    "pyplot.title('XGBoost Classification Error')\n",
    "pyplot.show()"
   ]
  },
  {
   "cell_type": "markdown",
   "metadata": {},
   "source": [
    "We can see that the log loss for unseen test data is as low as 0.4, and classification error for unseen test data is as low as 0.2.\n",
    "\n",
    " \n",
    "\n",
    "With such low log loss and classification error in test data, we can conclude that the final model is robust and generalizes well to unseen data. Small perturbations in training data or the input space do not greatly affect the results. Therefore results from our model can be trusted to be reasonable and aligned with solution expectations, with appropriate final parameters. "
   ]
  },
  {
   "cell_type": "code",
   "execution_count": null,
   "metadata": {},
   "outputs": [],
   "source": []
  }
 ],
 "metadata": {
  "kernelspec": {
   "display_name": "Python 3",
   "language": "python",
   "name": "python3"
  },
  "language_info": {
   "codemirror_mode": {
    "name": "ipython",
    "version": 3
   },
   "file_extension": ".py",
   "mimetype": "text/x-python",
   "name": "python",
   "nbconvert_exporter": "python",
   "pygments_lexer": "ipython3",
   "version": "3.7.7"
  }
 },
 "nbformat": 4,
 "nbformat_minor": 2
}
